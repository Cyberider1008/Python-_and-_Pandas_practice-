{
 "cells": [
  {
   "cell_type": "code",
   "execution_count": 1,
   "id": "1988b545-e145-4bee-a33a-464e7fc20e22",
   "metadata": {},
   "outputs": [],
   "source": [
    "# https://www.w3resource.com/python-exercises/pandas/index-dataframe.php"
   ]
  },
  {
   "cell_type": "code",
   "execution_count": 2,
   "id": "1b53769a-d62e-4c9e-9e8d-d0070bc4d2d7",
   "metadata": {},
   "outputs": [],
   "source": [
    "import pandas as pd"
   ]
  },
  {
   "cell_type": "code",
   "execution_count": 3,
   "id": "b5d4f714-5b67-4c47-88c2-0265517da34a",
   "metadata": {},
   "outputs": [],
   "source": [
    "import numpy as np"
   ]
  },
  {
   "cell_type": "code",
   "execution_count": 4,
   "id": "5d0d2b46-a61e-49a1-8c8c-34269fa9b651",
   "metadata": {},
   "outputs": [],
   "source": [
    "# Write a Pandas program to convert a dictionary to a Pandas series."
   ]
  },
  {
   "cell_type": "code",
   "execution_count": 5,
   "id": "f3fc46a0-6004-4a08-a2c9-0bbb360b39f5",
   "metadata": {},
   "outputs": [],
   "source": [
    "dict1 = {'a':100, 'b':200, 'c':300, 'd':400}\n",
    "series = pd.Series(dict1)"
   ]
  },
  {
   "cell_type": "code",
   "execution_count": 6,
   "id": "f4d079ff-35e7-4b43-8184-73bca6407925",
   "metadata": {},
   "outputs": [
    {
     "data": {
      "text/plain": [
       "a    100\n",
       "b    200\n",
       "c    300\n",
       "d    400\n",
       "dtype: int64"
      ]
     },
     "execution_count": 6,
     "metadata": {},
     "output_type": "execute_result"
    }
   ],
   "source": [
    "series"
   ]
  },
  {
   "cell_type": "code",
   "execution_count": 7,
   "id": "3d428e06-99a4-462e-9f83-1a3f5aa3b6a8",
   "metadata": {},
   "outputs": [],
   "source": [
    "# Write a Pandas program to convert a NumPy array to a Pandas series."
   ]
  },
  {
   "cell_type": "code",
   "execution_count": 8,
   "id": "4259ecef-07ec-4738-b1b8-0562e89e04a6",
   "metadata": {},
   "outputs": [],
   "source": [
    "arr1 = np.array([10 ,20, 30, 40, 50])"
   ]
  },
  {
   "cell_type": "code",
   "execution_count": 9,
   "id": "e671fff4-e815-42b8-bd7e-bf948b439465",
   "metadata": {},
   "outputs": [
    {
     "data": {
      "text/plain": [
       "numpy.ndarray"
      ]
     },
     "execution_count": 9,
     "metadata": {},
     "output_type": "execute_result"
    }
   ],
   "source": [
    "type(arr1)"
   ]
  },
  {
   "cell_type": "code",
   "execution_count": 10,
   "id": "0bb9bcd7-671c-49d0-8b45-d9fa756eb282",
   "metadata": {},
   "outputs": [],
   "source": [
    "series_arr = pd.Series(arr1)"
   ]
  },
  {
   "cell_type": "code",
   "execution_count": 11,
   "id": "fc4ee48b-9c4d-4fcc-81af-dbe42311c46f",
   "metadata": {},
   "outputs": [
    {
     "data": {
      "text/plain": [
       "0    10\n",
       "1    20\n",
       "2    30\n",
       "3    40\n",
       "4    50\n",
       "dtype: int64"
      ]
     },
     "execution_count": 11,
     "metadata": {},
     "output_type": "execute_result"
    }
   ],
   "source": [
    "series_arr"
   ]
  },
  {
   "cell_type": "code",
   "execution_count": 12,
   "id": "d7ce8849-40c5-4e46-9526-b914af90c5fe",
   "metadata": {},
   "outputs": [],
   "source": [
    "# . Write a Pandas program to convert a given Series to an array."
   ]
  },
  {
   "cell_type": "code",
   "execution_count": 13,
   "id": "d3da8c75-3b67-4dba-8e6b-2fcd5ced363f",
   "metadata": {},
   "outputs": [],
   "source": [
    "arr_values = series.values"
   ]
  },
  {
   "cell_type": "code",
   "execution_count": 14,
   "id": "e9da0a72-9612-4f98-b199-0d0b9329fb82",
   "metadata": {},
   "outputs": [
    {
     "data": {
      "text/plain": [
       "numpy.ndarray"
      ]
     },
     "execution_count": 14,
     "metadata": {},
     "output_type": "execute_result"
    }
   ],
   "source": [
    "type(arr_values)"
   ]
  },
  {
   "cell_type": "code",
   "execution_count": 15,
   "id": "8604e6ef-7bb2-4bcd-ae21-ee3b9d9c97f2",
   "metadata": {},
   "outputs": [
    {
     "data": {
      "text/plain": [
       "0    100.00\n",
       "1    200.00\n",
       "3    300.12\n",
       "4    400.00\n",
       "2    500.00\n",
       "dtype: float64"
      ]
     },
     "execution_count": 15,
     "metadata": {},
     "output_type": "execute_result"
    }
   ],
   "source": [
    "# Write a Pandas program to sort a given Series.\n",
    "\n",
    "\n",
    "series\n",
    "\n",
    "series = pd.Series([100,200, 500, 300.12,400])\n",
    "\n",
    "series\n",
    "\n",
    "new_s = pd.Series(series).sort_values()\n",
    "\n",
    "new_s"
   ]
  },
  {
   "cell_type": "code",
   "execution_count": 16,
   "id": "0285863a-0339-4005-afa2-d47a7fc68e5d",
   "metadata": {},
   "outputs": [
    {
     "data": {
      "text/plain": [
       "0     100.0\n",
       "1     200.0\n",
       "2     500.0\n",
       "3    300.12\n",
       "4     400.0\n",
       "5    python\n",
       "6       600\n",
       "dtype: object"
      ]
     },
     "execution_count": 16,
     "metadata": {},
     "output_type": "execute_result"
    }
   ],
   "source": [
    "#Write a Pandas program to add some data to an existing Series.\n",
    "\n",
    "new_concat = pd.concat([series , pd.Series(['python', 600])] , ignore_index=True)\n",
    "\n",
    "new_concat\n",
    "\n"
   ]
  },
  {
   "cell_type": "code",
   "execution_count": 21,
   "id": "771b8324-2699-4edf-8e54-5aa489e94c47",
   "metadata": {},
   "outputs": [
    {
     "data": {
      "text/plain": [
       "array([4, 9, 5, 2, 5])"
      ]
     },
     "execution_count": 21,
     "metadata": {},
     "output_type": "execute_result"
    }
   ],
   "source": [
    "np.random.randint(2,10,5)"
   ]
  },
  {
   "cell_type": "code",
   "execution_count": 26,
   "id": "0e02c128-c9cb-4851-88c6-c086a785318e",
   "metadata": {},
   "outputs": [],
   "source": [
    "# Write a Pandas program to change the order of index of a given series.\n",
    "s = pd.Series(data = np.random.randint(2,10,5), index=[chr(n + 64) for n in range(1,6)])"
   ]
  },
  {
   "cell_type": "code",
   "execution_count": 27,
   "id": "51864e7b-65fb-4fa3-bbfa-3f1693224432",
   "metadata": {},
   "outputs": [
    {
     "data": {
      "text/plain": [
       "A    6\n",
       "B    7\n",
       "C    6\n",
       "D    5\n",
       "E    6\n",
       "dtype: int64"
      ]
     },
     "execution_count": 27,
     "metadata": {},
     "output_type": "execute_result"
    }
   ],
   "source": [
    "s"
   ]
  },
  {
   "cell_type": "code",
   "execution_count": null,
   "id": "1b545582-e0ed-4c63-90b7-6799ffe11c49",
   "metadata": {},
   "outputs": [],
   "source": [
    "re_index = s.reindex(index=['B','A','C','D','E'])\n",
    "\n"
   ]
  },
  {
   "cell_type": "code",
   "execution_count": null,
   "id": "db86876a-6280-46d7-b6b0-818486bc0f4f",
   "metadata": {},
   "outputs": [],
   "source": [
    "re_index"
   ]
  },
  {
   "cell_type": "code",
   "execution_count": null,
   "id": "c0f768a4-dac4-4164-85d5-f5a1b49eb1ea",
   "metadata": {},
   "outputs": [],
   "source": [
    "    # program to find the positions of numbers that are multiples of 5 of a given series.\n",
    "num_series = pd.Series(np.random.randint(1,30,9))\n",
    "\n",
    "\n",
    "num_series\n",
    "\n",
    "res = np.where(num_series % 5 == 0)\n",
    "\n",
    "res"
   ]
  },
  {
   "cell_type": "code",
   "execution_count": null,
   "id": "88b1f5a1-6377-47dc-82d3-a3708712c775",
   "metadata": {},
   "outputs": [],
   "source": [
    "# program convert the first and last character of each word to upper case in each word of a given series.\n",
    "s = pd.Series(data = ['php', 'python', 'java', 'c#'])\n",
    "\n",
    "s\n",
    "\n",
    "new_s = s.map(lambda x : x[0].upper()+x[1:-1]+x[-1].upper())\n",
    "\n",
    "new_s"
   ]
  },
  {
   "cell_type": "code",
   "execution_count": null,
   "id": "b42cb310-a6e5-4d6a-abf6-322d4d7ffbc3",
   "metadata": {},
   "outputs": [],
   "source": [
    "# Write a Pandas program to calculate the number of characters in each word in a given series.\n",
    "new_count = s.map(lambda n : len(n))\n",
    "\n",
    "new_count"
   ]
  },
  {
   "cell_type": "code",
   "execution_count": null,
   "id": "407caccb-f03a-4e1d-8283-eb0bb2db1ae4",
   "metadata": {},
   "outputs": [],
   "source": [
    "char_list = list('ABCDEFGHIJKLMNOP')\n",
    "num_arra = list(range(1,8))\n",
    "num_dict = dict(zip(char_list, num_arra))"
   ]
  },
  {
   "cell_type": "code",
   "execution_count": null,
   "id": "4d6cad4e-a3a6-48fe-9d83-d0e3a083eee1",
   "metadata": {},
   "outputs": [],
   "source": [
    "num_dict"
   ]
  },
  {
   "cell_type": "code",
   "execution_count": null,
   "id": "66abaa6e-d88a-4318-aef5-0ee22cb25d8b",
   "metadata": {},
   "outputs": [],
   "source": [
    "# Write a Pandas program to create a dataframe from a dictionary and display it.\n",
    "# Sample data: {'X':[78,85,96,80,86], 'Y':[84,94,89,83,86],'Z':[86,97,96,72,83]}\n",
    "\n",
    "dict1 = {'X':[78,85,96,80,86], 'Y':[84,94,89,83,86],'Z':[86,97,96,72,83]}\n",
    "df = pd.DataFrame(dict1)\n",
    "df"
   ]
  },
  {
   "cell_type": "code",
   "execution_count": null,
   "id": "76e464d2-66fe-4981-93da-d6c2c3e94ed4",
   "metadata": {},
   "outputs": [],
   "source": [
    "# Write a Pandas program to create and display a DataFrame from a specified dictionary data which has the index labels."
   ]
  },
  {
   "cell_type": "code",
   "execution_count": null,
   "id": "db24c11e-3a02-4dab-b6b6-cfc8e458ce35",
   "metadata": {},
   "outputs": [],
   "source": [
    "exam_data = {'name': ['Anastasia', 'Dima', 'Katherine', 'James', 'Emily', 'Michael', 'Matthew', 'Laura', 'Kevin', 'Jonas'],\n",
    "'score': [12.5, 9, 16.5, np.nan, 9, 20, 14.5, np.nan, 8, 19],\n",
    "'attempts': [1, 3, 2, 3, 2, 3, 1, 1, 2, 1],\n",
    "'qualify': ['yes', 'no', 'yes', 'no', 'no', 'yes', 'yes', 'no', 'no', 'yes']}\n",
    "labels = ['a', 'b', 'c', 'd', 'e', 'f', 'g', 'h', 'i', 'j']\n"
   ]
  },
  {
   "cell_type": "code",
   "execution_count": null,
   "id": "969dad8b-ea48-49ee-8235-003404a2876f",
   "metadata": {},
   "outputs": [],
   "source": [
    "df = pd.DataFrame(data = exam_data, index= labels)"
   ]
  },
  {
   "cell_type": "code",
   "execution_count": null,
   "id": "d2e276aa-8ac8-4877-b7a3-f9f6a97fc1a0",
   "metadata": {},
   "outputs": [],
   "source": [
    "df"
   ]
  },
  {
   "cell_type": "code",
   "execution_count": null,
   "id": "c018120b-cab9-4008-a87d-12ae0e0d77a2",
   "metadata": {},
   "outputs": [],
   "source": [
    "# Write a Pandas program to get the first 3 rows of a given DataFrame."
   ]
  },
  {
   "cell_type": "code",
   "execution_count": null,
   "id": "78ad2135-4350-4fef-87fe-67b868b2bc66",
   "metadata": {},
   "outputs": [],
   "source": [
    "df.head(3)"
   ]
  },
  {
   "cell_type": "code",
   "execution_count": null,
   "id": "6705df78-8579-4e8d-9a07-74bbfdd2958f",
   "metadata": {},
   "outputs": [],
   "source": [
    "df[df['attempts'] > 2]"
   ]
  },
  {
   "cell_type": "code",
   "execution_count": null,
   "id": "9077b1c9-2f94-40ea-9eda-011378ed4863",
   "metadata": {},
   "outputs": [],
   "source": [
    "df.query('attempts > 2 ')"
   ]
  },
  {
   "cell_type": "code",
   "execution_count": null,
   "id": "581dd4d6-f6b4-4e8c-b922-481f5623b604",
   "metadata": {},
   "outputs": [],
   "source": [
    "df[df.attempts > 2]"
   ]
  },
  {
   "cell_type": "code",
   "execution_count": null,
   "id": "5edee025-8495-460f-9209-3bab679afe40",
   "metadata": {},
   "outputs": [],
   "source": [
    "# Write a Pandas program to count the number of rows and columns of a DataFrame."
   ]
  },
  {
   "cell_type": "code",
   "execution_count": null,
   "id": "dc22d2df-621b-4e3c-a26c-cc33623c5450",
   "metadata": {},
   "outputs": [],
   "source": [
    "print(f\"number of rows{len(df.axes[0])}\")"
   ]
  },
  {
   "cell_type": "code",
   "execution_count": null,
   "id": "ac7b6b16-5021-4acf-a278-a00226805078",
   "metadata": {},
   "outputs": [],
   "source": [
    "print(f\"number of columns{len(df.axes[1])}\")"
   ]
  },
  {
   "cell_type": "code",
   "execution_count": null,
   "id": "0c45b22b-0f35-443d-b1fc-73a7269f948f",
   "metadata": {},
   "outputs": [],
   "source": [
    "# Write a  Pandas program to select the rows where the score is missing, i.e. is NaN."
   ]
  },
  {
   "cell_type": "code",
   "execution_count": null,
   "id": "4cb5d674-7c1b-457e-bcc6-7424cd5fe477",
   "metadata": {},
   "outputs": [],
   "source": [
    "df[df['score'].isnull()]"
   ]
  },
  {
   "cell_type": "code",
   "execution_count": null,
   "id": "f151acc4-2353-4ee9-a05c-f6d2aba70185",
   "metadata": {},
   "outputs": [],
   "source": [
    "# Write a Pandas program to select the rows the score is between 15 and 20 (inclusive).\n"
   ]
  },
  {
   "cell_type": "code",
   "execution_count": null,
   "id": "a0ddb3f9-ca63-4b04-9fda-8133fe153975",
   "metadata": {},
   "outputs": [],
   "source": [
    "df.query('score >= 15 and score <= 20')"
   ]
  },
  {
   "cell_type": "code",
   "execution_count": null,
   "id": "36312c2e-7bbd-4aaa-b42d-9fba636cd29d",
   "metadata": {},
   "outputs": [],
   "source": [
    "print(df[df['score'].between(15, 20)])"
   ]
  },
  {
   "cell_type": "code",
   "execution_count": null,
   "id": "82242f39-44b2-4754-b100-943f4c439454",
   "metadata": {},
   "outputs": [],
   "source": [
    "# Write a Pandas program to select the rows where number of attempts in the examination is less than 2 and score greater than 15."
   ]
  },
  {
   "cell_type": "code",
   "execution_count": null,
   "id": "c5b24fd9-1686-47b9-a32a-001e6ae52392",
   "metadata": {},
   "outputs": [],
   "source": [
    "df.query('attempts < 2 and score >15')"
   ]
  },
  {
   "cell_type": "code",
   "execution_count": null,
   "id": "6a040beb-9ca7-447d-b701-c106f54f0d5b",
   "metadata": {},
   "outputs": [],
   "source": [
    "# Write a  Pandas program to calculate the sum of the examination attempts by the students.\n"
   ]
  },
  {
   "cell_type": "code",
   "execution_count": null,
   "id": "983be72b-51f6-48a9-b288-32e3a2876796",
   "metadata": {},
   "outputs": [],
   "source": [
    "df['attempts'].sum()"
   ]
  },
  {
   "cell_type": "code",
   "execution_count": null,
   "id": "b8cbdde5-7953-4eeb-be72-3abefe880f6d",
   "metadata": {},
   "outputs": [],
   "source": [
    "# Write a Pandas program to sort the DataFrame first by 'name' in descending order, then by 'score' in ascending order."
   ]
  },
  {
   "cell_type": "code",
   "execution_count": null,
   "id": "c6e3bbd5-9f5a-40ae-8046-5575b0de9a6d",
   "metadata": {},
   "outputs": [],
   "source": [
    "df.sort_values(by=['name','score'], ascending=[False, True])"
   ]
  },
  {
   "cell_type": "code",
   "execution_count": null,
   "id": "24721a18-dae3-47f0-9299-72e55c6b2400",
   "metadata": {},
   "outputs": [],
   "source": [
    "# Write a  Pandas program to replace the 'qualify' column contains the values 'yes' and 'no' with True and False."
   ]
  },
  {
   "cell_type": "code",
   "execution_count": null,
   "id": "d0e47d13-4095-4f78-9d2d-d85f496cc398",
   "metadata": {},
   "outputs": [],
   "source": [
    "df['qualify'] = df['qualify'].map({'yes': True, 'no': False})"
   ]
  },
  {
   "cell_type": "code",
   "execution_count": null,
   "id": "156fd7d7-e11c-4096-9265-515286e28986",
   "metadata": {},
   "outputs": [],
   "source": [
    "df"
   ]
  },
  {
   "cell_type": "code",
   "execution_count": null,
   "id": "d0f6098c-f037-4ef0-aa51-c114ec88ce66",
   "metadata": {},
   "outputs": [],
   "source": [
    "# Write a Pandas program to change the name 'James' to 'Suresh' in name column of the DataFrame."
   ]
  },
  {
   "cell_type": "code",
   "execution_count": null,
   "id": "a7d9c506-3f07-4698-bdec-9e9cd2b100c2",
   "metadata": {},
   "outputs": [],
   "source": [
    "df['name'] = df['name'].replace('James', 'Suresh')"
   ]
  },
  {
   "cell_type": "code",
   "execution_count": null,
   "id": "6f7690ce-9273-4aaa-a08d-49750c694a53",
   "metadata": {},
   "outputs": [],
   "source": [
    "df"
   ]
  },
  {
   "cell_type": "code",
   "execution_count": null,
   "id": "da06e010-df6d-4c6e-854f-03e39c427801",
   "metadata": {},
   "outputs": [],
   "source": [
    " # Write a Pandas program to delete the 'attempts' column from the DataFrame."
   ]
  },
  {
   "cell_type": "code",
   "execution_count": null,
   "id": "000a9ebc-c4fe-4593-96d1-b9fd3506500f",
   "metadata": {},
   "outputs": [],
   "source": [
    "df.pop('attempts')\n",
    "# df.drop('attempts', axis=1)"
   ]
  },
  {
   "cell_type": "code",
   "execution_count": null,
   "id": "1156ee79-0ad4-4ba9-af4b-5a9fe64f9281",
   "metadata": {},
   "outputs": [],
   "source": [
    "df"
   ]
  },
  {
   "cell_type": "code",
   "execution_count": null,
   "id": "822a4231-07c8-4106-ab50-f6132fcac311",
   "metadata": {},
   "outputs": [],
   "source": [
    "color = ['Red','Blue','Orange','Red','White','White','Blue','Green','Green','Red']\n",
    "df['color'] = color"
   ]
  },
  {
   "cell_type": "code",
   "execution_count": null,
   "id": "ff9a1ced-31be-493a-bb15-4f9a68f36f5b",
   "metadata": {},
   "outputs": [],
   "source": [
    "df"
   ]
  },
  {
   "cell_type": "code",
   "execution_count": null,
   "id": "a3c51b36-c9b3-4c42-9727-88c17511b12d",
   "metadata": {},
   "outputs": [],
   "source": [
    "# Write a  Pandas program to iterate over rows in a DataFrame.\n",
    "exam_data = [{'name':'Anastasia', 'score':12.5}, {'name':'Dima','score':9}, {'name':'Katherine','score':16.5}]\n",
    "df = pd.DataFrame(exam_data)\n",
    "for index, row in df.iterrows():\n",
    "    print(row['name'], row['score'])"
   ]
  },
  {
   "cell_type": "code",
   "execution_count": null,
   "id": "80471a78-40d8-47da-8749-302504da8cfa",
   "metadata": {},
   "outputs": [],
   "source": [
    "# Write a Pandas program to count city wise number of people from a given of data set (city, name of the person).\n",
    "df1 = pd.DataFrame({'name': ['Anastasia', 'Dima', 'Katherine', 'James', 'Emily', 'Michael', 'Matthew', 'Laura', 'Kevin', 'Jonas'],\n",
    "'city': ['California', 'Los Angeles', 'California', 'California', 'California', 'Los Angeles', 'Los Angeles', 'Georgia', 'Georgia', 'Los Angeles']})\n",
    "g1 = df1.groupby([\"city\"]).size().reset_index(name='Number of people')\n",
    "print(g1)"
   ]
  },
  {
   "cell_type": "code",
   "execution_count": null,
   "id": "454831ad-55fd-4758-8b51-3931182c010b",
   "metadata": {},
   "outputs": [],
   "source": [
    "# write a Pandas program to drop a list of rows from a specified DataFrame.\n",
    "d = {'col1': [1, 4, 3, 4, 5], 'col2': [4, 5, 6, 7, 8], 'col3': [7, 8, 9, 0, 1]}\n",
    "df = pd.DataFrame(d)\n",
    "print(\"Original DataFrame\")\n",
    "print(df)\n",
    "print(\"New DataFrame after removing 2nd & 4th rows:\")\n",
    "df = df.drop(df.index[[2,4]])\n",
    "print(df)\n"
   ]
  },
  {
   "cell_type": "code",
   "execution_count": null,
   "id": "4a9aca08-6d82-414f-a3ea-fd1ee90a40ec",
   "metadata": {},
   "outputs": [],
   "source": [
    "# Write a Pandas program to get a list of a specified column of a DataFrame."
   ]
  },
  {
   "cell_type": "code",
   "execution_count": null,
   "id": "d5f6dff3-1cfe-427d-a257-d6ee4f811640",
   "metadata": {},
   "outputs": [],
   "source": [
    "d = {'col1': [1, 2, 3], 'col2': [4, 5, 6], 'col3': [7, 8, 9]}\n",
    "df = pd.DataFrame(data=d)\n",
    "print(\"Original DataFrame\")\n",
    "print(df)\n",
    "col2_list = df[\"col2\"].tolist()\n",
    "print(\"Col2 of the DataFrame to list:\")\n",
    "print(col2_list)\n"
   ]
  },
  {
   "cell_type": "code",
   "execution_count": null,
   "id": "17841008-126f-4ad9-a2d7-5c5a386477cc",
   "metadata": {},
   "outputs": [],
   "source": [
    "# Write a Pandas program to find the row for where the value of a given column is maximum.\n"
   ]
  },
  {
   "cell_type": "code",
   "execution_count": null,
   "id": "fe5bc4f5-6ca4-49c6-b144-0c62163d5430",
   "metadata": {},
   "outputs": [],
   "source": [
    "d = {'col1': [1, 2, 3, 4, 7], 'col2': [4, 5, 6, 9, 5], 'col3': [7, 8, 12, 1, 11]}\n",
    "df = pd.DataFrame(data=d)\n",
    "print(\"Original DataFrame\")\n",
    "print(df)\n",
    "print(\"Row where col1 has maximum value:\")\n",
    "print(df['col1'].argmax())\n",
    "print(\"Row where col2 has maximum value:\")\n",
    "print(df['col2'].argmax())\n",
    "print(\"Row where col3 has maximum value:\")\n",
    "print(df['col3'].argmax())"
   ]
  },
  {
   "cell_type": "code",
   "execution_count": null,
   "id": "697e2bed-d948-4e32-803a-e4734b252b4f",
   "metadata": {},
   "outputs": [],
   "source": []
  }
 ],
 "metadata": {
  "kernelspec": {
   "display_name": "Python 3 (ipykernel)",
   "language": "python",
   "name": "python3"
  },
  "language_info": {
   "codemirror_mode": {
    "name": "ipython",
    "version": 3
   },
   "file_extension": ".py",
   "mimetype": "text/x-python",
   "name": "python",
   "nbconvert_exporter": "python",
   "pygments_lexer": "ipython3",
   "version": "3.10.5"
  }
 },
 "nbformat": 4,
 "nbformat_minor": 5
}
