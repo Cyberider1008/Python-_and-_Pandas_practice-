{
 "cells": [
  {
   "cell_type": "raw",
   "id": "d8156cc2-6e5b-4535-adff-fa91dc99c7c6",
   "metadata": {},
   "source": [
    "*\n",
    "**\n",
    "***\n",
    "****"
   ]
  },
  {
   "cell_type": "code",
   "execution_count": 9,
   "id": "caa33366-6977-4b62-9ba3-039de0f45b43",
   "metadata": {
    "scrolled": true
   },
   "outputs": [
    {
     "name": "stdout",
     "output_type": "stream",
     "text": [
      "*   \n",
      "**  \n",
      "*** \n",
      "****\n"
     ]
    }
   ],
   "source": [
    "for i in range(1,5):\n",
    "    for j in range(1,5):\n",
    "        if i>=j:\n",
    "            print(\"*\", end=\"\")\n",
    "        else:\n",
    "            print(\" \",end=\"\")\n",
    "    print()"
   ]
  },
  {
   "cell_type": "raw",
   "id": "35cc3495-0fd5-4c11-8260-08cafdf7bc20",
   "metadata": {},
   "source": [
    "print star pattern \n",
    "   *\n",
    "  **\n",
    " ***\n",
    "****"
   ]
  },
  {
   "cell_type": "code",
   "execution_count": 4,
   "id": "a87c1207-2733-460a-a01f-3cf7f7b8578c",
   "metadata": {},
   "outputs": [
    {
     "name": "stdout",
     "output_type": "stream",
     "text": [
      "   *\n",
      "  **\n",
      " ***\n",
      "****\n"
     ]
    }
   ],
   "source": [
    "for i in range(1,5):\n",
    "    for j in range(1,5):\n",
    "        if j >= 5-i:\n",
    "            print(\"*\",end=\"\")\n",
    "        else:\n",
    "            print(\" \",end=\"\")\n",
    "    print()\n",
    "        "
   ]
  },
  {
   "cell_type": "raw",
   "id": "60713a70-8626-4528-967c-3d1c5ba98331",
   "metadata": {},
   "source": [
    "#star pattern 3\n",
    "****\n",
    "***\n",
    "**\n",
    "*\n"
   ]
  },
  {
   "cell_type": "code",
   "execution_count": 10,
   "id": "a7b7bb35-804c-4bc8-8b90-fe74ecadef37",
   "metadata": {},
   "outputs": [
    {
     "name": "stdout",
     "output_type": "stream",
     "text": [
      "****\n",
      "*** \n",
      "**  \n",
      "*   \n"
     ]
    }
   ],
   "source": [
    "for i in range(1,5):\n",
    "    for j in range(1,5):\n",
    "        if j <= 5-i:\n",
    "            print(\"*\",end=\"\")\n",
    "        else:\n",
    "            print(\" \",end=\"\")\n",
    "    print()"
   ]
  },
  {
   "cell_type": "raw",
   "id": "1361f145-aaed-4828-a879-f87c8a7d961e",
   "metadata": {},
   "source": [
    "star pattern 4\n",
    "****\n",
    " ***\n",
    "  **\n",
    "   *"
   ]
  },
  {
   "cell_type": "code",
   "execution_count": 2,
   "id": "df938833-391f-4376-bf76-21e27cf3895c",
   "metadata": {},
   "outputs": [
    {
     "name": "stdout",
     "output_type": "stream",
     "text": [
      "****\n",
      " ***\n",
      "  **\n",
      "   *\n"
     ]
    }
   ],
   "source": [
    "for i in range(1,5):\n",
    "    for j in range(1,5):\n",
    "        if j >= i:\n",
    "            print(\"*\", end=\"\")\n",
    "        else:\n",
    "            print(\" \", end=\"\")\n",
    "    print()"
   ]
  },
  {
   "cell_type": "raw",
   "id": "41f1daec-fea1-4a0c-a2a6-7046e9360a6c",
   "metadata": {},
   "source": [
    "star pattern 4\n",
    "\n",
    "   *\n",
    "  ***\n",
    " *****\n",
    "*******\n",
    "\n"
   ]
  },
  {
   "cell_type": "code",
   "execution_count": 3,
   "id": "0aeaae1d-ca1f-4b65-842d-f4e8107d41b4",
   "metadata": {},
   "outputs": [
    {
     "name": "stdout",
     "output_type": "stream",
     "text": [
      "   *   \n",
      "  ***  \n",
      " ***** \n",
      "*******\n"
     ]
    }
   ],
   "source": [
    "for i in range(1,5):\n",
    "    for j in range(1,8):\n",
    "        if j >= 5-i and j <= 3+i:\n",
    "            print(\"*\", end=\"\")\n",
    "        else:\n",
    "            print(\" \", end=\"\")\n",
    "    print()"
   ]
  },
  {
   "cell_type": "code",
   "execution_count": 1,
   "id": "06bff2ea-2fdb-430e-8128-0107045954f2",
   "metadata": {},
   "outputs": [],
   "source": [
    "#again i solve star pattern "
   ]
  },
  {
   "cell_type": "code",
   "execution_count": 1,
   "id": "265b1003-6bfe-4082-ba83-4a802f07c165",
   "metadata": {},
   "outputs": [
    {
     "name": "stdout",
     "output_type": "stream",
     "text": [
      "* \n",
      "* * \n",
      "* * * \n",
      "* * * * \n",
      "* * * * * \n"
     ]
    }
   ],
   "source": [
    "n = 5\n",
    "for i in range(n):\n",
    "    for j in range(i+1):\n",
    "        print(\"*\", end=\" \")\n",
    "    print()"
   ]
  },
  {
   "cell_type": "code",
   "execution_count": 15,
   "id": "6da52139-ddf9-408d-88fb-9c2aee166c6e",
   "metadata": {},
   "outputs": [
    {
     "name": "stdout",
     "output_type": "stream",
     "text": [
      "* * * * \n",
      "* * * \n",
      "* * \n",
      "* \n"
     ]
    }
   ],
   "source": [
    "n= 4\n",
    "for i in range(n,0,-1):\n",
    "    for j in range(0,i):\n",
    "        print(\"*\", end=\" \")\n",
    "    print()"
   ]
  },
  {
   "cell_type": "code",
   "execution_count": 4,
   "id": "5336337c-f663-486e-a8d7-2af84cd0ea17",
   "metadata": {},
   "outputs": [
    {
     "name": "stdout",
     "output_type": "stream",
     "text": [
      "* \n",
      "* * * \n",
      "* * * * * \n",
      "* * * * * * * \n",
      "* * * * * * * * * \n"
     ]
    }
   ],
   "source": [
    "n = 5\n",
    "k = 1\n",
    "for i in range(n):\n",
    "    for j in range(k):\n",
    "        print(\"*\", end=\" \")\n",
    "    k += 2\n",
    "    print()"
   ]
  },
  {
   "cell_type": "code",
   "execution_count": 5,
   "id": "c7770007-5d4e-4d91-93c2-6cb0cb4d644f",
   "metadata": {},
   "outputs": [
    {
     "name": "stdout",
     "output_type": "stream",
     "text": [
      "    * \n",
      "   * * \n",
      "  * * * \n",
      " * * * * \n",
      "* * * * * \n"
     ]
    }
   ],
   "source": [
    "n = 5\n",
    "for i in range(n):\n",
    "    for j in range(n-i-1):\n",
    "        print(end=\" \")\n",
    "    for j in range(i+1):\n",
    "        print(\"*\", end=\" \")\n",
    "    print()\n"
   ]
  },
  {
   "cell_type": "code",
   "execution_count": 6,
   "id": "783dff0a-bc86-4b80-8ac0-22b2c6a1c0ed",
   "metadata": {},
   "outputs": [
    {
     "name": "stdout",
     "output_type": "stream",
     "text": [
      "* * * * * \n",
      " * * * * \n",
      "  * * * \n",
      "   * * \n",
      "    * \n"
     ]
    }
   ],
   "source": [
    "n = 5\n",
    "for i in range(n,0,-1):\n",
    "    for j in range(n-i):\n",
    "        print(end=\" \")\n",
    "    for j in range(i):\n",
    "        print(\"*\", end=\" \")\n",
    "    print()\n",
    "    "
   ]
  },
  {
   "cell_type": "code",
   "execution_count": 14,
   "id": "94784c08-6c27-4d8d-81fd-14bc92cacad2",
   "metadata": {},
   "outputs": [
    {
     "name": "stdout",
     "output_type": "stream",
     "text": [
      "   * \n",
      "  * * \n",
      " * * * \n",
      "* * * * \n",
      " * * * \n",
      "  * * \n",
      "   * \n"
     ]
    }
   ],
   "source": [
    "n= 4\n",
    "for i in range(n):\n",
    "    print(\" \"*(n-i-1)+\"* \"*(i+1))\n",
    "for j in range(n-1,0,-1):\n",
    "    print(\" \"*(n-j)+\"* \"*(j))\n",
    "    "
   ]
  },
  {
   "cell_type": "code",
   "execution_count": 2,
   "id": "d17b220f-a4ed-44c7-a736-b3ba04603170",
   "metadata": {},
   "outputs": [
    {
     "name": "stdout",
     "output_type": "stream",
     "text": [
      "*          *\n",
      "**        **\n",
      "***      ***\n",
      "****    ****\n",
      "*****  *****\n",
      "*****  *****\n",
      "****    ****\n",
      "***      ***\n",
      "**        **\n",
      "*          *\n"
     ]
    }
   ],
   "source": [
    "n = 5 \n",
    "for i in range(1,n+1):\n",
    "    print(\"*\"*i,end=\" \")\n",
    "    print(\" \"*(n-i)*2,end=\" \")\n",
    "    print(\"*\"*i)\n",
    "    \n",
    "\n",
    "for i in range(n,0,-1):\n",
    "    print(\"*\"*i, end=\" \")\n",
    "    print(\" \"*(n-i)*2,end=\" \")\n",
    "    print(\"*\"*i)"
   ]
  }
 ],
 "metadata": {
  "kernelspec": {
   "display_name": "Python 3 (ipykernel)",
   "language": "python",
   "name": "python3"
  },
  "language_info": {
   "codemirror_mode": {
    "name": "ipython",
    "version": 3
   },
   "file_extension": ".py",
   "mimetype": "text/x-python",
   "name": "python",
   "nbconvert_exporter": "python",
   "pygments_lexer": "ipython3",
   "version": "3.10.5"
  }
 },
 "nbformat": 4,
 "nbformat_minor": 5
}
