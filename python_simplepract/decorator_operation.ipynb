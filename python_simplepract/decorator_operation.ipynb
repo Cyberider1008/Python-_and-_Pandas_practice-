{
 "cells": [
  {
   "cell_type": "code",
   "execution_count": 1,
   "id": "a99a8fa9-fbc7-444d-8bcd-1dc2afcfe7d0",
   "metadata": {},
   "outputs": [],
   "source": [
    "#we use decorator "
   ]
  },
  {
   "cell_type": "code",
   "execution_count": 14,
   "id": "282c3cf2-4edc-41e8-b8a4-ffbd1fa94ef7",
   "metadata": {},
   "outputs": [],
   "source": [
    "def check_name(func):\n",
    "    def inner(name):\n",
    "        if name in [\"ashish\",\"rahul\",\"akash\"]:\n",
    "            print(\"hello\"+name)\n",
    "        else:\n",
    "            return func\n",
    "    return inner"
   ]
  },
  {
   "cell_type": "code",
   "execution_count": 15,
   "id": "efbfc4ce-5a58-4aec-b087-2bed94de60f0",
   "metadata": {},
   "outputs": [],
   "source": [
    "def speak(name):\n",
    "    print(name)"
   ]
  },
  {
   "cell_type": "code",
   "execution_count": 16,
   "id": "0652a21c-1f95-4bf0-a18e-06bf9ab5ecde",
   "metadata": {},
   "outputs": [
    {
     "name": "stdout",
     "output_type": "stream",
     "text": [
      "ashish\n"
     ]
    }
   ],
   "source": [
    "speak(\"ashish\")"
   ]
  },
  {
   "cell_type": "code",
   "execution_count": 17,
   "id": "1e37232d-9884-455d-8a58-7e95891ab638",
   "metadata": {},
   "outputs": [
    {
     "name": "stdout",
     "output_type": "stream",
     "text": [
      "rahul\n"
     ]
    }
   ],
   "source": [
    "speak(\"rahul\")"
   ]
  },
  {
   "cell_type": "code",
   "execution_count": 18,
   "id": "bf497dc6-957c-43ea-8bf6-9569b04f428e",
   "metadata": {},
   "outputs": [],
   "source": [
    "w = check_name(speak)"
   ]
  },
  {
   "cell_type": "code",
   "execution_count": 19,
   "id": "c52162ae-5b52-4d06-91e4-4687952ff785",
   "metadata": {},
   "outputs": [
    {
     "name": "stdout",
     "output_type": "stream",
     "text": [
      "hellorahul\n"
     ]
    }
   ],
   "source": [
    "w(\"rahul\")"
   ]
  },
  {
   "cell_type": "code",
   "execution_count": 20,
   "id": "0dd2e579-a14e-415e-9fdc-b7660385d5ec",
   "metadata": {},
   "outputs": [
    {
     "name": "stdout",
     "output_type": "stream",
     "text": [
      "helloashish\n"
     ]
    }
   ],
   "source": [
    "w(\"ashish\")"
   ]
  }
 ],
 "metadata": {
  "kernelspec": {
   "display_name": "Python 3 (ipykernel)",
   "language": "python",
   "name": "python3"
  },
  "language_info": {
   "codemirror_mode": {
    "name": "ipython",
    "version": 3
   },
   "file_extension": ".py",
   "mimetype": "text/x-python",
   "name": "python",
   "nbconvert_exporter": "python",
   "pygments_lexer": "ipython3",
   "version": "3.10.5"
  }
 },
 "nbformat": 4,
 "nbformat_minor": 5
}
