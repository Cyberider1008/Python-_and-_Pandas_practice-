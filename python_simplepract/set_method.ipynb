{
 "cells": [
  {
   "cell_type": "code",
   "execution_count": 1,
   "id": "5fa2d979-11cb-44b3-aa44-6f22aa7f60d7",
   "metadata": {},
   "outputs": [],
   "source": [
    "#all set here"
   ]
  },
  {
   "cell_type": "code",
   "execution_count": 2,
   "id": "8dfc5aca-8d46-4418-9553-e2521e53a6ff",
   "metadata": {},
   "outputs": [],
   "source": [
    "set1 = {'ashish','rahul'}"
   ]
  },
  {
   "cell_type": "code",
   "execution_count": 3,
   "id": "70fc4b00-7bfd-4a1e-a9b4-a861004ec874",
   "metadata": {},
   "outputs": [],
   "source": [
    "set2 = set(('ritesh','babu'))"
   ]
  },
  {
   "cell_type": "code",
   "execution_count": 4,
   "id": "9728c0fc-c429-4fe6-a78d-c680eef33794",
   "metadata": {},
   "outputs": [
    {
     "data": {
      "text/plain": [
       "set"
      ]
     },
     "execution_count": 4,
     "metadata": {},
     "output_type": "execute_result"
    }
   ],
   "source": [
    "type(set1)"
   ]
  },
  {
   "cell_type": "code",
   "execution_count": 5,
   "id": "3d3ea70a-ca4e-4b63-b5d6-3d502cc7afc5",
   "metadata": {},
   "outputs": [
    {
     "data": {
      "text/plain": [
       "set"
      ]
     },
     "execution_count": 5,
     "metadata": {},
     "output_type": "execute_result"
    }
   ],
   "source": [
    "type(set2)"
   ]
  },
  {
   "cell_type": "code",
   "execution_count": 6,
   "id": "9c8761d1-fc1d-4689-a933-0382f61ccbb4",
   "metadata": {},
   "outputs": [],
   "source": [
    "set1.add(\"rahul\")"
   ]
  },
  {
   "cell_type": "code",
   "execution_count": 7,
   "id": "f1536327-f553-4689-a142-ddbb30b055cf",
   "metadata": {},
   "outputs": [],
   "source": [
    "set1.add(\"arav\")"
   ]
  },
  {
   "cell_type": "code",
   "execution_count": 12,
   "id": "e6c2b7b3-9b5c-4cd7-adcd-e27a455d5cfa",
   "metadata": {},
   "outputs": [
    {
     "data": {
      "text/plain": [
       "{'arav', 'ashish', 'rahul'}"
      ]
     },
     "execution_count": 12,
     "metadata": {},
     "output_type": "execute_result"
    }
   ],
   "source": [
    "set1"
   ]
  },
  {
   "cell_type": "code",
   "execution_count": 13,
   "id": "ad97e5ce-779d-43b7-97ba-1f463af4e7cc",
   "metadata": {},
   "outputs": [],
   "source": [
    "set1.update(set2)"
   ]
  },
  {
   "cell_type": "code",
   "execution_count": 14,
   "id": "d6e0243a-a865-4957-b425-9630f63ed53b",
   "metadata": {},
   "outputs": [
    {
     "data": {
      "text/plain": [
       "{'arav', 'ashish', 'babu', 'rahul', 'ritesh'}"
      ]
     },
     "execution_count": 14,
     "metadata": {},
     "output_type": "execute_result"
    }
   ],
   "source": [
    "set1"
   ]
  },
  {
   "cell_type": "code",
   "execution_count": 17,
   "id": "4474c5f3-dc6d-47e4-a190-fb6ac70113ad",
   "metadata": {},
   "outputs": [
    {
     "ename": "KeyError",
     "evalue": "'ashish'",
     "output_type": "error",
     "traceback": [
      "\u001b[0;31m---------------------------------------------------------------------------\u001b[0m",
      "\u001b[0;31mKeyError\u001b[0m                                  Traceback (most recent call last)",
      "Cell \u001b[0;32mIn[17], line 1\u001b[0m\n\u001b[0;32m----> 1\u001b[0m \u001b[43mset1\u001b[49m\u001b[38;5;241;43m.\u001b[39;49m\u001b[43mremove\u001b[49m\u001b[43m(\u001b[49m\u001b[38;5;124;43m'\u001b[39;49m\u001b[38;5;124;43mashish\u001b[39;49m\u001b[38;5;124;43m'\u001b[39;49m\u001b[43m)\u001b[49m\n",
      "\u001b[0;31mKeyError\u001b[0m: 'ashish'"
     ]
    }
   ],
   "source": [
    "set1.remove('ashish')"
   ]
  },
  {
   "cell_type": "code",
   "execution_count": 16,
   "id": "9e9d6e63-3132-400d-aa61-073905d51ec0",
   "metadata": {},
   "outputs": [
    {
     "data": {
      "text/plain": [
       "{'arav', 'babu', 'rahul', 'ritesh'}"
      ]
     },
     "execution_count": 16,
     "metadata": {},
     "output_type": "execute_result"
    }
   ],
   "source": [
    "set1"
   ]
  },
  {
   "cell_type": "code",
   "execution_count": 18,
   "id": "4a3df008-f0bb-49d5-b4fb-c1bce915e064",
   "metadata": {},
   "outputs": [],
   "source": [
    "set1.discard('rahul')"
   ]
  },
  {
   "cell_type": "code",
   "execution_count": 19,
   "id": "687a1415-07ff-4dfd-8113-343f40c98479",
   "metadata": {},
   "outputs": [
    {
     "data": {
      "text/plain": [
       "{'arav', 'babu', 'ritesh'}"
      ]
     },
     "execution_count": 19,
     "metadata": {},
     "output_type": "execute_result"
    }
   ],
   "source": [
    "set1"
   ]
  },
  {
   "cell_type": "code",
   "execution_count": 20,
   "id": "4689bf7e-5dce-4cd9-96c6-93d81a7973bd",
   "metadata": {},
   "outputs": [],
   "source": [
    "set1.discard('rahul')"
   ]
  },
  {
   "cell_type": "code",
   "execution_count": 21,
   "id": "ebb71fd4-fdc8-4917-9471-53044c920d06",
   "metadata": {},
   "outputs": [],
   "source": [
    "del set2"
   ]
  },
  {
   "cell_type": "code",
   "execution_count": 22,
   "id": "2e1afd79-cc1d-4efa-9702-0ed32f84052b",
   "metadata": {},
   "outputs": [
    {
     "ename": "NameError",
     "evalue": "name 'set2' is not defined",
     "output_type": "error",
     "traceback": [
      "\u001b[0;31m---------------------------------------------------------------------------\u001b[0m",
      "\u001b[0;31mNameError\u001b[0m                                 Traceback (most recent call last)",
      "Cell \u001b[0;32mIn[22], line 1\u001b[0m\n\u001b[0;32m----> 1\u001b[0m \u001b[43mset2\u001b[49m\n",
      "\u001b[0;31mNameError\u001b[0m: name 'set2' is not defined"
     ]
    }
   ],
   "source": [
    "set2"
   ]
  },
  {
   "cell_type": "code",
   "execution_count": 25,
   "id": "a2773479-9d72-4fd4-ab6e-fa54df034c61",
   "metadata": {},
   "outputs": [],
   "source": [
    "set2={1,2,3,4,5,5}"
   ]
  },
  {
   "cell_type": "code",
   "execution_count": 26,
   "id": "2aec881b-28d3-4c5b-8e68-875114772821",
   "metadata": {},
   "outputs": [
    {
     "data": {
      "text/plain": [
       "{1, 2, 3, 4, 5}"
      ]
     },
     "execution_count": 26,
     "metadata": {},
     "output_type": "execute_result"
    }
   ],
   "source": [
    "set2"
   ]
  },
  {
   "cell_type": "code",
   "execution_count": 27,
   "id": "52117968-d1d6-45a9-adf0-7bc186ef5067",
   "metadata": {},
   "outputs": [
    {
     "data": {
      "text/plain": [
       "{1, 2, 3, 4, 5, 'arav', 'babu', 'ritesh'}"
      ]
     },
     "execution_count": 27,
     "metadata": {},
     "output_type": "execute_result"
    }
   ],
   "source": [
    "set1.union(set2)"
   ]
  },
  {
   "cell_type": "code",
   "execution_count": 28,
   "id": "e7e0646b-4cc1-4a87-b2d3-248332e9498a",
   "metadata": {},
   "outputs": [
    {
     "data": {
      "text/plain": [
       "{'arav', 'babu', 'ritesh'}"
      ]
     },
     "execution_count": 28,
     "metadata": {},
     "output_type": "execute_result"
    }
   ],
   "source": [
    "set1"
   ]
  },
  {
   "cell_type": "code",
   "execution_count": 29,
   "id": "70c78df1-d326-4792-8240-86b0614025e5",
   "metadata": {},
   "outputs": [],
   "source": [
    "set1.add(\"rahul\")"
   ]
  },
  {
   "cell_type": "code",
   "execution_count": 30,
   "id": "2405dc7a-1612-4b8e-a1ad-87dd30a45e66",
   "metadata": {},
   "outputs": [
    {
     "data": {
      "text/plain": [
       "{'arav', 'babu', 'rahul', 'ritesh'}"
      ]
     },
     "execution_count": 30,
     "metadata": {},
     "output_type": "execute_result"
    }
   ],
   "source": [
    "set1"
   ]
  },
  {
   "cell_type": "code",
   "execution_count": 31,
   "id": "8b7b01a8-5fd8-4b72-ba05-c9b1a8141f10",
   "metadata": {},
   "outputs": [],
   "source": [
    "set3= set1.copy()"
   ]
  },
  {
   "cell_type": "code",
   "execution_count": 32,
   "id": "255b52c2-9943-4606-831a-909b9e75a47c",
   "metadata": {},
   "outputs": [
    {
     "data": {
      "text/plain": [
       "{'arav', 'babu', 'rahul', 'ritesh'}"
      ]
     },
     "execution_count": 32,
     "metadata": {},
     "output_type": "execute_result"
    }
   ],
   "source": [
    "set3"
   ]
  },
  {
   "cell_type": "code",
   "execution_count": 33,
   "id": "d3a6625f-430f-44e0-9d46-72b9bb99d82d",
   "metadata": {},
   "outputs": [],
   "source": [
    "set3.clear()"
   ]
  },
  {
   "cell_type": "code",
   "execution_count": 34,
   "id": "21ea85c0-2de2-4930-b37d-bc3bf709a8a1",
   "metadata": {},
   "outputs": [
    {
     "data": {
      "text/plain": [
       "set()"
      ]
     },
     "execution_count": 34,
     "metadata": {},
     "output_type": "execute_result"
    }
   ],
   "source": [
    "set3"
   ]
  },
  {
   "cell_type": "code",
   "execution_count": 35,
   "id": "5708cf86-9f2f-41d9-b0c9-a8ea2b39efac",
   "metadata": {},
   "outputs": [],
   "source": [
    "del set3"
   ]
  },
  {
   "cell_type": "code",
   "execution_count": 37,
   "id": "1d9127f2-df78-4808-b9d2-3f65a718be4e",
   "metadata": {},
   "outputs": [
    {
     "data": {
      "text/plain": [
       "{'arav', 'babu', 'rahul', 'ritesh'}"
      ]
     },
     "execution_count": 37,
     "metadata": {},
     "output_type": "execute_result"
    }
   ],
   "source": [
    "set1.difference(set2)"
   ]
  },
  {
   "cell_type": "markdown",
   "id": "96a79ed5-08d5-4f77-9f2b-cd10ebe627f5",
   "metadata": {},
   "source": [
    "**all set methods again**"
   ]
  },
  {
   "cell_type": "code",
   "execution_count": 1,
   "id": "c1f3bd3d-6ff7-453a-9daf-6f490a33c7d5",
   "metadata": {},
   "outputs": [],
   "source": [
    "fs = frozenset((1,2,3))"
   ]
  },
  {
   "cell_type": "code",
   "execution_count": 2,
   "id": "cb325369-ba2f-4ec9-834c-409d8c5630d9",
   "metadata": {},
   "outputs": [
    {
     "data": {
      "text/plain": [
       "frozenset"
      ]
     },
     "execution_count": 2,
     "metadata": {},
     "output_type": "execute_result"
    }
   ],
   "source": [
    "type(fs)"
   ]
  },
  {
   "cell_type": "code",
   "execution_count": 3,
   "id": "2232bc20-e8de-4035-a2b3-7b6ccbc39ed4",
   "metadata": {},
   "outputs": [
    {
     "data": {
      "text/plain": [
       "frozenset({1, 2, 3})"
      ]
     },
     "execution_count": 3,
     "metadata": {},
     "output_type": "execute_result"
    }
   ],
   "source": [
    "fs"
   ]
  },
  {
   "cell_type": "code",
   "execution_count": 4,
   "id": "c96de9ac-c1d4-411c-b502-0b407c508893",
   "metadata": {},
   "outputs": [
    {
     "ename": "AttributeError",
     "evalue": "'frozenset' object has no attribute 'add'",
     "output_type": "error",
     "traceback": [
      "\u001b[0;31m---------------------------------------------------------------------------\u001b[0m",
      "\u001b[0;31mAttributeError\u001b[0m                            Traceback (most recent call last)",
      "Cell \u001b[0;32mIn[4], line 1\u001b[0m\n\u001b[0;32m----> 1\u001b[0m \u001b[43mfs\u001b[49m\u001b[38;5;241;43m.\u001b[39;49m\u001b[43madd\u001b[49m(\u001b[38;5;124m\"\u001b[39m\u001b[38;5;124mashish\u001b[39m\u001b[38;5;124m\"\u001b[39m)\n",
      "\u001b[0;31mAttributeError\u001b[0m: 'frozenset' object has no attribute 'add'"
     ]
    }
   ],
   "source": [
    "fs.add(\"ashish\")"
   ]
  },
  {
   "cell_type": "code",
   "execution_count": 5,
   "id": "abf35716-a36f-4449-a82f-733e2dd66b21",
   "metadata": {},
   "outputs": [
    {
     "ename": "TypeError",
     "evalue": "'frozenset' object does not support item assignment",
     "output_type": "error",
     "traceback": [
      "\u001b[0;31m---------------------------------------------------------------------------\u001b[0m",
      "\u001b[0;31mTypeError\u001b[0m                                 Traceback (most recent call last)",
      "Cell \u001b[0;32mIn[5], line 1\u001b[0m\n\u001b[0;32m----> 1\u001b[0m \u001b[43mfs\u001b[49m\u001b[43m[\u001b[49m\u001b[38;5;241;43m1\u001b[39;49m\u001b[43m]\u001b[49m\u001b[38;5;241m=\u001b[39m\u001b[38;5;124m\"\u001b[39m\u001b[38;5;124mrahul\u001b[39m\u001b[38;5;124m\"\u001b[39m\n",
      "\u001b[0;31mTypeError\u001b[0m: 'frozenset' object does not support item assignment"
     ]
    }
   ],
   "source": [
    "fs[1]=\"rahul\""
   ]
  },
  {
   "cell_type": "code",
   "execution_count": null,
   "id": "8883f70f-9f83-4265-8853-6d6218893194",
   "metadata": {},
   "outputs": [],
   "source": []
  }
 ],
 "metadata": {
  "kernelspec": {
   "display_name": "Python 3 (ipykernel)",
   "language": "python",
   "name": "python3"
  },
  "language_info": {
   "codemirror_mode": {
    "name": "ipython",
    "version": 3
   },
   "file_extension": ".py",
   "mimetype": "text/x-python",
   "name": "python",
   "nbconvert_exporter": "python",
   "pygments_lexer": "ipython3",
   "version": "3.10.5"
  }
 },
 "nbformat": 4,
 "nbformat_minor": 5
}
