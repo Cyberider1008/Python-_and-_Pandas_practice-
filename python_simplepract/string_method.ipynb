{
 "cells": [
  {
   "cell_type": "code",
   "execution_count": 1,
   "id": "c96d63b9-d969-45b1-8700-1abd52b19da2",
   "metadata": {},
   "outputs": [],
   "source": [
    "s = 'ashishkumar'"
   ]
  },
  {
   "cell_type": "markdown",
   "id": "55a17d32-5145-40cf-a3a3-ef1d70557764",
   "metadata": {},
   "source": [
    "**all string method here**"
   ]
  },
  {
   "cell_type": "code",
   "execution_count": 2,
   "id": "a1477311-e38b-4b10-b108-3ad4fb6d3e7d",
   "metadata": {},
   "outputs": [
    {
     "data": {
      "text/plain": [
       "'ASHISHKUMAR'"
      ]
     },
     "execution_count": 2,
     "metadata": {},
     "output_type": "execute_result"
    }
   ],
   "source": [
    "s.upper()"
   ]
  },
  {
   "cell_type": "code",
   "execution_count": 3,
   "id": "75f0b87b-3e11-4a92-9b3f-c0b854bb53ad",
   "metadata": {},
   "outputs": [
    {
     "data": {
      "text/plain": [
       "'ashishkumar'"
      ]
     },
     "execution_count": 3,
     "metadata": {},
     "output_type": "execute_result"
    }
   ],
   "source": [
    "s"
   ]
  },
  {
   "cell_type": "code",
   "execution_count": 4,
   "id": "e5441db1-4d00-4952-ac33-bc458b145b0c",
   "metadata": {
    "scrolled": true
   },
   "outputs": [
    {
     "data": {
      "text/plain": [
       "'ashishkumar'"
      ]
     },
     "execution_count": 4,
     "metadata": {},
     "output_type": "execute_result"
    }
   ],
   "source": [
    "s.lower()"
   ]
  },
  {
   "cell_type": "code",
   "execution_count": 5,
   "id": "e116ec39-b535-4785-aed2-86e116f8cbbb",
   "metadata": {},
   "outputs": [
    {
     "data": {
      "text/plain": [
       "'Ashishkumar'"
      ]
     },
     "execution_count": 5,
     "metadata": {},
     "output_type": "execute_result"
    }
   ],
   "source": [
    "s.capitalize()"
   ]
  },
  {
   "cell_type": "code",
   "execution_count": 5,
   "id": "f24791f8-3517-4897-886b-d7df0c409557",
   "metadata": {},
   "outputs": [
    {
     "data": {
      "text/plain": [
       "'ashishkumar'"
      ]
     },
     "execution_count": 5,
     "metadata": {},
     "output_type": "execute_result"
    }
   ],
   "source": [
    "s.casefold()"
   ]
  },
  {
   "cell_type": "code",
   "execution_count": 6,
   "id": "8eaf06c7-5098-420b-a45d-7349e93189cf",
   "metadata": {},
   "outputs": [
    {
     "data": {
      "text/plain": [
       "'uuuuuuuuuuuuuuuuuuuashishkumaruuuuuuuuuuuuuuuuuuuu'"
      ]
     },
     "execution_count": 6,
     "metadata": {},
     "output_type": "execute_result"
    }
   ],
   "source": [
    "s.center(50,'u')"
   ]
  },
  {
   "cell_type": "markdown",
   "id": "9228f009-711c-4f9a-8e3e-3a7a997e7fc7",
   "metadata": {},
   "source": [
    "whenever we count the word capital and lower are diffrent"
   ]
  },
  {
   "cell_type": "code",
   "execution_count": 7,
   "id": "dd55b107-f68b-4083-8848-8e9dc97447cd",
   "metadata": {},
   "outputs": [
    {
     "data": {
      "text/plain": [
       "2"
      ]
     },
     "execution_count": 7,
     "metadata": {},
     "output_type": "execute_result"
    }
   ],
   "source": [
    "b ='AAaa'\n",
    "b.count('a')"
   ]
  },
  {
   "cell_type": "code",
   "execution_count": 8,
   "id": "2effdf77-5df7-493d-9b4e-81b1c4df25bc",
   "metadata": {},
   "outputs": [
    {
     "data": {
      "text/plain": [
       "2"
      ]
     },
     "execution_count": 8,
     "metadata": {},
     "output_type": "execute_result"
    }
   ],
   "source": [
    "s.count('a')"
   ]
  },
  {
   "cell_type": "code",
   "execution_count": 9,
   "id": "bafdbcde-f619-4f9a-b23b-5b24d77a41ff",
   "metadata": {},
   "outputs": [
    {
     "data": {
      "text/plain": [
       "True"
      ]
     },
     "execution_count": 9,
     "metadata": {},
     "output_type": "execute_result"
    }
   ],
   "source": [
    "s.endswith('r')"
   ]
  },
  {
   "cell_type": "code",
   "execution_count": 10,
   "id": "adf1e789-c714-4e3e-896e-6634bbfb0055",
   "metadata": {},
   "outputs": [
    {
     "data": {
      "text/plain": [
       "10"
      ]
     },
     "execution_count": 10,
     "metadata": {},
     "output_type": "execute_result"
    }
   ],
   "source": [
    "s.find('r')"
   ]
  },
  {
   "cell_type": "code",
   "execution_count": 11,
   "id": "06dd1775-a0dc-4c41-8a57-eec5c8e28bee",
   "metadata": {},
   "outputs": [
    {
     "data": {
      "text/plain": [
       "'r'"
      ]
     },
     "execution_count": 11,
     "metadata": {},
     "output_type": "execute_result"
    }
   ],
   "source": [
    "s[10]"
   ]
  },
  {
   "cell_type": "code",
   "execution_count": 12,
   "id": "3bb7ad56-743a-47d2-a07b-286dcdc9d3db",
   "metadata": {},
   "outputs": [
    {
     "data": {
      "text/plain": [
       "True"
      ]
     },
     "execution_count": 12,
     "metadata": {},
     "output_type": "execute_result"
    }
   ],
   "source": [
    "s.isalnum()"
   ]
  },
  {
   "cell_type": "code",
   "execution_count": 13,
   "id": "6ecdffad-a638-496f-b022-6848b6408fe1",
   "metadata": {},
   "outputs": [
    {
     "data": {
      "text/plain": [
       "False"
      ]
     },
     "execution_count": 13,
     "metadata": {},
     "output_type": "execute_result"
    }
   ],
   "source": [
    "s.isdigit()"
   ]
  },
  {
   "cell_type": "code",
   "execution_count": 14,
   "id": "96f775c5-fa72-421e-a82c-08891055329c",
   "metadata": {},
   "outputs": [
    {
     "data": {
      "text/plain": [
       "True"
      ]
     },
     "execution_count": 14,
     "metadata": {},
     "output_type": "execute_result"
    }
   ],
   "source": [
    "s.isalpha()"
   ]
  },
  {
   "cell_type": "code",
   "execution_count": 15,
   "id": "5a8166fc-fe84-47f1-88b3-432d406bd4c5",
   "metadata": {},
   "outputs": [
    {
     "data": {
      "text/plain": [
       "False"
      ]
     },
     "execution_count": 15,
     "metadata": {},
     "output_type": "execute_result"
    }
   ],
   "source": [
    "s.isdecimal()"
   ]
  },
  {
   "cell_type": "code",
   "execution_count": 16,
   "id": "33b3b052-ed58-4544-b78e-c8cc347618cf",
   "metadata": {},
   "outputs": [
    {
     "data": {
      "text/plain": [
       "True"
      ]
     },
     "execution_count": 16,
     "metadata": {},
     "output_type": "execute_result"
    }
   ],
   "source": [
    "s.isidentifier()"
   ]
  },
  {
   "cell_type": "code",
   "execution_count": 17,
   "id": "f9d71288-ab10-47d2-9d8f-b15f6e262378",
   "metadata": {},
   "outputs": [
    {
     "data": {
      "text/plain": [
       "False"
      ]
     },
     "execution_count": 17,
     "metadata": {},
     "output_type": "execute_result"
    }
   ],
   "source": [
    "s.isnumeric()"
   ]
  },
  {
   "cell_type": "code",
   "execution_count": 18,
   "id": "e6668045-60c2-41aa-9c33-c17f8ec745d4",
   "metadata": {},
   "outputs": [
    {
     "data": {
      "text/plain": [
       "False"
      ]
     },
     "execution_count": 18,
     "metadata": {},
     "output_type": "execute_result"
    }
   ],
   "source": [
    "s.isspace()"
   ]
  },
  {
   "cell_type": "code",
   "execution_count": 19,
   "id": "36e3bf6e-14ad-41af-b5a1-d317da3b9724",
   "metadata": {},
   "outputs": [
    {
     "data": {
      "text/plain": [
       "False"
      ]
     },
     "execution_count": 19,
     "metadata": {},
     "output_type": "execute_result"
    }
   ],
   "source": [
    "b = '   hello   '\n",
    "\n",
    "b.isspace()"
   ]
  },
  {
   "cell_type": "code",
   "execution_count": 20,
   "id": "5761d41b-369e-4f79-8124-82da74c3a5bb",
   "metadata": {},
   "outputs": [
    {
     "data": {
      "text/plain": [
       "False"
      ]
     },
     "execution_count": 20,
     "metadata": {},
     "output_type": "execute_result"
    }
   ],
   "source": [
    "s.istitle()"
   ]
  },
  {
   "cell_type": "code",
   "execution_count": 21,
   "id": "d6d02840-9211-41ec-9488-b99f5d8f1654",
   "metadata": {},
   "outputs": [
    {
     "data": {
      "text/plain": [
       "'-'"
      ]
     },
     "execution_count": 21,
     "metadata": {},
     "output_type": "execute_result"
    }
   ],
   "source": [
    "s.join('-')"
   ]
  },
  {
   "cell_type": "code",
   "execution_count": 22,
   "id": "07d53083-9629-4998-9e03-f103b65c5a2e",
   "metadata": {},
   "outputs": [
    {
     "data": {
      "text/plain": [
       "'ashishkumar'"
      ]
     },
     "execution_count": 22,
     "metadata": {},
     "output_type": "execute_result"
    }
   ],
   "source": [
    "s.lstrip()\n"
   ]
  },
  {
   "cell_type": "code",
   "execution_count": 23,
   "id": "803510e1-34e1-4068-9c82-6800ad5d5c38",
   "metadata": {},
   "outputs": [
    {
     "data": {
      "text/plain": [
       "'ASHISHKUMAR'"
      ]
     },
     "execution_count": 23,
     "metadata": {},
     "output_type": "execute_result"
    }
   ],
   "source": [
    "s.swapcase()"
   ]
  },
  {
   "cell_type": "code",
   "execution_count": 24,
   "id": "a11e00ef-950c-4d98-9fc2-cbb5f971c7f7",
   "metadata": {},
   "outputs": [
    {
     "data": {
      "text/plain": [
       "'Ashishkumar'"
      ]
     },
     "execution_count": 24,
     "metadata": {},
     "output_type": "execute_result"
    }
   ],
   "source": [
    "s.title()"
   ]
  },
  {
   "cell_type": "code",
   "execution_count": 25,
   "id": "fc553c87-5f49-461a-9536-d19f5d935023",
   "metadata": {},
   "outputs": [
    {
     "data": {
      "text/plain": [
       "'ashishkumar'"
      ]
     },
     "execution_count": 25,
     "metadata": {},
     "output_type": "execute_result"
    }
   ],
   "source": [
    "s\n"
   ]
  },
  {
   "cell_type": "code",
   "execution_count": 26,
   "id": "50cbab1b-eb61-4555-b037-84c95aa99395",
   "metadata": {},
   "outputs": [
    {
     "data": {
      "text/plain": [
       "'ashishkumar'"
      ]
     },
     "execution_count": 26,
     "metadata": {},
     "output_type": "execute_result"
    }
   ],
   "source": [
    "s[::]"
   ]
  },
  {
   "cell_type": "code",
   "execution_count": 27,
   "id": "ab452a7c-a52d-48ae-96fa-6e52f4650fb8",
   "metadata": {},
   "outputs": [
    {
     "data": {
      "text/plain": [
       "'shishkumar'"
      ]
     },
     "execution_count": 27,
     "metadata": {},
     "output_type": "execute_result"
    }
   ],
   "source": [
    "s[1:]"
   ]
  },
  {
   "cell_type": "code",
   "execution_count": 28,
   "id": "da3c113e-10b6-499c-85ad-2b4901798887",
   "metadata": {},
   "outputs": [
    {
     "data": {
      "text/plain": [
       "'ashi'"
      ]
     },
     "execution_count": 28,
     "metadata": {},
     "output_type": "execute_result"
    }
   ],
   "source": [
    "s[:4]"
   ]
  },
  {
   "cell_type": "code",
   "execution_count": 29,
   "id": "7b85e7ea-6dc5-4bce-b5e3-f5ec3d927a37",
   "metadata": {},
   "outputs": [
    {
     "data": {
      "text/plain": [
       "'zshishkumzr'"
      ]
     },
     "execution_count": 29,
     "metadata": {},
     "output_type": "execute_result"
    }
   ],
   "source": [
    "s.replace('a','z')"
   ]
  },
  {
   "cell_type": "code",
   "execution_count": 30,
   "id": "c6b47e05-0624-4d4e-b0cf-44f6649170af",
   "metadata": {},
   "outputs": [
    {
     "data": {
      "text/plain": [
       "'ASHISHKUMAR'"
      ]
     },
     "execution_count": 30,
     "metadata": {},
     "output_type": "execute_result"
    }
   ],
   "source": [
    "s.swapcase()"
   ]
  },
  {
   "cell_type": "code",
   "execution_count": 32,
   "id": "80dafd5a-fc79-4597-bd94-de2c6471453f",
   "metadata": {},
   "outputs": [
    {
     "data": {
      "text/plain": [
       "'ASHISHKUMAR'"
      ]
     },
     "execution_count": 32,
     "metadata": {},
     "output_type": "execute_result"
    }
   ],
   "source": [
    "s.swapcase()"
   ]
  },
  {
   "cell_type": "code",
   "execution_count": null,
   "id": "32cbc257-cc7a-4947-9b03-b271b10aa01b",
   "metadata": {},
   "outputs": [],
   "source": []
  }
 ],
 "metadata": {
  "kernelspec": {
   "display_name": "Python 3 (ipykernel)",
   "language": "python",
   "name": "python3"
  },
  "language_info": {
   "codemirror_mode": {
    "name": "ipython",
    "version": 3
   },
   "file_extension": ".py",
   "mimetype": "text/x-python",
   "name": "python",
   "nbconvert_exporter": "python",
   "pygments_lexer": "ipython3",
   "version": "3.10.5"
  }
 },
 "nbformat": 4,
 "nbformat_minor": 5
}
