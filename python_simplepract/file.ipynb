{
 "cells": [
  {
   "cell_type": "code",
   "execution_count": 2,
   "id": "53f90d9e-7ae8-430c-afef-550a5150046c",
   "metadata": {},
   "outputs": [],
   "source": [
    "#create file\n",
    "try:\n",
    "    with open('temp.txt', 'w') as f:\n",
    "        f.write(\"hello\")\n",
    "        f.write(\"hi\")\n",
    "except IOError:\n",
    "    print(\"something is wrong\")"
   ]
  },
  {
   "cell_type": "code",
   "execution_count": 3,
   "id": "e331e5d5-e18c-4e08-b6a0-6cda395ae37b",
   "metadata": {},
   "outputs": [
    {
     "name": "stdout",
     "output_type": "stream",
     "text": [
      "hellohi\n"
     ]
    }
   ],
   "source": [
    "#read file\n",
    "try:\n",
    "    with open('temp.txt', 'r') as f:\n",
    "        print(f.read())\n",
    "except IOError:\n",
    "    print(\"wrong\")\n",
    "        "
   ]
  },
  {
   "cell_type": "code",
   "execution_count": 8,
   "id": "141e287d-4061-42a3-8e4c-12b6b3373d6d",
   "metadata": {},
   "outputs": [],
   "source": [
    "#overwite file\n",
    "try:\n",
    "    with open('temp.txt', 'a') as f:\n",
    "        f.write(\"\\n this is new line1\\n\")\n",
    "        f.write(\"this is new line2\")\n",
    "except IOError:\n",
    "    print(\"error\")"
   ]
  },
  {
   "cell_type": "code",
   "execution_count": 9,
   "id": "e7ee66f6-afb5-4916-9cd7-964356028144",
   "metadata": {},
   "outputs": [
    {
     "name": "stdout",
     "output_type": "stream",
     "text": [
      "hellohi\n",
      " this is new line\n",
      "this is new line\n",
      " this is new line\n",
      "this is new line\n",
      " this is new line1\n",
      "this is new line2\n"
     ]
    }
   ],
   "source": [
    "#read file\n",
    "try:\n",
    "    with open('temp.txt', 'r') as f:\n",
    "        print(f.read())\n",
    "except IOError:\n",
    "    print(\"wrong\")\n",
    "        "
   ]
  },
  {
   "cell_type": "code",
   "execution_count": null,
   "id": "c7dc5648-7ef8-4cca-bcb6-c66d4d188894",
   "metadata": {},
   "outputs": [],
   "source": []
  }
 ],
 "metadata": {
  "kernelspec": {
   "display_name": "Python 3 (ipykernel)",
   "language": "python",
   "name": "python3"
  },
  "language_info": {
   "codemirror_mode": {
    "name": "ipython",
    "version": 3
   },
   "file_extension": ".py",
   "mimetype": "text/x-python",
   "name": "python",
   "nbconvert_exporter": "python",
   "pygments_lexer": "ipython3",
   "version": "3.10.5"
  }
 },
 "nbformat": 4,
 "nbformat_minor": 5
}
