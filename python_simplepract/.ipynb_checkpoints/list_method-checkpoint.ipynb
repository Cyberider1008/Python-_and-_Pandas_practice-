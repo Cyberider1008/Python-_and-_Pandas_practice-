{
 "cells": [
  {
   "cell_type": "markdown",
   "id": "1030d1f0-a830-4a36-a72a-f5a78be3d08a",
   "metadata": {},
   "source": [
    "**all list method try**"
   ]
  },
  {
   "cell_type": "code",
   "execution_count": 1,
   "id": "1a35c9a6-c5f5-4515-a3a8-d7b552c60a1c",
   "metadata": {},
   "outputs": [],
   "source": [
    "l1 = ['ashish','rahul','ritesh','goli']"
   ]
  },
  {
   "cell_type": "code",
   "execution_count": 2,
   "id": "0fc90a82-fd5f-422c-aa68-87902391114b",
   "metadata": {},
   "outputs": [
    {
     "data": {
      "text/plain": [
       "['ashish', 'rahul', 'ritesh', 'goli']"
      ]
     },
     "execution_count": 2,
     "metadata": {},
     "output_type": "execute_result"
    }
   ],
   "source": [
    "l1"
   ]
  },
  {
   "cell_type": "code",
   "execution_count": 3,
   "id": "f61f44d0-e01d-4f7d-b976-ec733147057f",
   "metadata": {},
   "outputs": [
    {
     "data": {
      "text/plain": [
       "4"
      ]
     },
     "execution_count": 3,
     "metadata": {},
     "output_type": "execute_result"
    }
   ],
   "source": [
    "len(l1)"
   ]
  },
  {
   "cell_type": "code",
   "execution_count": 5,
   "id": "fe1beaed-3a3c-427e-b05c-643762cbe3f3",
   "metadata": {},
   "outputs": [
    {
     "data": {
      "text/plain": [
       "['rahul']"
      ]
     },
     "execution_count": 5,
     "metadata": {},
     "output_type": "execute_result"
    }
   ],
   "source": [
    "l1[-3:-2]"
   ]
  },
  {
   "cell_type": "code",
   "execution_count": 9,
   "id": "cb864496-27b6-4ac1-8683-9613bf81bac7",
   "metadata": {},
   "outputs": [
    {
     "data": {
      "text/plain": [
       "True"
      ]
     },
     "execution_count": 9,
     "metadata": {},
     "output_type": "execute_result"
    }
   ],
   "source": [
    "True if('rahul' in l1) else False"
   ]
  },
  {
   "cell_type": "code",
   "execution_count": 10,
   "id": "c03d95db-94b5-458c-986a-7f3cb535adae",
   "metadata": {},
   "outputs": [],
   "source": [
    "#add item any specific index"
   ]
  },
  {
   "cell_type": "code",
   "execution_count": 11,
   "id": "c73d0c56-8627-47cc-9671-404b1f86fa4b",
   "metadata": {},
   "outputs": [],
   "source": [
    "l1[2]='raghav'"
   ]
  },
  {
   "cell_type": "code",
   "execution_count": 12,
   "id": "dbb5cc4b-0a7a-4527-99ea-5b13b96c4964",
   "metadata": {},
   "outputs": [
    {
     "data": {
      "text/plain": [
       "['ashish', 'rahul', 'raghav', 'goli']"
      ]
     },
     "execution_count": 12,
     "metadata": {},
     "output_type": "execute_result"
    }
   ],
   "source": [
    "l1"
   ]
  },
  {
   "cell_type": "code",
   "execution_count": 13,
   "id": "fe97d4f8-0f34-4451-9718-d47fb5b86260",
   "metadata": {},
   "outputs": [],
   "source": [
    "l1.insert(2,'ritesh')"
   ]
  },
  {
   "cell_type": "code",
   "execution_count": 14,
   "id": "2563f950-4c10-4ead-844f-a06946b11035",
   "metadata": {},
   "outputs": [
    {
     "data": {
      "text/plain": [
       "['ashish', 'rahul', 'ritesh', 'raghav', 'goli']"
      ]
     },
     "execution_count": 14,
     "metadata": {},
     "output_type": "execute_result"
    }
   ],
   "source": [
    "l1"
   ]
  },
  {
   "cell_type": "code",
   "execution_count": 15,
   "id": "95d29d06-bd7b-4c75-b535-0c0246a13a39",
   "metadata": {},
   "outputs": [],
   "source": [
    "#henever end the add items"
   ]
  },
  {
   "cell_type": "code",
   "execution_count": 16,
   "id": "395a9573-b6d8-4775-bbeb-7208def308c0",
   "metadata": {},
   "outputs": [],
   "source": [
    "l1.append(\"viha\")"
   ]
  },
  {
   "cell_type": "code",
   "execution_count": 17,
   "id": "d0ebb2b7-b744-49ac-8d5a-49d8bdd8f149",
   "metadata": {},
   "outputs": [
    {
     "data": {
      "text/plain": [
       "['ashish', 'rahul', 'ritesh', 'raghav', 'goli', 'viha']"
      ]
     },
     "execution_count": 17,
     "metadata": {},
     "output_type": "execute_result"
    }
   ],
   "source": [
    "l1"
   ]
  },
  {
   "cell_type": "code",
   "execution_count": 18,
   "id": "3a023460-fec5-408a-af52-efb9058192b6",
   "metadata": {},
   "outputs": [],
   "source": [
    "l2 = ['shubham','aman','modi']"
   ]
  },
  {
   "cell_type": "code",
   "execution_count": 19,
   "id": "00c6c95b-5a49-4687-bab1-0181f986ab10",
   "metadata": {},
   "outputs": [],
   "source": [
    "l1.extend(l2)"
   ]
  },
  {
   "cell_type": "code",
   "execution_count": 20,
   "id": "ce2812ef-7d1d-44f7-9d03-e32d446e4542",
   "metadata": {},
   "outputs": [
    {
     "data": {
      "text/plain": [
       "['ashish',\n",
       " 'rahul',\n",
       " 'ritesh',\n",
       " 'raghav',\n",
       " 'goli',\n",
       " 'viha',\n",
       " 'shubham',\n",
       " 'aman',\n",
       " 'modi']"
      ]
     },
     "execution_count": 20,
     "metadata": {},
     "output_type": "execute_result"
    }
   ],
   "source": [
    "l1"
   ]
  },
  {
   "cell_type": "code",
   "execution_count": 21,
   "id": "fa01c4e0-0711-4ac2-8160-fad99a5df5dd",
   "metadata": {},
   "outputs": [],
   "source": [
    "#any object add like tuple set"
   ]
  },
  {
   "cell_type": "code",
   "execution_count": 22,
   "id": "ad18153f-f869-481c-951e-c9e974cbf415",
   "metadata": {},
   "outputs": [],
   "source": [
    "t = ('kumar')"
   ]
  },
  {
   "cell_type": "code",
   "execution_count": 23,
   "id": "34665484-b225-4f32-a515-73dffb8ff9d0",
   "metadata": {},
   "outputs": [],
   "source": [
    "l1.extend(t)"
   ]
  },
  {
   "cell_type": "code",
   "execution_count": 24,
   "id": "472eb2a0-4c79-4c94-957e-e7e0285c8cd5",
   "metadata": {},
   "outputs": [
    {
     "data": {
      "text/plain": [
       "['ashish',\n",
       " 'rahul',\n",
       " 'ritesh',\n",
       " 'raghav',\n",
       " 'goli',\n",
       " 'viha',\n",
       " 'shubham',\n",
       " 'aman',\n",
       " 'modi',\n",
       " 'k',\n",
       " 'u',\n",
       " 'm',\n",
       " 'a',\n",
       " 'r']"
      ]
     },
     "execution_count": 24,
     "metadata": {},
     "output_type": "execute_result"
    }
   ],
   "source": [
    "l1"
   ]
  },
  {
   "cell_type": "code",
   "execution_count": 25,
   "id": "b15510ea-5c91-4322-aea5-cc3a4848be04",
   "metadata": {},
   "outputs": [
    {
     "data": {
      "text/plain": [
       "str"
      ]
     },
     "execution_count": 25,
     "metadata": {},
     "output_type": "execute_result"
    }
   ],
   "source": [
    "type(t)"
   ]
  },
  {
   "cell_type": "code",
   "execution_count": 35,
   "id": "e56080d7-9f8a-4afe-adf8-dfb26bbb690a",
   "metadata": {},
   "outputs": [
    {
     "data": {
      "text/plain": [
       "['ashish',\n",
       " 'rahul',\n",
       " 'ritesh',\n",
       " 'raghav',\n",
       " 'goli',\n",
       " 'viha',\n",
       " 'shubham',\n",
       " 'aman',\n",
       " 'modi',\n",
       " 'k',\n",
       " 'u',\n",
       " 'm',\n",
       " 'a',\n",
       " 'r']"
      ]
     },
     "execution_count": 35,
     "metadata": {},
     "output_type": "execute_result"
    }
   ],
   "source": [
    "l1"
   ]
  },
  {
   "cell_type": "code",
   "execution_count": 36,
   "id": "92c58196-d703-4c78-91bf-0f7df72513ee",
   "metadata": {},
   "outputs": [],
   "source": [
    "for i in t:\n",
    "    l1.remove(i)"
   ]
  },
  {
   "cell_type": "code",
   "execution_count": 37,
   "id": "d792d094-0d6a-43d3-8a3b-6b0cc7add0e0",
   "metadata": {},
   "outputs": [
    {
     "data": {
      "text/plain": [
       "['ashish',\n",
       " 'rahul',\n",
       " 'ritesh',\n",
       " 'raghav',\n",
       " 'goli',\n",
       " 'viha',\n",
       " 'shubham',\n",
       " 'aman',\n",
       " 'modi']"
      ]
     },
     "execution_count": 37,
     "metadata": {},
     "output_type": "execute_result"
    }
   ],
   "source": [
    "l1"
   ]
  },
  {
   "cell_type": "code",
   "execution_count": 38,
   "id": "4db651c8-2865-46b4-946e-8541a87ed59e",
   "metadata": {},
   "outputs": [],
   "source": [
    "l1.extend(t)"
   ]
  },
  {
   "cell_type": "code",
   "execution_count": 39,
   "id": "9df75b35-3f35-4d88-a2df-79e1a6d006ff",
   "metadata": {},
   "outputs": [
    {
     "data": {
      "text/plain": [
       "['ashish',\n",
       " 'rahul',\n",
       " 'ritesh',\n",
       " 'raghav',\n",
       " 'goli',\n",
       " 'viha',\n",
       " 'shubham',\n",
       " 'aman',\n",
       " 'modi',\n",
       " 'k',\n",
       " 'u',\n",
       " 'm',\n",
       " 'a',\n",
       " 'r']"
      ]
     },
     "execution_count": 39,
     "metadata": {},
     "output_type": "execute_result"
    }
   ],
   "source": [
    "l1"
   ]
  },
  {
   "cell_type": "code",
   "execution_count": 40,
   "id": "7242ea90-3e2f-4a69-ac7b-e39e7f3d3d26",
   "metadata": {},
   "outputs": [],
   "source": [
    "for i in t: l1.remove(i)"
   ]
  },
  {
   "cell_type": "code",
   "execution_count": 41,
   "id": "cc00d0ab-087f-4fce-8475-2220cf4644e9",
   "metadata": {},
   "outputs": [
    {
     "data": {
      "text/plain": [
       "['ashish',\n",
       " 'rahul',\n",
       " 'ritesh',\n",
       " 'raghav',\n",
       " 'goli',\n",
       " 'viha',\n",
       " 'shubham',\n",
       " 'aman',\n",
       " 'modi']"
      ]
     },
     "execution_count": 41,
     "metadata": {},
     "output_type": "execute_result"
    }
   ],
   "source": [
    "l1"
   ]
  },
  {
   "cell_type": "code",
   "execution_count": 42,
   "id": "3dcad2a8-a803-4769-bed8-c3404ee45e85",
   "metadata": {},
   "outputs": [
    {
     "data": {
      "text/plain": [
       "'modi'"
      ]
     },
     "execution_count": 42,
     "metadata": {},
     "output_type": "execute_result"
    }
   ],
   "source": [
    "l1.pop()"
   ]
  },
  {
   "cell_type": "code",
   "execution_count": 43,
   "id": "863dabe1-ff19-4f84-8bf6-9a5f9a873de8",
   "metadata": {},
   "outputs": [
    {
     "data": {
      "text/plain": [
       "'shubham'"
      ]
     },
     "execution_count": 43,
     "metadata": {},
     "output_type": "execute_result"
    }
   ],
   "source": [
    "l1.pop(-2)"
   ]
  },
  {
   "cell_type": "code",
   "execution_count": 44,
   "id": "90764add-91b8-4a22-9b36-87dba21f6c57",
   "metadata": {},
   "outputs": [],
   "source": [
    "del l1[2]"
   ]
  },
  {
   "cell_type": "code",
   "execution_count": 45,
   "id": "eb483b08-8eaf-445a-8b1c-582ec79f4229",
   "metadata": {},
   "outputs": [],
   "source": [
    "# whenever use del l1 and l1.clear()"
   ]
  },
  {
   "cell_type": "code",
   "execution_count": 46,
   "id": "ea0d3822-67b6-4ee3-a795-6ab5286b8c13",
   "metadata": {},
   "outputs": [],
   "source": [
    "    #list comprehence"
   ]
  },
  {
   "cell_type": "code",
   "execution_count": 47,
   "id": "1decc62d-6ab7-479c-848b-69b1a5fd05b1",
   "metadata": {},
   "outputs": [],
   "source": [
    "l3=[i for i in l1 if i!='ashish']"
   ]
  },
  {
   "cell_type": "code",
   "execution_count": 48,
   "id": "36c6979e-4f22-4008-9a1a-b5ef348e0fbe",
   "metadata": {},
   "outputs": [
    {
     "data": {
      "text/plain": [
       "['rahul', 'raghav', 'goli', 'viha', 'aman']"
      ]
     },
     "execution_count": 48,
     "metadata": {},
     "output_type": "execute_result"
    }
   ],
   "source": [
    "l3"
   ]
  },
  {
   "cell_type": "code",
   "execution_count": 49,
   "id": "1ea12cc5-f1ca-41e3-a586-72eb0032f0b3",
   "metadata": {},
   "outputs": [],
   "source": [
    "l1.append(\"rohit\")"
   ]
  },
  {
   "cell_type": "code",
   "execution_count": 50,
   "id": "a10252d7-6ee3-44d4-9387-c4f3c5f87185",
   "metadata": {},
   "outputs": [
    {
     "data": {
      "text/plain": [
       "['ashish', 'rahul', 'raghav', 'goli', 'viha', 'aman', 'rohit']"
      ]
     },
     "execution_count": 50,
     "metadata": {},
     "output_type": "execute_result"
    }
   ],
   "source": [
    "l1"
   ]
  },
  {
   "cell_type": "code",
   "execution_count": 51,
   "id": "15ea2dbd-0499-49e3-9abc-2ab7b17f1c1f",
   "metadata": {},
   "outputs": [],
   "source": [
    "l1.append(\"rohit\")"
   ]
  },
  {
   "cell_type": "code",
   "execution_count": 52,
   "id": "fb6ff2c6-21cb-4a9d-8409-0d6ba408c58e",
   "metadata": {},
   "outputs": [
    {
     "data": {
      "text/plain": [
       "['ashish', 'rahul', 'raghav', 'goli', 'viha', 'aman', 'rohit', 'rohit']"
      ]
     },
     "execution_count": 52,
     "metadata": {},
     "output_type": "execute_result"
    }
   ],
   "source": [
    "l1"
   ]
  },
  {
   "cell_type": "code",
   "execution_count": 54,
   "id": "aba35a1f-1928-4a96-8249-db925a5ab557",
   "metadata": {},
   "outputs": [],
   "source": [
    "l2 = l1.copy()"
   ]
  },
  {
   "cell_type": "code",
   "execution_count": 55,
   "id": "a8a18cf7-5e31-4931-9d0e-f88322cc607a",
   "metadata": {},
   "outputs": [
    {
     "data": {
      "text/plain": [
       "['ashish', 'rahul', 'raghav', 'goli', 'viha', 'aman', 'rohit', 'rohit']"
      ]
     },
     "execution_count": 55,
     "metadata": {},
     "output_type": "execute_result"
    }
   ],
   "source": [
    "l2"
   ]
  },
  {
   "cell_type": "code",
   "execution_count": 56,
   "id": "f93f0d87-98c5-4e6e-b466-5418739a4350",
   "metadata": {},
   "outputs": [],
   "source": [
    "l3 = list(l2)"
   ]
  },
  {
   "cell_type": "code",
   "execution_count": 57,
   "id": "9d60e0ff-130f-4015-8524-6a2ac686f1d6",
   "metadata": {},
   "outputs": [
    {
     "data": {
      "text/plain": [
       "['ashish', 'rahul', 'raghav', 'goli', 'viha', 'aman', 'rohit', 'rohit']"
      ]
     },
     "execution_count": 57,
     "metadata": {},
     "output_type": "execute_result"
    }
   ],
   "source": [
    "l3"
   ]
  },
  {
   "cell_type": "code",
   "execution_count": 58,
   "id": "84ae4646-13dc-4fbd-8f73-0271d9e90432",
   "metadata": {},
   "outputs": [
    {
     "data": {
      "text/plain": [
       "2"
      ]
     },
     "execution_count": 58,
     "metadata": {},
     "output_type": "execute_result"
    }
   ],
   "source": [
    "l1.count('rohit')"
   ]
  },
  {
   "cell_type": "code",
   "execution_count": 60,
   "id": "0bd2d988-0fe4-4ae8-82c1-14e4e2984484",
   "metadata": {},
   "outputs": [
    {
     "data": {
      "text/plain": [
       "6"
      ]
     },
     "execution_count": 60,
     "metadata": {},
     "output_type": "execute_result"
    }
   ],
   "source": [
    "l1.index('rohit')"
   ]
  },
  {
   "cell_type": "code",
   "execution_count": 61,
   "id": "f8bb30af-3726-43fb-bd0b-cc2d9ee7b5e4",
   "metadata": {},
   "outputs": [],
   "source": [
    "l1.reverse()"
   ]
  },
  {
   "cell_type": "code",
   "execution_count": 62,
   "id": "015e6121-9700-4bab-8af4-79e6ee558439",
   "metadata": {},
   "outputs": [
    {
     "data": {
      "text/plain": [
       "['rohit', 'rohit', 'aman', 'viha', 'goli', 'raghav', 'rahul', 'ashish']"
      ]
     },
     "execution_count": 62,
     "metadata": {},
     "output_type": "execute_result"
    }
   ],
   "source": [
    "l1"
   ]
  },
  {
   "cell_type": "code",
   "execution_count": 63,
   "id": "a2a9f058-e361-48b3-9e70-705b29c759a2",
   "metadata": {},
   "outputs": [],
   "source": [
    "l1.sort()"
   ]
  },
  {
   "cell_type": "code",
   "execution_count": 64,
   "id": "0c9c35b4-4ded-40f1-b506-e294249b8011",
   "metadata": {},
   "outputs": [
    {
     "data": {
      "text/plain": [
       "['aman', 'ashish', 'goli', 'raghav', 'rahul', 'rohit', 'rohit', 'viha']"
      ]
     },
     "execution_count": 64,
     "metadata": {},
     "output_type": "execute_result"
    }
   ],
   "source": [
    "l1"
   ]
  },
  {
   "cell_type": "code",
   "execution_count": null,
   "id": "26173270-d0a4-4b1d-b6fb-9b60f7bc9d36",
   "metadata": {},
   "outputs": [],
   "source": []
  }
 ],
 "metadata": {
  "kernelspec": {
   "display_name": "Python 3 (ipykernel)",
   "language": "python",
   "name": "python3"
  },
  "language_info": {
   "codemirror_mode": {
    "name": "ipython",
    "version": 3
   },
   "file_extension": ".py",
   "mimetype": "text/x-python",
   "name": "python",
   "nbconvert_exporter": "python",
   "pygments_lexer": "ipython3",
   "version": "3.10.5"
  }
 },
 "nbformat": 4,
 "nbformat_minor": 5
}
