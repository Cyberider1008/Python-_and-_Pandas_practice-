{
 "cells": [
  {
   "cell_type": "markdown",
   "id": "c60b9593-4bcf-47bb-a658-cb8c47959f4d",
   "metadata": {},
   "source": [
    "**dictionaries method here**"
   ]
  },
  {
   "cell_type": "code",
   "execution_count": 1,
   "id": "34769695-e356-4e3f-95e7-1d7888da5b4e",
   "metadata": {},
   "outputs": [],
   "source": [
    "dict1 = {\"name\":\"ashish\",\"age\":25,\"address\":\"worli\"}"
   ]
  },
  {
   "cell_type": "code",
   "execution_count": 2,
   "id": "b4dbad73-0219-4d31-a969-8280336c9f3d",
   "metadata": {},
   "outputs": [
    {
     "data": {
      "text/plain": [
       "{'name': 'ashish', 'age': 25, 'address': 'worli'}"
      ]
     },
     "execution_count": 2,
     "metadata": {},
     "output_type": "execute_result"
    }
   ],
   "source": [
    "dict1\n"
   ]
  },
  {
   "cell_type": "code",
   "execution_count": 3,
   "id": "f6ef0f81-6581-4eb2-a791-8c8a1fb005d8",
   "metadata": {},
   "outputs": [
    {
     "data": {
      "text/plain": [
       "'ashish'"
      ]
     },
     "execution_count": 3,
     "metadata": {},
     "output_type": "execute_result"
    }
   ],
   "source": [
    "dict1['name']"
   ]
  },
  {
   "cell_type": "code",
   "execution_count": 4,
   "id": "ef03a2ac-af5e-4b8b-bef5-581c147a4c3f",
   "metadata": {},
   "outputs": [],
   "source": [
    "# duplicate not allowed here"
   ]
  },
  {
   "cell_type": "code",
   "execution_count": 5,
   "id": "4766cde6-273e-43f3-babb-f34abfcfc777",
   "metadata": {},
   "outputs": [],
   "source": [
    "dict1 = {\"name\":\"rahul\",\"age\":78,\"address\":\"dadar\",\"address\":\"parel\"}"
   ]
  },
  {
   "cell_type": "code",
   "execution_count": 6,
   "id": "9702c59e-fc6d-4c7f-8035-ee538f87ec40",
   "metadata": {},
   "outputs": [
    {
     "data": {
      "text/plain": [
       "{'name': 'rahul', 'age': 78, 'address': 'parel'}"
      ]
     },
     "execution_count": 6,
     "metadata": {},
     "output_type": "execute_result"
    }
   ],
   "source": [
    "dict1"
   ]
  },
  {
   "cell_type": "code",
   "execution_count": 7,
   "id": "b346edda-0b42-4595-943f-fb29f8e3e325",
   "metadata": {},
   "outputs": [
    {
     "data": {
      "text/plain": [
       "3"
      ]
     },
     "execution_count": 7,
     "metadata": {},
     "output_type": "execute_result"
    }
   ],
   "source": [
    "len(dict1)"
   ]
  },
  {
   "cell_type": "code",
   "execution_count": 9,
   "id": "cc120536-9c99-4976-b4d2-1e3c782fe2d7",
   "metadata": {},
   "outputs": [],
   "source": [
    "dict2 = {\"name\":\"ritesh\",\"age\":45,\"subject\":[\"math\",\"java\",\"python\"]}"
   ]
  },
  {
   "cell_type": "code",
   "execution_count": 10,
   "id": "ba15797c-35cd-4863-89a9-6a9862067825",
   "metadata": {},
   "outputs": [
    {
     "data": {
      "text/plain": [
       "{'name': 'ritesh', 'age': 45, 'subject': ['math', 'java', 'python']}"
      ]
     },
     "execution_count": 10,
     "metadata": {},
     "output_type": "execute_result"
    }
   ],
   "source": [
    "dict2"
   ]
  },
  {
   "cell_type": "code",
   "execution_count": 11,
   "id": "2dce1110-7c77-4aad-8070-6d55bb5b0aa0",
   "metadata": {},
   "outputs": [
    {
     "data": {
      "text/plain": [
       "dict"
      ]
     },
     "execution_count": 11,
     "metadata": {},
     "output_type": "execute_result"
    }
   ],
   "source": [
    "type(dict2)"
   ]
  },
  {
   "cell_type": "code",
   "execution_count": 12,
   "id": "0db1a76d-dd5e-411c-a5d4-36bec0299a1e",
   "metadata": {},
   "outputs": [],
   "source": [
    "dict3 = dict(name=\"rahul\", age=\"78\",adress = \"dadar\")"
   ]
  },
  {
   "cell_type": "code",
   "execution_count": 13,
   "id": "e5e98b2e-2047-4ccc-818b-89971350fdb2",
   "metadata": {},
   "outputs": [
    {
     "data": {
      "text/plain": [
       "{'name': 'rahul', 'age': '78', 'adress': 'dadar'}"
      ]
     },
     "execution_count": 13,
     "metadata": {},
     "output_type": "execute_result"
    }
   ],
   "source": [
    "dict3"
   ]
  },
  {
   "cell_type": "code",
   "execution_count": 14,
   "id": "9b67da3e-1743-4f3f-a236-37cb884df38d",
   "metadata": {},
   "outputs": [],
   "source": [
    "name1 = dict3[\"name\"]"
   ]
  },
  {
   "cell_type": "code",
   "execution_count": 15,
   "id": "25f09c53-7ae9-4fdd-a4c5-704041f90224",
   "metadata": {},
   "outputs": [
    {
     "data": {
      "text/plain": [
       "'rahul'"
      ]
     },
     "execution_count": 15,
     "metadata": {},
     "output_type": "execute_result"
    }
   ],
   "source": [
    "name1"
   ]
  },
  {
   "cell_type": "code",
   "execution_count": 16,
   "id": "002e7e23-3a32-462c-958c-da01e9b9ea72",
   "metadata": {},
   "outputs": [],
   "source": [
    "n2 = dict3.get(\"name\")"
   ]
  },
  {
   "cell_type": "code",
   "execution_count": 17,
   "id": "ff343106-0a2c-4791-a10e-7145c8c30816",
   "metadata": {},
   "outputs": [
    {
     "data": {
      "text/plain": [
       "'rahul'"
      ]
     },
     "execution_count": 17,
     "metadata": {},
     "output_type": "execute_result"
    }
   ],
   "source": [
    "n2"
   ]
  },
  {
   "cell_type": "code",
   "execution_count": 18,
   "id": "825f751d-46a2-4f2f-83e4-97e04d4d6da6",
   "metadata": {},
   "outputs": [],
   "source": [
    "# all keys print"
   ]
  },
  {
   "cell_type": "code",
   "execution_count": 19,
   "id": "799e19e8-998b-41e1-ae76-993b9148a473",
   "metadata": {},
   "outputs": [],
   "source": [
    "k = dict3.keys()"
   ]
  },
  {
   "cell_type": "code",
   "execution_count": 20,
   "id": "a08876e6-c65c-4385-ae46-128053473f5e",
   "metadata": {},
   "outputs": [
    {
     "data": {
      "text/plain": [
       "dict_keys(['name', 'age', 'adress'])"
      ]
     },
     "execution_count": 20,
     "metadata": {},
     "output_type": "execute_result"
    }
   ],
   "source": [
    "k"
   ]
  },
  {
   "cell_type": "code",
   "execution_count": 21,
   "id": "d955ba14-5afb-4264-972c-4fb986933608",
   "metadata": {},
   "outputs": [],
   "source": [
    "dict3[\"id\"]=432"
   ]
  },
  {
   "cell_type": "code",
   "execution_count": 22,
   "id": "c1de7ca7-59c3-435d-b15c-96cb9e6ecc43",
   "metadata": {},
   "outputs": [
    {
     "data": {
      "text/plain": [
       "dict_keys(['name', 'age', 'adress', 'id'])"
      ]
     },
     "execution_count": 22,
     "metadata": {},
     "output_type": "execute_result"
    }
   ],
   "source": [
    "k"
   ]
  },
  {
   "cell_type": "code",
   "execution_count": 23,
   "id": "0d25dded-0087-41af-8570-f899aee56f0e",
   "metadata": {},
   "outputs": [],
   "source": [
    "#valus print here"
   ]
  },
  {
   "cell_type": "code",
   "execution_count": 24,
   "id": "b4cd4a2d-4459-4998-8657-d3cea6539531",
   "metadata": {},
   "outputs": [],
   "source": [
    "v= dict3.values()"
   ]
  },
  {
   "cell_type": "code",
   "execution_count": 25,
   "id": "5304e0f6-3f07-4cc2-989b-207bf4aab9d3",
   "metadata": {},
   "outputs": [
    {
     "data": {
      "text/plain": [
       "dict_values(['rahul', '78', 'dadar', 432])"
      ]
     },
     "execution_count": 25,
     "metadata": {},
     "output_type": "execute_result"
    }
   ],
   "source": [
    "v"
   ]
  },
  {
   "cell_type": "code",
   "execution_count": 26,
   "id": "6d482b7f-c8bb-4e38-97c6-3c07991ebc7a",
   "metadata": {},
   "outputs": [],
   "source": [
    "dict3[\"mood\"]=\"happy\""
   ]
  },
  {
   "cell_type": "code",
   "execution_count": 27,
   "id": "45b98768-fd30-48ae-8500-b1ce67873ed8",
   "metadata": {},
   "outputs": [
    {
     "data": {
      "text/plain": [
       "dict_values(['rahul', '78', 'dadar', 432, 'happy'])"
      ]
     },
     "execution_count": 27,
     "metadata": {},
     "output_type": "execute_result"
    }
   ],
   "source": [
    "v"
   ]
  },
  {
   "cell_type": "code",
   "execution_count": 28,
   "id": "f7ad0779-0bad-4712-8b10-1bfb0b1216f3",
   "metadata": {},
   "outputs": [],
   "source": [
    "#get items "
   ]
  },
  {
   "cell_type": "code",
   "execution_count": 29,
   "id": "b5bfd1f0-e4bb-4257-82ce-e9412e1dda88",
   "metadata": {},
   "outputs": [],
   "source": [
    "i = dict3.items()"
   ]
  },
  {
   "cell_type": "code",
   "execution_count": 30,
   "id": "2e293952-5205-46dd-a222-ebc650dab548",
   "metadata": {},
   "outputs": [
    {
     "data": {
      "text/plain": [
       "dict_items([('name', 'rahul'), ('age', '78'), ('adress', 'dadar'), ('id', 432), ('mood', 'happy')])"
      ]
     },
     "execution_count": 30,
     "metadata": {},
     "output_type": "execute_result"
    }
   ],
   "source": [
    "i"
   ]
  },
  {
   "cell_type": "code",
   "execution_count": 31,
   "id": "9614c761-dc84-44b2-a0e5-3700531c218e",
   "metadata": {},
   "outputs": [],
   "source": [
    "dict3['location']=\"up\""
   ]
  },
  {
   "cell_type": "code",
   "execution_count": 32,
   "id": "8bbdf9b2-75e8-4857-9eef-27b8fc276226",
   "metadata": {},
   "outputs": [
    {
     "data": {
      "text/plain": [
       "dict_items([('name', 'rahul'), ('age', '78'), ('adress', 'dadar'), ('id', 432), ('mood', 'happy'), ('location', 'up')])"
      ]
     },
     "execution_count": 32,
     "metadata": {},
     "output_type": "execute_result"
    }
   ],
   "source": [
    "i"
   ]
  },
  {
   "cell_type": "code",
   "execution_count": 33,
   "id": "49a57f4d-2daf-4b0a-90f2-329b7fa4d58c",
   "metadata": {},
   "outputs": [],
   "source": [
    "#check key exists or not"
   ]
  },
  {
   "cell_type": "code",
   "execution_count": 38,
   "id": "e5c22310-24d9-4c4e-a1ec-edb8e0668951",
   "metadata": {},
   "outputs": [
    {
     "data": {
      "text/plain": [
       "False"
      ]
     },
     "execution_count": 38,
     "metadata": {},
     "output_type": "execute_result"
    }
   ],
   "source": [
    "True if 'name1' in dict3 else False"
   ]
  },
  {
   "cell_type": "code",
   "execution_count": 39,
   "id": "a2834f5b-8741-452a-b6fb-2dba38c6d2a5",
   "metadata": {},
   "outputs": [],
   "source": [
    "# ican change any value of items"
   ]
  },
  {
   "cell_type": "code",
   "execution_count": 40,
   "id": "98221074-98bc-40dc-80da-e8f41d2f27fe",
   "metadata": {},
   "outputs": [],
   "source": [
    "dict3['age']=34"
   ]
  },
  {
   "cell_type": "code",
   "execution_count": 41,
   "id": "416779e4-9bf7-457a-8e4e-7945350894b9",
   "metadata": {},
   "outputs": [
    {
     "data": {
      "text/plain": [
       "{'name': 'rahul',\n",
       " 'age': 34,\n",
       " 'adress': 'dadar',\n",
       " 'id': 432,\n",
       " 'mood': 'happy',\n",
       " 'location': 'up'}"
      ]
     },
     "execution_count": 41,
     "metadata": {},
     "output_type": "execute_result"
    }
   ],
   "source": [
    "dict3"
   ]
  },
  {
   "cell_type": "code",
   "execution_count": null,
   "id": "32b26323-5626-45fe-9125-7a2e35da54d2",
   "metadata": {},
   "outputs": [],
   "source": []
  },
  {
   "cell_type": "code",
   "execution_count": 42,
   "id": "3662a322-2395-46e7-bb71-691de743ed35",
   "metadata": {},
   "outputs": [],
   "source": [
    "# ican use update method"
   ]
  },
  {
   "cell_type": "code",
   "execution_count": 45,
   "id": "fd93127c-25de-4954-84c8-a54e6798bcd2",
   "metadata": {},
   "outputs": [],
   "source": [
    "dict3.update({\"age\":12})"
   ]
  },
  {
   "cell_type": "code",
   "execution_count": 46,
   "id": "8a4110be-4f59-4e97-a56a-6a7410a25486",
   "metadata": {},
   "outputs": [
    {
     "data": {
      "text/plain": [
       "{'name': 'rahul',\n",
       " 'age': 12,\n",
       " 'adress': 'dadar',\n",
       " 'id': 432,\n",
       " 'mood': 'happy',\n",
       " 'location': 'up'}"
      ]
     },
     "execution_count": 46,
     "metadata": {},
     "output_type": "execute_result"
    }
   ],
   "source": [
    "dict3"
   ]
  },
  {
   "cell_type": "code",
   "execution_count": 47,
   "id": "023b3aad-f6f7-4a02-8ed5-6eeb0e2c4c34",
   "metadata": {},
   "outputs": [],
   "source": [
    "dict3['lname']=\"bar\""
   ]
  },
  {
   "cell_type": "code",
   "execution_count": 48,
   "id": "c00bd367-f5da-4734-a63d-a260faad90dc",
   "metadata": {},
   "outputs": [
    {
     "data": {
      "text/plain": [
       "{'name': 'rahul',\n",
       " 'age': 12,\n",
       " 'adress': 'dadar',\n",
       " 'id': 432,\n",
       " 'mood': 'happy',\n",
       " 'location': 'up',\n",
       " 'lname': 'bar'}"
      ]
     },
     "execution_count": 48,
     "metadata": {},
     "output_type": "execute_result"
    }
   ],
   "source": [
    "dict3"
   ]
  },
  {
   "cell_type": "code",
   "execution_count": 49,
   "id": "46efd699-db64-43dc-b013-826cf28ecdcf",
   "metadata": {},
   "outputs": [],
   "source": [
    "#  remove item from dictonary"
   ]
  },
  {
   "cell_type": "code",
   "execution_count": 50,
   "id": "1f5346e7-81a8-4742-a0fc-05a1f8566df3",
   "metadata": {},
   "outputs": [
    {
     "data": {
      "text/plain": [
       "'happy'"
      ]
     },
     "execution_count": 50,
     "metadata": {},
     "output_type": "execute_result"
    }
   ],
   "source": [
    "dict3.pop(\"mood\")"
   ]
  },
  {
   "cell_type": "code",
   "execution_count": 51,
   "id": "35e28ec2-9c26-47c8-a64e-9bcc6455ac36",
   "metadata": {},
   "outputs": [
    {
     "data": {
      "text/plain": [
       "{'name': 'rahul',\n",
       " 'age': 12,\n",
       " 'adress': 'dadar',\n",
       " 'id': 432,\n",
       " 'location': 'up',\n",
       " 'lname': 'bar'}"
      ]
     },
     "execution_count": 51,
     "metadata": {},
     "output_type": "execute_result"
    }
   ],
   "source": [
    "dict3"
   ]
  },
  {
   "cell_type": "code",
   "execution_count": 52,
   "id": "8b0fe81f-a0a3-4a0a-a276-4d96c66930f9",
   "metadata": {},
   "outputs": [],
   "source": [
    "#last item remove"
   ]
  },
  {
   "cell_type": "code",
   "execution_count": 53,
   "id": "2e16b19a-d6eb-4eb9-96fb-76c2e9e5663e",
   "metadata": {},
   "outputs": [
    {
     "data": {
      "text/plain": [
       "('lname', 'bar')"
      ]
     },
     "execution_count": 53,
     "metadata": {},
     "output_type": "execute_result"
    }
   ],
   "source": [
    "dict3.popitem()"
   ]
  },
  {
   "cell_type": "code",
   "execution_count": 54,
   "id": "97337c22-8595-4fea-bba8-1a80bec2af0a",
   "metadata": {},
   "outputs": [],
   "source": [
    "# we can use del keyword"
   ]
  },
  {
   "cell_type": "code",
   "execution_count": 55,
   "id": "300368f9-e3e4-4b12-bada-a4af4eca2c37",
   "metadata": {},
   "outputs": [],
   "source": [
    "del dict3[\"adress\"]"
   ]
  },
  {
   "cell_type": "code",
   "execution_count": 56,
   "id": "232e781c-350d-46d3-9106-338d7eb032cb",
   "metadata": {},
   "outputs": [
    {
     "data": {
      "text/plain": [
       "{'name': 'rahul', 'age': 12, 'id': 432, 'location': 'up'}"
      ]
     },
     "execution_count": 56,
     "metadata": {},
     "output_type": "execute_result"
    }
   ],
   "source": [
    "dict3"
   ]
  },
  {
   "cell_type": "code",
   "execution_count": 57,
   "id": "db85ef33-0048-4941-b726-c34bbaecb2a7",
   "metadata": {},
   "outputs": [],
   "source": [
    "x = [i for i in dict3]"
   ]
  },
  {
   "cell_type": "code",
   "execution_count": 58,
   "id": "80f25c07-f1c4-4944-9e2d-23805e5213d4",
   "metadata": {},
   "outputs": [
    {
     "data": {
      "text/plain": [
       "['name', 'age', 'id', 'location']"
      ]
     },
     "execution_count": 58,
     "metadata": {},
     "output_type": "execute_result"
    }
   ],
   "source": [
    "x"
   ]
  },
  {
   "cell_type": "code",
   "execution_count": 59,
   "id": "73fbe09c-f79f-4960-83b6-41e68c111fdf",
   "metadata": {},
   "outputs": [],
   "source": [
    "v = [dict3[i] for i in dict3]"
   ]
  },
  {
   "cell_type": "code",
   "execution_count": 60,
   "id": "ff8783e5-8944-47ed-a75c-88706ad078ac",
   "metadata": {},
   "outputs": [
    {
     "data": {
      "text/plain": [
       "['rahul', 12, 432, 'up']"
      ]
     },
     "execution_count": 60,
     "metadata": {},
     "output_type": "execute_result"
    }
   ],
   "source": [
    "v"
   ]
  },
  {
   "cell_type": "code",
   "execution_count": 61,
   "id": "69789dcd-9232-42cc-97ba-1e87672ef246",
   "metadata": {},
   "outputs": [],
   "source": [
    "#we can use value method"
   ]
  },
  {
   "cell_type": "code",
   "execution_count": 64,
   "id": "04aaf822-fe19-4f23-ad51-d879f5438372",
   "metadata": {},
   "outputs": [],
   "source": [
    "v1 = [i for i in dict3.values()]"
   ]
  },
  {
   "cell_type": "code",
   "execution_count": 65,
   "id": "8507f3e3-01df-4ba5-816f-237c81d9565e",
   "metadata": {},
   "outputs": [
    {
     "data": {
      "text/plain": [
       "['rahul', 12, 432, 'up']"
      ]
     },
     "execution_count": 65,
     "metadata": {},
     "output_type": "execute_result"
    }
   ],
   "source": [
    "v1"
   ]
  },
  {
   "cell_type": "code",
   "execution_count": 66,
   "id": "fb8ebb23-796b-47ad-8cdf-6a83e13f236a",
   "metadata": {},
   "outputs": [],
   "source": [
    "# keys return"
   ]
  },
  {
   "cell_type": "code",
   "execution_count": 69,
   "id": "c39244c3-0288-4286-8e61-298742fe1bb0",
   "metadata": {},
   "outputs": [],
   "source": [
    "k = [i for i  in dict3.keys()]"
   ]
  },
  {
   "cell_type": "code",
   "execution_count": 70,
   "id": "a690d94d-583b-4771-a4df-77669c36a4d5",
   "metadata": {},
   "outputs": [
    {
     "data": {
      "text/plain": [
       "['name', 'age', 'id', 'location']"
      ]
     },
     "execution_count": 70,
     "metadata": {},
     "output_type": "execute_result"
    }
   ],
   "source": [
    "k"
   ]
  },
  {
   "cell_type": "code",
   "execution_count": 71,
   "id": "879445a4-6975-4a49-b99c-61d5fee5d565",
   "metadata": {},
   "outputs": [],
   "source": [
    "#copy"
   ]
  },
  {
   "cell_type": "code",
   "execution_count": 72,
   "id": "9eff2a4a-cdf6-4675-82cd-6f6e63395ebe",
   "metadata": {},
   "outputs": [],
   "source": [
    "copy_dict3 = dict3.copy()"
   ]
  },
  {
   "cell_type": "code",
   "execution_count": 73,
   "id": "2d43d712-4f81-4e13-a2b8-a622b3076189",
   "metadata": {},
   "outputs": [
    {
     "data": {
      "text/plain": [
       "{'name': 'rahul', 'age': 12, 'id': 432, 'location': 'up'}"
      ]
     },
     "execution_count": 73,
     "metadata": {},
     "output_type": "execute_result"
    }
   ],
   "source": [
    "copy_dict3"
   ]
  },
  {
   "cell_type": "code",
   "execution_count": 74,
   "id": "4b6f0217-53ab-4167-b12c-8393c1c5f30d",
   "metadata": {},
   "outputs": [],
   "source": [
    "c_dict3 = dict(dict3)"
   ]
  },
  {
   "cell_type": "code",
   "execution_count": 75,
   "id": "e27e3d7b-183d-484f-a777-222043a49657",
   "metadata": {},
   "outputs": [
    {
     "data": {
      "text/plain": [
       "{'name': 'rahul', 'age': 12, 'id': 432, 'location': 'up'}"
      ]
     },
     "execution_count": 75,
     "metadata": {},
     "output_type": "execute_result"
    }
   ],
   "source": [
    "c_dict3"
   ]
  },
  {
   "cell_type": "code",
   "execution_count": 76,
   "id": "010b063b-5ea4-4abc-a5f1-f661d67898c2",
   "metadata": {},
   "outputs": [],
   "source": [
    "frds = {\"frd1\":{\"name\":\"rahul\",\"age\":21},\"frd2\":{\"name\":\"rahul2\",\"age\":22},\"frd3\":{\"name\":\"rahul3\",\"age\":23}}"
   ]
  },
  {
   "cell_type": "code",
   "execution_count": 77,
   "id": "498f9808-cb4f-4ff8-9b7c-78ef70099293",
   "metadata": {},
   "outputs": [
    {
     "data": {
      "text/plain": [
       "{'frd1': {'name': 'rahul', 'age': 21},\n",
       " 'frd2': {'name': 'rahul2', 'age': 22},\n",
       " 'frd3': {'name': 'rahul3', 'age': 23}}"
      ]
     },
     "execution_count": 77,
     "metadata": {},
     "output_type": "execute_result"
    }
   ],
   "source": [
    "frds"
   ]
  },
  {
   "cell_type": "code",
   "execution_count": 78,
   "id": "934ec1e7-3611-41f0-9865-ac649f0fff5c",
   "metadata": {},
   "outputs": [
    {
     "data": {
      "text/plain": [
       "dict"
      ]
     },
     "execution_count": 78,
     "metadata": {},
     "output_type": "execute_result"
    }
   ],
   "source": [
    "type(frds)"
   ]
  },
  {
   "cell_type": "code",
   "execution_count": 79,
   "id": "79647496-cca6-4238-976c-b3f84062201f",
   "metadata": {},
   "outputs": [
    {
     "data": {
      "text/plain": [
       "22"
      ]
     },
     "execution_count": 79,
     "metadata": {},
     "output_type": "execute_result"
    }
   ],
   "source": [
    "frds[\"frd2\"]['age']"
   ]
  },
  {
   "cell_type": "code",
   "execution_count": 80,
   "id": "a2ed1a95-7d1d-486e-87f5-a08840d52d07",
   "metadata": {},
   "outputs": [],
   "source": [
    "# Using loop "
   ]
  },
  {
   "cell_type": "code",
   "execution_count": 86,
   "id": "0a10d107-2879-4d16-a6f0-5badf2571fd7",
   "metadata": {},
   "outputs": [
    {
     "name": "stdout",
     "output_type": "stream",
     "text": [
      "frd1 {'name': 'rahul', 'age': 21}\n",
      "name\n",
      "age\n",
      "frd2 {'name': 'rahul2', 'age': 22}\n",
      "name\n",
      "age\n",
      "frd3 {'name': 'rahul3', 'age': 23}\n",
      "name\n",
      "age\n"
     ]
    }
   ],
   "source": [
    "for k, obj in frds.items():\n",
    "    print(k, obj)\n",
    "    for k1 in obj:\n",
    "        print(k1)"
   ]
  },
  {
   "cell_type": "code",
   "execution_count": null,
   "id": "168af383-740d-4d3e-a82e-96ec91041d8f",
   "metadata": {},
   "outputs": [],
   "source": []
  }
 ],
 "metadata": {
  "kernelspec": {
   "display_name": "Python 3 (ipykernel)",
   "language": "python",
   "name": "python3"
  },
  "language_info": {
   "codemirror_mode": {
    "name": "ipython",
    "version": 3
   },
   "file_extension": ".py",
   "mimetype": "text/x-python",
   "name": "python",
   "nbconvert_exporter": "python",
   "pygments_lexer": "ipython3",
   "version": "3.10.5"
  }
 },
 "nbformat": 4,
 "nbformat_minor": 5
}
