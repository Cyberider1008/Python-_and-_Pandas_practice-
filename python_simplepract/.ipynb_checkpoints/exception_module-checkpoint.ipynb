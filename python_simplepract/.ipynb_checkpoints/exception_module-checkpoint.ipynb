{
 "cells": [
  {
   "cell_type": "code",
   "execution_count": 1,
   "id": "4d5c2423-50aa-4029-94b8-cf8401c890e3",
   "metadata": {},
   "outputs": [],
   "source": [
    "#exception"
   ]
  },
  {
   "cell_type": "code",
   "execution_count": 2,
   "id": "8672b2d2-ca95-4440-b46e-7fbcc3cbc9ff",
   "metadata": {},
   "outputs": [],
   "source": [
    "#try except else finally"
   ]
  },
  {
   "cell_type": "code",
   "execution_count": 4,
   "id": "27e75e67-d483-4c76-aa99-b9cb742fe0ef",
   "metadata": {},
   "outputs": [
    {
     "ename": "NameError",
     "evalue": "name 'y' is not defined",
     "output_type": "error",
     "traceback": [
      "\u001b[0;31m---------------------------------------------------------------------------\u001b[0m",
      "\u001b[0;31mNameError\u001b[0m                                 Traceback (most recent call last)",
      "Cell \u001b[0;32mIn[4], line 1\u001b[0m\n\u001b[0;32m----> 1\u001b[0m \u001b[38;5;28mprint\u001b[39m(\u001b[43my\u001b[49m)\n",
      "\u001b[0;31mNameError\u001b[0m: name 'y' is not defined"
     ]
    }
   ],
   "source": [
    "print(y)"
   ]
  },
  {
   "cell_type": "code",
   "execution_count": 5,
   "id": "9860ac50-0299-41a1-ab1f-75418a07a7eb",
   "metadata": {},
   "outputs": [
    {
     "name": "stdout",
     "output_type": "stream",
     "text": [
      "var name is not define\n"
     ]
    }
   ],
   "source": [
    "try:\n",
    "    print(y)\n",
    "except NameError:\n",
    "    print(\"var name is not define\")"
   ]
  },
  {
   "cell_type": "code",
   "execution_count": 6,
   "id": "934cde07-04be-4e2c-8f37-b06c023f3d9f",
   "metadata": {},
   "outputs": [
    {
     "name": "stdout",
     "output_type": "stream",
     "text": [
      "var name is not define\n"
     ]
    }
   ],
   "source": [
    "try:\n",
    "    print(y)\n",
    "except NameError:\n",
    "    print(\"var name is not define\")\n",
    "except:\n",
    "    print(\"othr wrong\")\n",
    "    "
   ]
  },
  {
   "cell_type": "code",
   "execution_count": 7,
   "id": "ddaab7a2-2e1b-4cca-a171-cdc35ef520d3",
   "metadata": {},
   "outputs": [
    {
     "name": "stdout",
     "output_type": "stream",
     "text": [
      "var name is not define\n"
     ]
    }
   ],
   "source": [
    "try:\n",
    "    print(y)\n",
    "except NameError:\n",
    "    print(\"var name is not define\")\n",
    "except:\n",
    "    print(\"othr wrong\")\n",
    "else:\n",
    "    print(\"if there is no error in these code else part run\")"
   ]
  },
  {
   "cell_type": "code",
   "execution_count": 8,
   "id": "15af43c3-ae84-450c-b4c4-ca2bee228bd9",
   "metadata": {},
   "outputs": [
    {
     "name": "stdout",
     "output_type": "stream",
     "text": [
      "hello\n",
      "if there is no error in these code else part run\n"
     ]
    }
   ],
   "source": [
    "try:\n",
    "    print(\"hello\")\n",
    "except NameError:\n",
    "    print(\"var name is not define\")\n",
    "except:\n",
    "    print(\"othr wrong\")\n",
    "else:\n",
    "    print(\"if there is no error in these code else part run\")"
   ]
  },
  {
   "cell_type": "code",
   "execution_count": null,
   "id": "612a3792-bd7d-4089-897c-faae00de63a3",
   "metadata": {},
   "outputs": [],
   "source": []
  }
 ],
 "metadata": {
  "kernelspec": {
   "display_name": "Python 3 (ipykernel)",
   "language": "python",
   "name": "python3"
  },
  "language_info": {
   "codemirror_mode": {
    "name": "ipython",
    "version": 3
   },
   "file_extension": ".py",
   "mimetype": "text/x-python",
   "name": "python",
   "nbconvert_exporter": "python",
   "pygments_lexer": "ipython3",
   "version": "3.10.5"
  }
 },
 "nbformat": 4,
 "nbformat_minor": 5
}
