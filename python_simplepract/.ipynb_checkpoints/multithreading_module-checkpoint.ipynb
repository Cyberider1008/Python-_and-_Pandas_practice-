{
 "cells": [
  {
   "cell_type": "code",
   "execution_count": 1,
   "id": "a4f59f3b-7a19-4436-9327-aa01d2fece47",
   "metadata": {},
   "outputs": [],
   "source": [
    "import threading "
   ]
  },
  {
   "cell_type": "code",
   "execution_count": 2,
   "id": "13100b58-4ef8-479f-814c-766bef349f5b",
   "metadata": {},
   "outputs": [],
   "source": [
    "t = threading.current_thread()"
   ]
  },
  {
   "cell_type": "code",
   "execution_count": 3,
   "id": "f7ed1de5-c891-41cb-a82c-8e5461422860",
   "metadata": {},
   "outputs": [
    {
     "name": "stderr",
     "output_type": "stream",
     "text": [
      "/tmp/ipykernel_2423/3573914883.py:1: DeprecationWarning: getName() is deprecated, get the name attribute instead\n",
      "  t.getName()\n"
     ]
    },
    {
     "data": {
      "text/plain": [
       "'MainThread'"
      ]
     },
     "execution_count": 3,
     "metadata": {},
     "output_type": "execute_result"
    }
   ],
   "source": [
    "t.getName()"
   ]
  },
  {
   "cell_type": "code",
   "execution_count": 4,
   "id": "00667d25-9496-4dc6-9776-53de0bdfddd0",
   "metadata": {},
   "outputs": [],
   "source": [
    "#without using class\n"
   ]
  },
  {
   "cell_type": "code",
   "execution_count": 5,
   "id": "cd8edab8-b4f1-4982-90e8-f751e600348f",
   "metadata": {},
   "outputs": [],
   "source": [
    "from threading import Thread\n"
   ]
  },
  {
   "cell_type": "code",
   "execution_count": 6,
   "id": "359e1caa-f2db-46d7-a98c-6fdb13c653ea",
   "metadata": {},
   "outputs": [],
   "source": [
    "import time"
   ]
  },
  {
   "cell_type": "code",
   "execution_count": 7,
   "id": "b229e108-1224-4c89-a31d-a874f2b43ff4",
   "metadata": {},
   "outputs": [],
   "source": [
    "def sqr(n):\n",
    "    for i in range(1,n):\n",
    "        print(f\"square of {i} is {i*i}\")\n",
    "        time.sleep(1)\n",
    "\n",
    "def cube(n):\n",
    "    for j in range(1,n):\n",
    "        print(f\"cube of {j} is {j*j}\")\n",
    "        time.sleep(4)"
   ]
  },
  {
   "cell_type": "code",
   "execution_count": 8,
   "id": "07228b9d-1732-4ded-b173-30292abf7b0f",
   "metadata": {},
   "outputs": [],
   "source": [
    "t = Thread(target=sqr, args=(10,))"
   ]
  },
  {
   "cell_type": "code",
   "execution_count": 9,
   "id": "cda7889c-88c6-4c8b-9e66-a78274f2d9a1",
   "metadata": {},
   "outputs": [],
   "source": [
    "t1 = Thread(target=cube, args=(10,))"
   ]
  },
  {
   "cell_type": "code",
   "execution_count": 10,
   "id": "1d996b50-6b0d-4a31-b3fd-96df95e03fab",
   "metadata": {},
   "outputs": [
    {
     "name": "stdout",
     "output_type": "stream",
     "text": [
      "square of 1 is 1\n",
      "cube of 1 is 1\n"
     ]
    }
   ],
   "source": [
    "t.start()\n",
    "t1.start()"
   ]
  },
  {
   "cell_type": "code",
   "execution_count": 11,
   "id": "01debb9d-b42a-4a83-8c76-f74decd75dc4",
   "metadata": {},
   "outputs": [
    {
     "name": "stdout",
     "output_type": "stream",
     "text": [
      "square of 2 is 4\n",
      "square of 3 is 9\n",
      "square of 4 is 16\n",
      "square of 5 is 25\n",
      "cube of 2 is 4\n",
      "square of 6 is 36\n",
      "square of 7 is 49\n",
      "square of 8 is 64\n",
      "square of 9 is 81\n",
      "cube of 3 is 9\n",
      "cube of 4 is 16\n",
      "cube of 5 is 25\n",
      "cube of 6 is 36\n",
      "cube of 7 is 49\n",
      "cube of 8 is 64\n"
     ]
    }
   ],
   "source": [
    "#with class\n"
   ]
  },
  {
   "cell_type": "code",
   "execution_count": 13,
   "id": "41c9b982-8576-4cb7-94e2-d7116cd45c94",
   "metadata": {},
   "outputs": [],
   "source": [
    "#with class"
   ]
  },
  {
   "cell_type": "code",
   "execution_count": 14,
   "id": "76ab4986-1b32-4430-929f-03b0c98907af",
   "metadata": {},
   "outputs": [],
   "source": [
    "class MyThread(Thread):\n",
    "    def run(self):\n",
    "        print(\"without extending class\")\n",
    "        "
   ]
  },
  {
   "cell_type": "code",
   "execution_count": 15,
   "id": "7b35def4-fa23-44bd-a070-744b315b79aa",
   "metadata": {},
   "outputs": [
    {
     "name": "stdout",
     "output_type": "stream",
     "text": [
      "without extending class\n"
     ]
    }
   ],
   "source": [
    "t = MyThread()\n",
    "t.start()"
   ]
  },
  {
   "cell_type": "code",
   "execution_count": null,
   "id": "1744ebb3-d198-4fb4-a7e7-b4c2baa723e6",
   "metadata": {},
   "outputs": [],
   "source": []
  }
 ],
 "metadata": {
  "kernelspec": {
   "display_name": "Python 3 (ipykernel)",
   "language": "python",
   "name": "python3"
  },
  "language_info": {
   "codemirror_mode": {
    "name": "ipython",
    "version": 3
   },
   "file_extension": ".py",
   "mimetype": "text/x-python",
   "name": "python",
   "nbconvert_exporter": "python",
   "pygments_lexer": "ipython3",
   "version": "3.10.5"
  }
 },
 "nbformat": 4,
 "nbformat_minor": 5
}
