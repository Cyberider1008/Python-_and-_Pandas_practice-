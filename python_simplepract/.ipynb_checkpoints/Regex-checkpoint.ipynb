{
 "cells": [
  {
   "cell_type": "code",
   "execution_count": 1,
   "id": "7a0e1810-dcda-4961-a516-c41703fa13a3",
   "metadata": {},
   "outputs": [],
   "source": [
    "import re"
   ]
  },
  {
   "cell_type": "code",
   "execution_count": 2,
   "id": "db5ee54b-3402-4616-ba6c-3bed44624303",
   "metadata": {},
   "outputs": [],
   "source": [
    "name = \"ashishkumar anil baranwal\""
   ]
  },
  {
   "cell_type": "code",
   "execution_count": 3,
   "id": "9ca3db79-02e1-4b2b-b49e-d6e01014523b",
   "metadata": {},
   "outputs": [],
   "source": [
    "x = re.findall('an',name)"
   ]
  },
  {
   "cell_type": "code",
   "execution_count": 4,
   "id": "b2c91d22-3a34-4155-9195-b5d17f84611c",
   "metadata": {},
   "outputs": [
    {
     "data": {
      "text/plain": [
       "['an', 'an']"
      ]
     },
     "execution_count": 4,
     "metadata": {},
     "output_type": "execute_result"
    }
   ],
   "source": [
    "x"
   ]
  },
  {
   "cell_type": "code",
   "execution_count": 5,
   "id": "a1439f4c-8416-413c-a463-22c8979897da",
   "metadata": {},
   "outputs": [],
   "source": [
    "y = re.findall(\"[a-i]\",name)"
   ]
  },
  {
   "cell_type": "code",
   "execution_count": 6,
   "id": "2bacb9de-7600-4004-82c5-09dd6160522e",
   "metadata": {},
   "outputs": [
    {
     "data": {
      "text/plain": [
       "['a', 'h', 'i', 'h', 'a', 'a', 'i', 'b', 'a', 'a', 'a']"
      ]
     },
     "execution_count": 6,
     "metadata": {},
     "output_type": "execute_result"
    }
   ],
   "source": [
    "y"
   ]
  },
  {
   "cell_type": "code",
   "execution_count": 7,
   "id": "67b293a0-b19e-422e-a5f1-57ef383e2da8",
   "metadata": {},
   "outputs": [],
   "source": [
    "email = \"baranwalashish1120@gmail.com\""
   ]
  },
  {
   "cell_type": "code",
   "execution_count": 10,
   "id": "8b2ef08f-f97b-41f0-a985-1dff5d6f8fab",
   "metadata": {},
   "outputs": [],
   "source": [
    "e = re.findall(\"\\d\", email)"
   ]
  },
  {
   "cell_type": "code",
   "execution_count": 11,
   "id": "4bf1fc74-e7ef-4900-833d-2ead2bf49f1d",
   "metadata": {},
   "outputs": [
    {
     "data": {
      "text/plain": [
       "['1', '1', '2', '0']"
      ]
     },
     "execution_count": 11,
     "metadata": {},
     "output_type": "execute_result"
    }
   ],
   "source": [
    "e"
   ]
  },
  {
   "cell_type": "code",
   "execution_count": 16,
   "id": "078d5a19-e5e3-4fe6-9e8f-49c42054873f",
   "metadata": {},
   "outputs": [],
   "source": [
    "x1 = re.findall(\"ash..h\",email)"
   ]
  },
  {
   "cell_type": "code",
   "execution_count": 17,
   "id": "7734e738-1555-4f3b-8d16-0f8c4c6f9989",
   "metadata": {},
   "outputs": [
    {
     "data": {
      "text/plain": [
       "['ashish']"
      ]
     },
     "execution_count": 17,
     "metadata": {},
     "output_type": "execute_result"
    }
   ],
   "source": [
    "x1"
   ]
  },
  {
   "cell_type": "code",
   "execution_count": 22,
   "id": "ca7a0a72-ad31-4510-b4d5-738b4f276d45",
   "metadata": {},
   "outputs": [],
   "source": [
    "x2 = re.findall(\"^b\",email)"
   ]
  },
  {
   "cell_type": "code",
   "execution_count": 23,
   "id": "e5b22553-b3be-4ab7-aa50-bddc82c88dea",
   "metadata": {},
   "outputs": [
    {
     "data": {
      "text/plain": [
       "['b']"
      ]
     },
     "execution_count": 23,
     "metadata": {},
     "output_type": "execute_result"
    }
   ],
   "source": [
    "x2"
   ]
  },
  {
   "cell_type": "code",
   "execution_count": 24,
   "id": "9a8c1788-4129-495e-af50-e0a371142c82",
   "metadata": {},
   "outputs": [],
   "source": [
    "x3 =re.findall(\"m$\",email)"
   ]
  },
  {
   "cell_type": "code",
   "execution_count": 25,
   "id": "51fbccc3-1637-491b-8e16-5a14b319d789",
   "metadata": {},
   "outputs": [
    {
     "data": {
      "text/plain": [
       "['m']"
      ]
     },
     "execution_count": 25,
     "metadata": {},
     "output_type": "execute_result"
    }
   ],
   "source": [
    "x3"
   ]
  },
  {
   "cell_type": "code",
   "execution_count": 26,
   "id": "8ebd89d1-9c7c-4c38-b020-35e82e7c2cdb",
   "metadata": {},
   "outputs": [],
   "source": [
    "v= re.compile(email)"
   ]
  },
  {
   "cell_type": "code",
   "execution_count": 29,
   "id": "2547107c-f4a4-4ba6-ab18-494c22447bc3",
   "metadata": {},
   "outputs": [
    {
     "data": {
      "text/plain": [
       "re.compile(r'baranwalashish1120@gmail.com', re.UNICODE)"
      ]
     },
     "execution_count": 29,
     "metadata": {},
     "output_type": "execute_result"
    }
   ],
   "source": [
    "v"
   ]
  },
  {
   "cell_type": "code",
   "execution_count": 30,
   "id": "13ab8ffa-ddbc-4add-83fd-0cd04098485c",
   "metadata": {},
   "outputs": [],
   "source": [
    "x3 = re.findall(\"\\Ab\",email)"
   ]
  },
  {
   "cell_type": "code",
   "execution_count": 31,
   "id": "491d5ba9-9d61-404c-8120-c84aec0d2a59",
   "metadata": {},
   "outputs": [
    {
     "data": {
      "text/plain": [
       "['b']"
      ]
     },
     "execution_count": 31,
     "metadata": {},
     "output_type": "execute_result"
    }
   ],
   "source": [
    "x3"
   ]
  },
  {
   "cell_type": "code",
   "execution_count": 32,
   "id": "b3f589de-1923-410d-ad50-05f5f734fe02",
   "metadata": {},
   "outputs": [
    {
     "data": {
      "text/plain": [
       "True"
      ]
     },
     "execution_count": 32,
     "metadata": {},
     "output_type": "execute_result"
    }
   ],
   "source": [
    "True if x3 else False"
   ]
  },
  {
   "cell_type": "code",
   "execution_count": 33,
   "id": "2bdb1582-f6f8-42df-8495-6c1f863b6857",
   "metadata": {},
   "outputs": [],
   "source": [
    "#check phone number is valid or not"
   ]
  },
  {
   "cell_type": "code",
   "execution_count": 39,
   "id": "a5e52155-cdce-46bd-aae0-c6277a2b3922",
   "metadata": {},
   "outputs": [
    {
     "name": "stdout",
     "output_type": "stream",
     "text": [
      "False\n",
      "final\n"
     ]
    }
   ],
   "source": [
    "def chexk_num(num):\n",
    "    try:\n",
    "        pattern = re.compile(r'^[89][0-9]{9}$')\n",
    "        result = re.match(pattern,num)\n",
    "        print(True if result else False)\n",
    "    except:\n",
    "        pass\n",
    "    finally:\n",
    "        print(\"final\")\n",
    "\n",
    "chexk_num('9821292948fg')\n",
    "\n",
    "\n",
    "        \n",
    "        "
   ]
  },
  {
   "cell_type": "code",
   "execution_count": 40,
   "id": "304c66de-66c1-42b7-b5cb-ee4a57aebefd",
   "metadata": {},
   "outputs": [],
   "source": [
    "#check email\n"
   ]
  },
  {
   "cell_type": "code",
   "execution_count": 48,
   "id": "a9d008fb-898f-4554-a794-46656149f4b2",
   "metadata": {},
   "outputs": [
    {
     "name": "stdout",
     "output_type": "stream",
     "text": [
      "True\n"
     ]
    }
   ],
   "source": [
    "def check_email(email):\n",
    "    patter = re.compile(r'^[A-Z a-z 0-9 \\.]+[A-Za-z0-9]*[@][a-z]+[\\.][a-z]{2,3}$')\n",
    "    result = re.match(patter, email)\n",
    "    return result\n",
    "e = 'abarahbhnwal.it@gmail.com'\n",
    "print(True if check_email(e) else False)"
   ]
  },
  {
   "cell_type": "code",
   "execution_count": null,
   "id": "39cc509c-e401-442d-9381-188d9aec3b09",
   "metadata": {},
   "outputs": [],
   "source": []
  }
 ],
 "metadata": {
  "kernelspec": {
   "display_name": "Python 3 (ipykernel)",
   "language": "python",
   "name": "python3"
  },
  "language_info": {
   "codemirror_mode": {
    "name": "ipython",
    "version": 3
   },
   "file_extension": ".py",
   "mimetype": "text/x-python",
   "name": "python",
   "nbconvert_exporter": "python",
   "pygments_lexer": "ipython3",
   "version": "3.10.5"
  }
 },
 "nbformat": 4,
 "nbformat_minor": 5
}
