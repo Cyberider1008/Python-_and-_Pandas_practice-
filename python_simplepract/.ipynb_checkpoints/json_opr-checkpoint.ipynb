{
 "cells": [
  {
   "cell_type": "code",
   "execution_count": 1,
   "id": "878ec575-a17a-4265-91bf-8f5aa2eb35f8",
   "metadata": {},
   "outputs": [],
   "source": [
    "#json operations"
   ]
  },
  {
   "cell_type": "code",
   "execution_count": 2,
   "id": "2f2a594f-fcbc-427d-81ea-847fce446878",
   "metadata": {},
   "outputs": [],
   "source": [
    "import json"
   ]
  },
  {
   "cell_type": "code",
   "execution_count": 3,
   "id": "6d96f961-fd79-4b7a-b363-562b33fea83f",
   "metadata": {},
   "outputs": [],
   "source": [
    "info = '{\"name\":\"ashish\", \"age\":45, \"city\":\"mumbai\"}'"
   ]
  },
  {
   "cell_type": "code",
   "execution_count": 5,
   "id": "c5db9b13-baf2-43f2-bfe4-a957c8344313",
   "metadata": {},
   "outputs": [],
   "source": [
    "y = json.loads(info)"
   ]
  },
  {
   "cell_type": "code",
   "execution_count": 6,
   "id": "9172936e-c356-4ae6-a910-f24e5c956579",
   "metadata": {},
   "outputs": [
    {
     "data": {
      "text/plain": [
       "45"
      ]
     },
     "execution_count": 6,
     "metadata": {},
     "output_type": "execute_result"
    }
   ],
   "source": [
    "y[\"age\"]"
   ]
  },
  {
   "cell_type": "code",
   "execution_count": 7,
   "id": "e3e5af01-28e5-4de6-b419-6aee609239aa",
   "metadata": {},
   "outputs": [
    {
     "data": {
      "text/plain": [
       "str"
      ]
     },
     "execution_count": 7,
     "metadata": {},
     "output_type": "execute_result"
    }
   ],
   "source": [
    "type(info)"
   ]
  },
  {
   "cell_type": "code",
   "execution_count": 11,
   "id": "9b96d69c-c385-4693-93de-a7f076463233",
   "metadata": {},
   "outputs": [],
   "source": [
    "#here we start from using object using dumps"
   ]
  },
  {
   "cell_type": "code",
   "execution_count": 8,
   "id": "e209557f-28f1-4902-abcd-35ddb28cccd7",
   "metadata": {},
   "outputs": [],
   "source": [
    "info2 = {\"name\":\"manish\", \"age\":67, \"city\":\"pune\"}"
   ]
  },
  {
   "cell_type": "code",
   "execution_count": 9,
   "id": "4fde4446-fcca-40c5-b352-e9f6196610bc",
   "metadata": {},
   "outputs": [
    {
     "data": {
      "text/plain": [
       "dict"
      ]
     },
     "execution_count": 9,
     "metadata": {},
     "output_type": "execute_result"
    }
   ],
   "source": [
    "type(info2)"
   ]
  },
  {
   "cell_type": "code",
   "execution_count": 12,
   "id": "86d7a99d-849d-4ca7-b8d5-92ca1dfbc595",
   "metadata": {},
   "outputs": [],
   "source": [
    "x= json.dumps(info2)"
   ]
  },
  {
   "cell_type": "code",
   "execution_count": 13,
   "id": "96a57047-a64d-4d3b-90b1-683915be9bf7",
   "metadata": {},
   "outputs": [
    {
     "data": {
      "text/plain": [
       "'{\"name\": \"manish\", \"age\": 67, \"city\": \"pune\"}'"
      ]
     },
     "execution_count": 13,
     "metadata": {},
     "output_type": "execute_result"
    }
   ],
   "source": [
    "x"
   ]
  },
  {
   "cell_type": "code",
   "execution_count": 14,
   "id": "39659f57-6996-4278-84bd-cfd8cf4344e8",
   "metadata": {},
   "outputs": [],
   "source": [
    "l = json.loads(x)"
   ]
  },
  {
   "cell_type": "code",
   "execution_count": 15,
   "id": "0c4c77d6-0c8a-4c06-ad26-bf82464b1a4a",
   "metadata": {},
   "outputs": [
    {
     "data": {
      "text/plain": [
       "{'name': 'manish', 'age': 67, 'city': 'pune'}"
      ]
     },
     "execution_count": 15,
     "metadata": {},
     "output_type": "execute_result"
    }
   ],
   "source": [
    "l"
   ]
  },
  {
   "cell_type": "code",
   "execution_count": 16,
   "id": "196f9f49-cbff-4d43-8f1b-298006a05a24",
   "metadata": {},
   "outputs": [
    {
     "data": {
      "text/plain": [
       "dict"
      ]
     },
     "execution_count": 16,
     "metadata": {},
     "output_type": "execute_result"
    }
   ],
   "source": [
    "type(l)"
   ]
  },
  {
   "cell_type": "code",
   "execution_count": null,
   "id": "27c0e786-dcbe-4747-9a7b-c3e491a4da9f",
   "metadata": {},
   "outputs": [],
   "source": []
  }
 ],
 "metadata": {
  "kernelspec": {
   "display_name": "Python 3 (ipykernel)",
   "language": "python",
   "name": "python3"
  },
  "language_info": {
   "codemirror_mode": {
    "name": "ipython",
    "version": 3
   },
   "file_extension": ".py",
   "mimetype": "text/x-python",
   "name": "python",
   "nbconvert_exporter": "python",
   "pygments_lexer": "ipython3",
   "version": "3.10.5"
  }
 },
 "nbformat": 4,
 "nbformat_minor": 5
}
