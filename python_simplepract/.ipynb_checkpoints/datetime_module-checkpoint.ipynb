{
 "cells": [
  {
   "cell_type": "code",
   "execution_count": 1,
   "id": "a77c0eb0-afc7-4f0a-ba35-16d079db7707",
   "metadata": {},
   "outputs": [],
   "source": [
    "#date time module here "
   ]
  },
  {
   "cell_type": "code",
   "execution_count": 3,
   "id": "d3d5f24b-6da4-4322-889d-b1221c79a44c",
   "metadata": {},
   "outputs": [],
   "source": [
    "# import datetime"
   ]
  },
  {
   "cell_type": "code",
   "execution_count": 4,
   "id": "5109901c-15bf-4570-a945-2d4dee39b595",
   "metadata": {},
   "outputs": [],
   "source": [
    "from datetime import datetime"
   ]
  },
  {
   "cell_type": "code",
   "execution_count": 5,
   "id": "ca144af1-cbcc-48cb-b895-2037e926d386",
   "metadata": {},
   "outputs": [],
   "source": [
    "current = datetime.now()"
   ]
  },
  {
   "cell_type": "code",
   "execution_count": 7,
   "id": "fabd5881-e655-47d1-92c1-a77b35cdce3a",
   "metadata": {},
   "outputs": [
    {
     "data": {
      "text/plain": [
       "datetime.datetime(2024, 4, 27, 12, 1, 38, 404498)"
      ]
     },
     "execution_count": 7,
     "metadata": {},
     "output_type": "execute_result"
    }
   ],
   "source": [
    "current"
   ]
  },
  {
   "cell_type": "code",
   "execution_count": 8,
   "id": "27bfc27f-bc9b-47da-b292-ed986920cb92",
   "metadata": {},
   "outputs": [],
   "source": [
    "c = current "
   ]
  },
  {
   "cell_type": "code",
   "execution_count": 10,
   "id": "13fc7469-d08a-43b2-9d10-115d25cd36b2",
   "metadata": {},
   "outputs": [
    {
     "data": {
      "text/plain": [
       "2024"
      ]
     },
     "execution_count": 10,
     "metadata": {},
     "output_type": "execute_result"
    }
   ],
   "source": [
    "c.year"
   ]
  },
  {
   "cell_type": "code",
   "execution_count": 11,
   "id": "d1b5f007-9206-4abd-b986-697ccfca3434",
   "metadata": {},
   "outputs": [
    {
     "data": {
      "text/plain": [
       "'Saturday'"
      ]
     },
     "execution_count": 11,
     "metadata": {},
     "output_type": "execute_result"
    }
   ],
   "source": [
    "c.strftime(\"%A\")"
   ]
  },
  {
   "cell_type": "code",
   "execution_count": 12,
   "id": "fdbe63fe-b0ca-4f3d-ad3d-058f50b88c02",
   "metadata": {},
   "outputs": [],
   "source": [
    "x = datetime(2020, 5, 17)"
   ]
  },
  {
   "cell_type": "code",
   "execution_count": 13,
   "id": "28201d7d-8dc6-493b-a77a-0cd81de8ac6b",
   "metadata": {},
   "outputs": [
    {
     "data": {
      "text/plain": [
       "datetime.datetime(2020, 5, 17, 0, 0)"
      ]
     },
     "execution_count": 13,
     "metadata": {},
     "output_type": "execute_result"
    }
   ],
   "source": [
    "x"
   ]
  },
  {
   "cell_type": "code",
   "execution_count": 14,
   "id": "e74b63e3-32a8-4c43-bf8f-d1694b47d25b",
   "metadata": {},
   "outputs": [
    {
     "data": {
      "text/plain": [
       "datetime.datetime(2024, 4, 27, 12, 1, 38, 404498)"
      ]
     },
     "execution_count": 14,
     "metadata": {},
     "output_type": "execute_result"
    }
   ],
   "source": [
    "c"
   ]
  },
  {
   "cell_type": "code",
   "execution_count": 15,
   "id": "938a125d-0abf-4f7c-9c7d-5097920ce258",
   "metadata": {},
   "outputs": [],
   "source": [
    "#start from codes"
   ]
  },
  {
   "cell_type": "code",
   "execution_count": 16,
   "id": "1b57ac31-704a-432b-9d11-bc7c388ec35b",
   "metadata": {},
   "outputs": [
    {
     "data": {
      "text/plain": [
       "datetime.datetime(2024, 4, 27, 12, 1, 38, 404498)"
      ]
     },
     "execution_count": 16,
     "metadata": {},
     "output_type": "execute_result"
    }
   ],
   "source": [
    "c"
   ]
  },
  {
   "cell_type": "code",
   "execution_count": 17,
   "id": "440b8116-df22-4f62-9e00-40d29539ccd0",
   "metadata": {},
   "outputs": [],
   "source": [
    "from datetime import datetime as d"
   ]
  },
  {
   "cell_type": "code",
   "execution_count": 18,
   "id": "557b863a-52de-4b9b-bb4b-97ddbf601fdf",
   "metadata": {},
   "outputs": [],
   "source": [
    "c= d.now()"
   ]
  },
  {
   "cell_type": "code",
   "execution_count": 19,
   "id": "8db4c45a-0002-422c-93c2-aea65c63682b",
   "metadata": {},
   "outputs": [
    {
     "data": {
      "text/plain": [
       "datetime.datetime(2024, 4, 27, 12, 7, 14, 560317)"
      ]
     },
     "execution_count": 19,
     "metadata": {},
     "output_type": "execute_result"
    }
   ],
   "source": [
    "c"
   ]
  },
  {
   "cell_type": "code",
   "execution_count": 22,
   "id": "b00859ab-b342-4e78-ba34-d4fa785ec48a",
   "metadata": {},
   "outputs": [],
   "source": [
    "short_day = c.strftime(\"%a\")"
   ]
  },
  {
   "cell_type": "code",
   "execution_count": 23,
   "id": "83ca2f05-4dec-4804-9483-0af8d653ec4f",
   "metadata": {},
   "outputs": [
    {
     "data": {
      "text/plain": [
       "'Sat'"
      ]
     },
     "execution_count": 23,
     "metadata": {},
     "output_type": "execute_result"
    }
   ],
   "source": [
    "short_day"
   ]
  },
  {
   "cell_type": "code",
   "execution_count": 24,
   "id": "cbecd84b-79ba-4df7-9e73-43415b442699",
   "metadata": {},
   "outputs": [],
   "source": [
    "full_day = c.strftime(\"%A\")"
   ]
  },
  {
   "cell_type": "code",
   "execution_count": 25,
   "id": "38505086-8aa9-4a90-9d91-f65bc5286bb5",
   "metadata": {},
   "outputs": [
    {
     "data": {
      "text/plain": [
       "'Saturday'"
      ]
     },
     "execution_count": 25,
     "metadata": {},
     "output_type": "execute_result"
    }
   ],
   "source": [
    "full_day"
   ]
  },
  {
   "cell_type": "code",
   "execution_count": 26,
   "id": "86e001f5-e3b0-4f4f-9700-ad9ef5431e12",
   "metadata": {},
   "outputs": [],
   "source": [
    "week_num = c.strftime(\"%w\")"
   ]
  },
  {
   "cell_type": "code",
   "execution_count": 27,
   "id": "41dc0e28-953a-48b7-944b-f69866d29298",
   "metadata": {},
   "outputs": [
    {
     "data": {
      "text/plain": [
       "'6'"
      ]
     },
     "execution_count": 27,
     "metadata": {},
     "output_type": "execute_result"
    }
   ],
   "source": [
    "week_num"
   ]
  },
  {
   "cell_type": "code",
   "execution_count": 28,
   "id": "f7f56289-1fbc-45ed-916b-f1c5c17dc1d2",
   "metadata": {},
   "outputs": [],
   "source": [
    "day_of_month_num = c.strftime(\"%d\")"
   ]
  },
  {
   "cell_type": "code",
   "execution_count": 29,
   "id": "6541b8e2-1fc9-44c7-85f5-e4808ada24b6",
   "metadata": {},
   "outputs": [
    {
     "data": {
      "text/plain": [
       "'27'"
      ]
     },
     "execution_count": 29,
     "metadata": {},
     "output_type": "execute_result"
    }
   ],
   "source": [
    "day_of_month_num"
   ]
  },
  {
   "cell_type": "code",
   "execution_count": 31,
   "id": "6fc9fae6-3b95-4243-b976-47139294dce0",
   "metadata": {},
   "outputs": [],
   "source": [
    "short_month_name = c.strftime(\"%b\")"
   ]
  },
  {
   "cell_type": "code",
   "execution_count": 32,
   "id": "dd68ba55-0f76-4dca-949e-3f64c40d21bf",
   "metadata": {},
   "outputs": [
    {
     "data": {
      "text/plain": [
       "'Apr'"
      ]
     },
     "execution_count": 32,
     "metadata": {},
     "output_type": "execute_result"
    }
   ],
   "source": [
    "short_month_name"
   ]
  },
  {
   "cell_type": "code",
   "execution_count": 33,
   "id": "e9cacb68-9765-41b1-98b4-886acb905521",
   "metadata": {},
   "outputs": [],
   "source": [
    "full_month_name = c.strftime(\"%B\")"
   ]
  },
  {
   "cell_type": "code",
   "execution_count": 34,
   "id": "ae63d1bc-fd67-4f3c-b350-5bda0b9dfeea",
   "metadata": {},
   "outputs": [
    {
     "data": {
      "text/plain": [
       "'April'"
      ]
     },
     "execution_count": 34,
     "metadata": {},
     "output_type": "execute_result"
    }
   ],
   "source": [
    "full_month_name"
   ]
  },
  {
   "cell_type": "code",
   "execution_count": 35,
   "id": "9efb97ef-9321-4cf0-af60-90ba93dc73ac",
   "metadata": {},
   "outputs": [],
   "source": [
    "month_yrs = c.strftime(\"%m\")"
   ]
  },
  {
   "cell_type": "code",
   "execution_count": 36,
   "id": "b654913a-1e33-4057-bd4b-480cacb0780e",
   "metadata": {},
   "outputs": [
    {
     "data": {
      "text/plain": [
       "'04'"
      ]
     },
     "execution_count": 36,
     "metadata": {},
     "output_type": "execute_result"
    }
   ],
   "source": [
    "month_yrs"
   ]
  },
  {
   "cell_type": "code",
   "execution_count": 37,
   "id": "ffd929ed-415a-422b-b916-fb20d901fd5a",
   "metadata": {},
   "outputs": [],
   "source": [
    "yrs = c.strftime(\"%y\")"
   ]
  },
  {
   "cell_type": "code",
   "execution_count": 38,
   "id": "634385a1-e56d-4efc-8320-7216cb326b58",
   "metadata": {},
   "outputs": [
    {
     "data": {
      "text/plain": [
       "'24'"
      ]
     },
     "execution_count": 38,
     "metadata": {},
     "output_type": "execute_result"
    }
   ],
   "source": [
    "yrs"
   ]
  },
  {
   "cell_type": "code",
   "execution_count": 39,
   "id": "337bd0da-d3e4-458d-8c8e-c6aba6fd6888",
   "metadata": {},
   "outputs": [],
   "source": [
    "full_yrs = c.strftime(\"%Y\")"
   ]
  },
  {
   "cell_type": "code",
   "execution_count": 41,
   "id": "9512e9bf-a8b0-40a0-9ca4-1c12649a2314",
   "metadata": {},
   "outputs": [
    {
     "data": {
      "text/plain": [
       "'2024'"
      ]
     },
     "execution_count": 41,
     "metadata": {},
     "output_type": "execute_result"
    }
   ],
   "source": [
    "full_yrs"
   ]
  },
  {
   "cell_type": "code",
   "execution_count": 42,
   "id": "a2894c73-de54-4cf0-96bc-0b346e0d949e",
   "metadata": {},
   "outputs": [],
   "source": [
    "full_hrs = c.strftime(\"%H\")"
   ]
  },
  {
   "cell_type": "code",
   "execution_count": 43,
   "id": "d3cd1b3e-88ca-440c-9833-d1c5d017bb2c",
   "metadata": {},
   "outputs": [
    {
     "data": {
      "text/plain": [
       "'12'"
      ]
     },
     "execution_count": 43,
     "metadata": {},
     "output_type": "execute_result"
    }
   ],
   "source": [
    "full_hrs"
   ]
  },
  {
   "cell_type": "code",
   "execution_count": 44,
   "id": "8803c5d8-ddf9-4977-be49-6475a650be78",
   "metadata": {},
   "outputs": [],
   "source": [
    "short_hrs = c.strftime(\"%I\")"
   ]
  },
  {
   "cell_type": "code",
   "execution_count": 45,
   "id": "8f268cb8-b1f3-4d7a-a9cb-d2b6b063b6e9",
   "metadata": {},
   "outputs": [
    {
     "data": {
      "text/plain": [
       "'12'"
      ]
     },
     "execution_count": 45,
     "metadata": {},
     "output_type": "execute_result"
    }
   ],
   "source": [
    "short_hrs"
   ]
  },
  {
   "cell_type": "code",
   "execution_count": 46,
   "id": "fa87c1c1-61ba-404f-99f8-8e9160ef9281",
   "metadata": {},
   "outputs": [],
   "source": [
    "am_pm = c.strftime(\"%p\")"
   ]
  },
  {
   "cell_type": "code",
   "execution_count": 47,
   "id": "8de96bf1-2b17-4cdb-b32f-ebeec7612efa",
   "metadata": {},
   "outputs": [
    {
     "data": {
      "text/plain": [
       "'PM'"
      ]
     },
     "execution_count": 47,
     "metadata": {},
     "output_type": "execute_result"
    }
   ],
   "source": [
    "am_pm"
   ]
  },
  {
   "cell_type": "code",
   "execution_count": 48,
   "id": "f217183f-76f7-44e6-aba6-7c44ca2c2434",
   "metadata": {},
   "outputs": [
    {
     "data": {
      "text/plain": [
       "64"
      ]
     },
     "execution_count": 48,
     "metadata": {},
     "output_type": "execute_result"
    }
   ],
   "source": [
    "pow(4,3)"
   ]
  },
  {
   "cell_type": "code",
   "execution_count": null,
   "id": "edfd3de3-4c4d-49d1-9040-95e6378d03d7",
   "metadata": {},
   "outputs": [],
   "source": []
  }
 ],
 "metadata": {
  "kernelspec": {
   "display_name": "Python 3 (ipykernel)",
   "language": "python",
   "name": "python3"
  },
  "language_info": {
   "codemirror_mode": {
    "name": "ipython",
    "version": 3
   },
   "file_extension": ".py",
   "mimetype": "text/x-python",
   "name": "python",
   "nbconvert_exporter": "python",
   "pygments_lexer": "ipython3",
   "version": "3.10.5"
  }
 },
 "nbformat": 4,
 "nbformat_minor": 5
}
