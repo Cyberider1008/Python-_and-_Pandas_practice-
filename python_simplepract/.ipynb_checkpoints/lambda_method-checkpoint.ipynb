{
 "cells": [
  {
   "cell_type": "code",
   "execution_count": 1,
   "id": "82601844-dcca-4908-adb1-5608686f3375",
   "metadata": {},
   "outputs": [],
   "source": [
    "#lambda method here"
   ]
  },
  {
   "cell_type": "code",
   "execution_count": 2,
   "id": "a86e4ace-b301-4fe0-a147-98c0edc0fae6",
   "metadata": {},
   "outputs": [],
   "source": [
    "x = lambda a : a*10"
   ]
  },
  {
   "cell_type": "code",
   "execution_count": 3,
   "id": "ba0fed43-9978-4366-bd6c-41d331ea3c13",
   "metadata": {},
   "outputs": [
    {
     "data": {
      "text/plain": [
       "20"
      ]
     },
     "execution_count": 3,
     "metadata": {},
     "output_type": "execute_result"
    }
   ],
   "source": [
    "x(2)"
   ]
  },
  {
   "cell_type": "code",
   "execution_count": 4,
   "id": "65805b6a-be7c-4199-a0b0-5c27f74e8089",
   "metadata": {},
   "outputs": [],
   "source": [
    "y = lambda a,b,c : a * b * c"
   ]
  },
  {
   "cell_type": "code",
   "execution_count": 5,
   "id": "0dc9229e-88e5-4ab3-90bf-882194b88e61",
   "metadata": {},
   "outputs": [
    {
     "data": {
      "text/plain": [
       "24"
      ]
     },
     "execution_count": 5,
     "metadata": {},
     "output_type": "execute_result"
    }
   ],
   "source": [
    "y(2,3,4)"
   ]
  },
  {
   "cell_type": "code",
   "execution_count": 7,
   "id": "84bb7a15-be66-4b0a-b759-6c01d4501742",
   "metadata": {},
   "outputs": [],
   "source": [
    "def any_fun(n):\n",
    "    return lambda a : a * n"
   ]
  },
  {
   "cell_type": "code",
   "execution_count": 8,
   "id": "0736db06-8b0b-48dd-b90b-d8d44e6d13be",
   "metadata": {},
   "outputs": [],
   "source": [
    "x = any_fun(5)"
   ]
  },
  {
   "cell_type": "code",
   "execution_count": 9,
   "id": "34321f29-d5e0-4fb9-86f9-4c09e066c9d1",
   "metadata": {},
   "outputs": [
    {
     "data": {
      "text/plain": [
       "10"
      ]
     },
     "execution_count": 9,
     "metadata": {},
     "output_type": "execute_result"
    }
   ],
   "source": [
    "x(2)"
   ]
  },
  {
   "cell_type": "code",
   "execution_count": 14,
   "id": "d47edb72-cf96-4667-aebf-f7ac9c303824",
   "metadata": {},
   "outputs": [],
   "source": [
    "even = list(filter(lambda n : n%2 == 0,range(1,10)))"
   ]
  },
  {
   "cell_type": "code",
   "execution_count": 15,
   "id": "4a94d7fd-6748-4291-aba4-9e684b0b4bea",
   "metadata": {},
   "outputs": [
    {
     "data": {
      "text/plain": [
       "[2, 4, 6, 8]"
      ]
     },
     "execution_count": 15,
     "metadata": {},
     "output_type": "execute_result"
    }
   ],
   "source": [
    "even"
   ]
  },
  {
   "cell_type": "code",
   "execution_count": 12,
   "id": "7bc54358-9ae9-4984-a319-f26a1634f586",
   "metadata": {},
   "outputs": [
    {
     "data": {
      "text/plain": [
       "range(1, 20)"
      ]
     },
     "execution_count": 12,
     "metadata": {},
     "output_type": "execute_result"
    }
   ],
   "source": [
    "range(1,20)"
   ]
  },
  {
   "cell_type": "code",
   "execution_count": 13,
   "id": "a0e3ccec-1427-45bb-b9a5-f20e8e50c0b6",
   "metadata": {},
   "outputs": [
    {
     "data": {
      "text/plain": [
       "[1, 2, 3, 4, 5, 6, 7, 8, 9, 10, 11, 12, 13, 14, 15, 16, 17, 18, 19]"
      ]
     },
     "execution_count": 13,
     "metadata": {},
     "output_type": "execute_result"
    }
   ],
   "source": [
    "list(range(1,20))"
   ]
  },
  {
   "cell_type": "code",
   "execution_count": 16,
   "id": "d7cb440a-31a0-481a-9eba-5567baa00c67",
   "metadata": {},
   "outputs": [],
   "source": [
    "cube = list(map(lambda n : pow(n, 3), even))"
   ]
  },
  {
   "cell_type": "code",
   "execution_count": 17,
   "id": "5d80e6b1-bef9-408a-93ed-31f2a2d54c66",
   "metadata": {},
   "outputs": [
    {
     "data": {
      "text/plain": [
       "[8, 64, 216, 512]"
      ]
     },
     "execution_count": 17,
     "metadata": {},
     "output_type": "execute_result"
    }
   ],
   "source": [
    "cube"
   ]
  },
  {
   "cell_type": "code",
   "execution_count": null,
   "id": "e229a683-1ad4-4391-8cd9-28116f075a92",
   "metadata": {},
   "outputs": [],
   "source": []
  }
 ],
 "metadata": {
  "kernelspec": {
   "display_name": "Python 3 (ipykernel)",
   "language": "python",
   "name": "python3"
  },
  "language_info": {
   "codemirror_mode": {
    "name": "ipython",
    "version": 3
   },
   "file_extension": ".py",
   "mimetype": "text/x-python",
   "name": "python",
   "nbconvert_exporter": "python",
   "pygments_lexer": "ipython3",
   "version": "3.10.5"
  }
 },
 "nbformat": 4,
 "nbformat_minor": 5
}
