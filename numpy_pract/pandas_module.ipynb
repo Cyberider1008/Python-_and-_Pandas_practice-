{
 "cells": [
  {
   "cell_type": "code",
   "execution_count": 1,
   "id": "f2463007-958f-4044-b951-186df62b885a",
   "metadata": {},
   "outputs": [],
   "source": [
    "import pandas as pd"
   ]
  },
  {
   "cell_type": "code",
   "execution_count": 2,
   "id": "14dc891f-8fa9-4e34-8fbf-a5bd15c21a82",
   "metadata": {},
   "outputs": [
    {
     "data": {
      "text/plain": [
       "'2.2.3'"
      ]
     },
     "execution_count": 2,
     "metadata": {},
     "output_type": "execute_result"
    }
   ],
   "source": [
    "pd.__version__"
   ]
  },
  {
   "cell_type": "code",
   "execution_count": 3,
   "id": "1d9e7751-5111-4c21-ae5e-88c90e53b04c",
   "metadata": {},
   "outputs": [],
   "source": [
    "frddata = {'name':['aniket','ritesh','kedar'], 'age': [ 21, 45, 65]}"
   ]
  },
  {
   "cell_type": "code",
   "execution_count": 4,
   "id": "5a686a2a-9bbc-427f-9f42-cd7be5985a99",
   "metadata": {},
   "outputs": [
    {
     "data": {
      "text/plain": [
       "{'name': ['aniket', 'ritesh', 'kedar'], 'age': [21, 45, 65]}"
      ]
     },
     "execution_count": 4,
     "metadata": {},
     "output_type": "execute_result"
    }
   ],
   "source": [
    "frddata"
   ]
  },
  {
   "cell_type": "code",
   "execution_count": 5,
   "id": "1a019318-5d05-4cdf-9778-16dca6561669",
   "metadata": {},
   "outputs": [],
   "source": [
    "df = pd.DataFrame(frddata)"
   ]
  },
  {
   "cell_type": "code",
   "execution_count": 6,
   "id": "8aee764e-9443-43db-b1e0-d8e4b111c063",
   "metadata": {},
   "outputs": [
    {
     "data": {
      "text/html": [
       "<div>\n",
       "<style scoped>\n",
       "    .dataframe tbody tr th:only-of-type {\n",
       "        vertical-align: middle;\n",
       "    }\n",
       "\n",
       "    .dataframe tbody tr th {\n",
       "        vertical-align: top;\n",
       "    }\n",
       "\n",
       "    .dataframe thead th {\n",
       "        text-align: right;\n",
       "    }\n",
       "</style>\n",
       "<table border=\"1\" class=\"dataframe\">\n",
       "  <thead>\n",
       "    <tr style=\"text-align: right;\">\n",
       "      <th></th>\n",
       "      <th>name</th>\n",
       "      <th>age</th>\n",
       "    </tr>\n",
       "  </thead>\n",
       "  <tbody>\n",
       "    <tr>\n",
       "      <th>0</th>\n",
       "      <td>aniket</td>\n",
       "      <td>21</td>\n",
       "    </tr>\n",
       "    <tr>\n",
       "      <th>1</th>\n",
       "      <td>ritesh</td>\n",
       "      <td>45</td>\n",
       "    </tr>\n",
       "    <tr>\n",
       "      <th>2</th>\n",
       "      <td>kedar</td>\n",
       "      <td>65</td>\n",
       "    </tr>\n",
       "  </tbody>\n",
       "</table>\n",
       "</div>"
      ],
      "text/plain": [
       "     name  age\n",
       "0  aniket   21\n",
       "1  ritesh   45\n",
       "2   kedar   65"
      ]
     },
     "execution_count": 6,
     "metadata": {},
     "output_type": "execute_result"
    }
   ],
   "source": [
    "df"
   ]
  },
  {
   "cell_type": "code",
   "execution_count": 7,
   "id": "d1ea1d13-6596-4dcc-b482-9f0de70a84c2",
   "metadata": {},
   "outputs": [],
   "source": [
    "#one dimension array holding data like column"
   ]
  },
  {
   "cell_type": "code",
   "execution_count": 8,
   "id": "508b41c4-b4d3-4a3b-8116-3544c6d70905",
   "metadata": {},
   "outputs": [],
   "source": [
    "l = [1,2,3,4]"
   ]
  },
  {
   "cell_type": "code",
   "execution_count": 9,
   "id": "607505ba-2c93-42d8-bc12-da00e5732cb8",
   "metadata": {},
   "outputs": [],
   "source": [
    "s = pd.Series(l)"
   ]
  },
  {
   "cell_type": "code",
   "execution_count": 10,
   "id": "e72da16c-8844-4f06-a081-0502e6808ca0",
   "metadata": {},
   "outputs": [
    {
     "data": {
      "text/plain": [
       "0    1\n",
       "1    2\n",
       "2    3\n",
       "3    4\n",
       "dtype: int64"
      ]
     },
     "execution_count": 10,
     "metadata": {},
     "output_type": "execute_result"
    }
   ],
   "source": [
    "s"
   ]
  },
  {
   "cell_type": "code",
   "execution_count": 11,
   "id": "30d588b3-2326-438e-b26e-8339cf46989b",
   "metadata": {},
   "outputs": [
    {
     "data": {
      "text/plain": [
       "np.int64(3)"
      ]
     },
     "execution_count": 11,
     "metadata": {},
     "output_type": "execute_result"
    }
   ],
   "source": [
    "s[2]"
   ]
  },
  {
   "cell_type": "code",
   "execution_count": 12,
   "id": "f6e8933c-43e2-4fc4-b710-3248467d2679",
   "metadata": {},
   "outputs": [
    {
     "data": {
      "text/plain": [
       "0    1\n",
       "1    2\n",
       "dtype: int64"
      ]
     },
     "execution_count": 12,
     "metadata": {},
     "output_type": "execute_result"
    }
   ],
   "source": [
    "s[:2]"
   ]
  },
  {
   "cell_type": "code",
   "execution_count": 13,
   "id": "4927ca38-624a-4832-9e5d-c99a3371ec04",
   "metadata": {},
   "outputs": [],
   "source": [
    "s_index = pd.Series(l, index=[\"x\",\"y\",\"z\",\"i\"])"
   ]
  },
  {
   "cell_type": "code",
   "execution_count": 14,
   "id": "642bd81d-6ade-4edd-bdab-d3f875829cb4",
   "metadata": {},
   "outputs": [
    {
     "data": {
      "text/plain": [
       "x    1\n",
       "y    2\n",
       "z    3\n",
       "i    4\n",
       "dtype: int64"
      ]
     },
     "execution_count": 14,
     "metadata": {},
     "output_type": "execute_result"
    }
   ],
   "source": [
    "s_index"
   ]
  },
  {
   "cell_type": "code",
   "execution_count": 15,
   "id": "ae85877e-0f55-400b-a270-5ae392f9f14d",
   "metadata": {},
   "outputs": [
    {
     "data": {
      "text/plain": [
       "np.int64(2)"
      ]
     },
     "execution_count": 15,
     "metadata": {},
     "output_type": "execute_result"
    }
   ],
   "source": [
    "s_index[\"y\"]"
   ]
  },
  {
   "cell_type": "code",
   "execution_count": 16,
   "id": "3a4a46db-2020-4e9e-9aae-e1eb7417c18d",
   "metadata": {},
   "outputs": [],
   "source": [
    "frd_data = {\"aksh\":23, \"rahul\":45, \"shubham\":12}"
   ]
  },
  {
   "cell_type": "code",
   "execution_count": 17,
   "id": "578f96a8-6e3e-4a24-b637-f84303146941",
   "metadata": {},
   "outputs": [],
   "source": [
    "res = pd.Series(frd_data)"
   ]
  },
  {
   "cell_type": "code",
   "execution_count": 18,
   "id": "909c29c9-c630-4991-b6aa-8fbe255ff318",
   "metadata": {},
   "outputs": [
    {
     "data": {
      "text/plain": [
       "aksh       23\n",
       "rahul      45\n",
       "shubham    12\n",
       "dtype: int64"
      ]
     },
     "execution_count": 18,
     "metadata": {},
     "output_type": "execute_result"
    }
   ],
   "source": [
    "res"
   ]
  },
  {
   "cell_type": "code",
   "execution_count": 19,
   "id": "52d37fb7-05ef-4248-a374-8e83986e358c",
   "metadata": {},
   "outputs": [],
   "source": [
    "stud_data = {\"name\":['rahul', 'aniket', 'mayur'], \"marks\":[23, 56, 87]}"
   ]
  },
  {
   "cell_type": "code",
   "execution_count": 20,
   "id": "a34315e9-1ca0-4aa0-bf57-6a7d2b0bf343",
   "metadata": {},
   "outputs": [],
   "source": [
    "res = pd.DataFrame(stud_data)"
   ]
  },
  {
   "cell_type": "code",
   "execution_count": 21,
   "id": "31f8a043-c230-446f-9d88-3aaf22686fd4",
   "metadata": {},
   "outputs": [
    {
     "data": {
      "text/html": [
       "<div>\n",
       "<style scoped>\n",
       "    .dataframe tbody tr th:only-of-type {\n",
       "        vertical-align: middle;\n",
       "    }\n",
       "\n",
       "    .dataframe tbody tr th {\n",
       "        vertical-align: top;\n",
       "    }\n",
       "\n",
       "    .dataframe thead th {\n",
       "        text-align: right;\n",
       "    }\n",
       "</style>\n",
       "<table border=\"1\" class=\"dataframe\">\n",
       "  <thead>\n",
       "    <tr style=\"text-align: right;\">\n",
       "      <th></th>\n",
       "      <th>name</th>\n",
       "      <th>marks</th>\n",
       "    </tr>\n",
       "  </thead>\n",
       "  <tbody>\n",
       "    <tr>\n",
       "      <th>0</th>\n",
       "      <td>rahul</td>\n",
       "      <td>23</td>\n",
       "    </tr>\n",
       "    <tr>\n",
       "      <th>1</th>\n",
       "      <td>aniket</td>\n",
       "      <td>56</td>\n",
       "    </tr>\n",
       "    <tr>\n",
       "      <th>2</th>\n",
       "      <td>mayur</td>\n",
       "      <td>87</td>\n",
       "    </tr>\n",
       "  </tbody>\n",
       "</table>\n",
       "</div>"
      ],
      "text/plain": [
       "     name  marks\n",
       "0   rahul     23\n",
       "1  aniket     56\n",
       "2   mayur     87"
      ]
     },
     "execution_count": 21,
     "metadata": {},
     "output_type": "execute_result"
    }
   ],
   "source": [
    "res"
   ]
  },
  {
   "cell_type": "code",
   "execution_count": 22,
   "id": "18f0929d-777a-4046-b190-01bd535aa270",
   "metadata": {},
   "outputs": [
    {
     "data": {
      "text/plain": [
       "name     aniket\n",
       "marks        56\n",
       "Name: 1, dtype: object"
      ]
     },
     "execution_count": 22,
     "metadata": {},
     "output_type": "execute_result"
    }
   ],
   "source": [
    "res.loc[1]"
   ]
  },
  {
   "cell_type": "code",
   "execution_count": 23,
   "id": "b7ee09e9-ccce-4426-8093-1691f911dcdb",
   "metadata": {},
   "outputs": [
    {
     "data": {
      "text/html": [
       "<div>\n",
       "<style scoped>\n",
       "    .dataframe tbody tr th:only-of-type {\n",
       "        vertical-align: middle;\n",
       "    }\n",
       "\n",
       "    .dataframe tbody tr th {\n",
       "        vertical-align: top;\n",
       "    }\n",
       "\n",
       "    .dataframe thead th {\n",
       "        text-align: right;\n",
       "    }\n",
       "</style>\n",
       "<table border=\"1\" class=\"dataframe\">\n",
       "  <thead>\n",
       "    <tr style=\"text-align: right;\">\n",
       "      <th></th>\n",
       "      <th>name</th>\n",
       "      <th>marks</th>\n",
       "    </tr>\n",
       "  </thead>\n",
       "  <tbody>\n",
       "    <tr>\n",
       "      <th>0</th>\n",
       "      <td>rahul</td>\n",
       "      <td>23</td>\n",
       "    </tr>\n",
       "    <tr>\n",
       "      <th>1</th>\n",
       "      <td>aniket</td>\n",
       "      <td>56</td>\n",
       "    </tr>\n",
       "  </tbody>\n",
       "</table>\n",
       "</div>"
      ],
      "text/plain": [
       "     name  marks\n",
       "0   rahul     23\n",
       "1  aniket     56"
      ]
     },
     "execution_count": 23,
     "metadata": {},
     "output_type": "execute_result"
    }
   ],
   "source": [
    "res.loc[0:1]"
   ]
  },
  {
   "cell_type": "code",
   "execution_count": 24,
   "id": "47d8e46e-19e0-465f-a1dd-267320cf2c10",
   "metadata": {},
   "outputs": [],
   "source": [
    "df = pd.DataFrame(stud_data, index=[\"x\",\"y\",\"z\"])"
   ]
  },
  {
   "cell_type": "code",
   "execution_count": 25,
   "id": "2800d977-42db-4fc7-9681-daab38685525",
   "metadata": {},
   "outputs": [
    {
     "data": {
      "text/html": [
       "<div>\n",
       "<style scoped>\n",
       "    .dataframe tbody tr th:only-of-type {\n",
       "        vertical-align: middle;\n",
       "    }\n",
       "\n",
       "    .dataframe tbody tr th {\n",
       "        vertical-align: top;\n",
       "    }\n",
       "\n",
       "    .dataframe thead th {\n",
       "        text-align: right;\n",
       "    }\n",
       "</style>\n",
       "<table border=\"1\" class=\"dataframe\">\n",
       "  <thead>\n",
       "    <tr style=\"text-align: right;\">\n",
       "      <th></th>\n",
       "      <th>name</th>\n",
       "      <th>marks</th>\n",
       "    </tr>\n",
       "  </thead>\n",
       "  <tbody>\n",
       "    <tr>\n",
       "      <th>x</th>\n",
       "      <td>rahul</td>\n",
       "      <td>23</td>\n",
       "    </tr>\n",
       "    <tr>\n",
       "      <th>y</th>\n",
       "      <td>aniket</td>\n",
       "      <td>56</td>\n",
       "    </tr>\n",
       "    <tr>\n",
       "      <th>z</th>\n",
       "      <td>mayur</td>\n",
       "      <td>87</td>\n",
       "    </tr>\n",
       "  </tbody>\n",
       "</table>\n",
       "</div>"
      ],
      "text/plain": [
       "     name  marks\n",
       "x   rahul     23\n",
       "y  aniket     56\n",
       "z   mayur     87"
      ]
     },
     "execution_count": 25,
     "metadata": {},
     "output_type": "execute_result"
    }
   ],
   "source": [
    "df"
   ]
  },
  {
   "cell_type": "code",
   "execution_count": 26,
   "id": "cc37ae1c-a5b5-4f4e-9915-dde71e3762b1",
   "metadata": {},
   "outputs": [
    {
     "data": {
      "text/plain": [
       "name     aniket\n",
       "marks        56\n",
       "Name: y, dtype: object"
      ]
     },
     "execution_count": 26,
     "metadata": {},
     "output_type": "execute_result"
    }
   ],
   "source": [
    "df.loc[\"y\"]"
   ]
  },
  {
   "cell_type": "code",
   "execution_count": 27,
   "id": "f822bc1f-9027-4367-8fb1-240cf0512be0",
   "metadata": {},
   "outputs": [],
   "source": [
    "#let's start csv file operations\n"
   ]
  },
  {
   "cell_type": "code",
   "execution_count": 28,
   "id": "70e222dc-64c2-452b-8e37-5a1435db809c",
   "metadata": {},
   "outputs": [
    {
     "ename": "FileNotFoundError",
     "evalue": "[Errno 2] No such file or directory: 'data.csv'",
     "output_type": "error",
     "traceback": [
      "\u001b[0;31m---------------------------------------------------------------------------\u001b[0m",
      "\u001b[0;31mFileNotFoundError\u001b[0m                         Traceback (most recent call last)",
      "Cell \u001b[0;32mIn[28], line 1\u001b[0m\n\u001b[0;32m----> 1\u001b[0m \u001b[38;5;28;01mwith\u001b[39;00m \u001b[38;5;28;43mopen\u001b[39;49m\u001b[43m(\u001b[49m\u001b[38;5;124;43m\"\u001b[39;49m\u001b[38;5;124;43mdata.csv\u001b[39;49m\u001b[38;5;124;43m\"\u001b[39;49m\u001b[43m,\u001b[49m\u001b[43m \u001b[49m\u001b[38;5;124;43m\"\u001b[39;49m\u001b[38;5;124;43mr\u001b[39;49m\u001b[38;5;124;43m\"\u001b[39;49m\u001b[43m)\u001b[49m \u001b[38;5;28;01mas\u001b[39;00m f:\n\u001b[1;32m      2\u001b[0m     \u001b[38;5;28mprint\u001b[39m(f\u001b[38;5;241m.\u001b[39mreadlines())\n",
      "File \u001b[0;32m~/Desktop/python/env_jup/lib/python3.10/site-packages/IPython/core/interactiveshell.py:324\u001b[0m, in \u001b[0;36m_modified_open\u001b[0;34m(file, *args, **kwargs)\u001b[0m\n\u001b[1;32m    317\u001b[0m \u001b[38;5;28;01mif\u001b[39;00m file \u001b[38;5;129;01min\u001b[39;00m {\u001b[38;5;241m0\u001b[39m, \u001b[38;5;241m1\u001b[39m, \u001b[38;5;241m2\u001b[39m}:\n\u001b[1;32m    318\u001b[0m     \u001b[38;5;28;01mraise\u001b[39;00m \u001b[38;5;167;01mValueError\u001b[39;00m(\n\u001b[1;32m    319\u001b[0m         \u001b[38;5;124mf\u001b[39m\u001b[38;5;124m\"\u001b[39m\u001b[38;5;124mIPython won\u001b[39m\u001b[38;5;124m'\u001b[39m\u001b[38;5;124mt let you open fd=\u001b[39m\u001b[38;5;132;01m{\u001b[39;00mfile\u001b[38;5;132;01m}\u001b[39;00m\u001b[38;5;124m by default \u001b[39m\u001b[38;5;124m\"\u001b[39m\n\u001b[1;32m    320\u001b[0m         \u001b[38;5;124m\"\u001b[39m\u001b[38;5;124mas it is likely to crash IPython. If you know what you are doing, \u001b[39m\u001b[38;5;124m\"\u001b[39m\n\u001b[1;32m    321\u001b[0m         \u001b[38;5;124m\"\u001b[39m\u001b[38;5;124myou can use builtins\u001b[39m\u001b[38;5;124m'\u001b[39m\u001b[38;5;124m open.\u001b[39m\u001b[38;5;124m\"\u001b[39m\n\u001b[1;32m    322\u001b[0m     )\n\u001b[0;32m--> 324\u001b[0m \u001b[38;5;28;01mreturn\u001b[39;00m \u001b[43mio_open\u001b[49m\u001b[43m(\u001b[49m\u001b[43mfile\u001b[49m\u001b[43m,\u001b[49m\u001b[43m \u001b[49m\u001b[38;5;241;43m*\u001b[39;49m\u001b[43margs\u001b[49m\u001b[43m,\u001b[49m\u001b[43m \u001b[49m\u001b[38;5;241;43m*\u001b[39;49m\u001b[38;5;241;43m*\u001b[39;49m\u001b[43mkwargs\u001b[49m\u001b[43m)\u001b[49m\n",
      "\u001b[0;31mFileNotFoundError\u001b[0m: [Errno 2] No such file or directory: 'data.csv'"
     ]
    }
   ],
   "source": [
    "with open(\"data.csv\", \"r\") as f:\n",
    "    print(f.readlines())"
   ]
  },
  {
   "cell_type": "code",
   "execution_count": null,
   "id": "6a048880-424d-4727-9897-e1d6144438bb",
   "metadata": {},
   "outputs": [],
   "source": [
    "df = pd.read_csv('data.csv')"
   ]
  },
  {
   "cell_type": "code",
   "execution_count": null,
   "id": "95eb2e03-27b3-47a0-b9bb-a3d29c3f1a04",
   "metadata": {},
   "outputs": [],
   "source": [
    "df"
   ]
  },
  {
   "cell_type": "code",
   "execution_count": null,
   "id": "89eb995f-68ef-41a2-b56c-6b6d4282e804",
   "metadata": {},
   "outputs": [],
   "source": [
    "df.to_string()"
   ]
  },
  {
   "cell_type": "code",
   "execution_count": null,
   "id": "85842f77-d614-49d7-80a5-fa4c42635be9",
   "metadata": {},
   "outputs": [],
   "source": [
    "str1 = ''' {\n",
    "  \"Duration\":{\n",
    "    \"0\":60,\n",
    "    \"1\":60,\n",
    "    \"2\":60,\n",
    "    \"3\":45,\n",
    "    \"4\":45,\n",
    "    \"5\":60,\n",
    "    \"6\":60,\n",
    "    \"7\":45,\n",
    "    \"8\":30,\n",
    "    \"9\":60,\n",
    "    \"10\":60,\n",
    "    \"11\":60,\n",
    "    \"12\":60,\n",
    "    \"13\":60,\n",
    "    \"14\":60,\n",
    "    \"15\":60,\n",
    "    \"16\":60,\n",
    "    \"17\":45,\n",
    "    \"18\":60,\n",
    "    \"19\":45,\n",
    "    \"20\":60,\n",
    "    \"21\":45,\n",
    "    \"22\":60,\n",
    "    \"23\":45,\n",
    "    \"24\":60,\n",
    "    \"25\":60,\n",
    "    \"26\":60,\n",
    "    \"27\":60,\n",
    "    \"28\":60,\n",
    "    \"29\":60,\n",
    "    \"30\":60,\n",
    "    \"31\":45,\n",
    "    \"32\":60,\n",
    "    \"33\":60,\n",
    "    \"34\":60,\n",
    "    \"35\":60,\n",
    "    \"36\":60,\n",
    "    \"37\":60,\n",
    "    \"38\":60,\n",
    "    \"39\":45,\n",
    "    \"40\":45,\n",
    "    \"41\":60,\n",
    "    \"42\":60,\n",
    "    \"43\":60,\n",
    "    \"44\":60,\n",
    "    \"45\":60,\n",
    "    \"46\":60,\n",
    "    \"47\":45,\n",
    "    \"48\":45,\n",
    "    \"49\":60,\n",
    "    \"50\":60,\n",
    "    \"51\":80,\n",
    "    \"52\":60,\n",
    "    \"53\":60,\n",
    "    \"54\":30,\n",
    "    \"55\":60,\n",
    "    \"56\":60,\n",
    "    \"57\":45,\n",
    "    \"58\":20,\n",
    "    \"59\":45,\n",
    "    \"60\":210,\n",
    "    \"61\":160,\n",
    "    \"62\":160,\n",
    "    \"63\":45,\n",
    "    \"64\":20,\n",
    "    \"65\":180,\n",
    "    \"66\":150,\n",
    "    \"67\":150,\n",
    "    \"68\":20,\n",
    "    \"69\":300,\n",
    "    \"70\":150,\n",
    "    \"71\":60,\n",
    "    \"72\":90,\n",
    "    \"73\":150,\n",
    "    \"74\":45,\n",
    "    \"75\":90,\n",
    "    \"76\":45,\n",
    "    \"77\":45,\n",
    "    \"78\":120,\n",
    "    \"79\":270,\n",
    "    \"80\":30,\n",
    "    \"81\":45,\n",
    "    \"82\":30,\n",
    "    \"83\":120,\n",
    "    \"84\":45,\n",
    "    \"85\":30,\n",
    "    \"86\":45,\n",
    "    \"87\":120,\n",
    "    \"88\":45,\n",
    "    \"89\":20,\n",
    "    \"90\":180,\n",
    "    \"91\":45,\n",
    "    \"92\":30,\n",
    "    \"93\":15,\n",
    "    \"94\":20,\n",
    "    \"95\":20,\n",
    "    \"96\":30,\n",
    "    \"97\":25,\n",
    "    \"98\":30,\n",
    "    \"99\":90,\n",
    "    \"100\":20,\n",
    "    \"101\":90,\n",
    "    \"102\":90,\n",
    "    \"103\":90,\n",
    "    \"104\":30,\n",
    "    \"105\":30,\n",
    "    \"106\":180,\n",
    "    \"107\":30,\n",
    "    \"108\":90,\n",
    "    \"109\":210,\n",
    "    \"110\":60,\n",
    "    \"111\":45,\n",
    "    \"112\":15,\n",
    "    \"113\":45,\n",
    "    \"114\":60,\n",
    "    \"115\":60,\n",
    "    \"116\":60,\n",
    "    \"117\":60,\n",
    "    \"118\":60,\n",
    "    \"119\":60,\n",
    "    \"120\":30,\n",
    "    \"121\":45,\n",
    "    \"122\":60,\n",
    "    \"123\":60,\n",
    "    \"124\":60,\n",
    "    \"125\":60,\n",
    "    \"126\":60,\n",
    "    \"127\":60,\n",
    "    \"128\":90,\n",
    "    \"129\":60,\n",
    "    \"130\":60,\n",
    "    \"131\":60,\n",
    "    \"132\":60,\n",
    "    \"133\":60,\n",
    "    \"134\":60,\n",
    "    \"135\":20,\n",
    "    \"136\":45,\n",
    "    \"137\":45,\n",
    "    \"138\":45,\n",
    "    \"139\":20,\n",
    "    \"140\":60,\n",
    "    \"141\":60,\n",
    "    \"142\":45,\n",
    "    \"143\":45,\n",
    "    \"144\":60,\n",
    "    \"145\":45,\n",
    "    \"146\":60,\n",
    "    \"147\":60,\n",
    "    \"148\":30,\n",
    "    \"149\":60,\n",
    "    \"150\":60,\n",
    "    \"151\":60,\n",
    "    \"152\":60,\n",
    "    \"153\":30,\n",
    "    \"154\":60,\n",
    "    \"155\":60,\n",
    "    \"156\":60,\n",
    "    \"157\":60,\n",
    "    \"158\":60,\n",
    "    \"159\":30,\n",
    "    \"160\":30,\n",
    "    \"161\":45,\n",
    "    \"162\":45,\n",
    "    \"163\":45,\n",
    "    \"164\":60,\n",
    "    \"165\":60,\n",
    "    \"166\":60,\n",
    "    \"167\":75,\n",
    "    \"168\":75\n",
    "  },\n",
    "  \"Pulse\":{\n",
    "    \"0\":110,\n",
    "    \"1\":117,\n",
    "    \"2\":103,\n",
    "    \"3\":109,\n",
    "    \"4\":117,\n",
    "    \"5\":102,\n",
    "    \"6\":110,\n",
    "    \"7\":104,\n",
    "    \"8\":109,\n",
    "    \"9\":98,\n",
    "    \"10\":103,\n",
    "    \"11\":100,\n",
    "    \"12\":106,\n",
    "    \"13\":104,\n",
    "    \"14\":98,\n",
    "    \"15\":98,\n",
    "    \"16\":100,\n",
    "    \"17\":90,\n",
    "    \"18\":103,\n",
    "    \"19\":97,\n",
    "    \"20\":108,\n",
    "    \"21\":100,\n",
    "    \"22\":130,\n",
    "    \"23\":105,\n",
    "    \"24\":102,\n",
    "    \"25\":100,\n",
    "    \"26\":92,\n",
    "    \"27\":103,\n",
    "    \"28\":100,\n",
    "    \"29\":102,\n",
    "    \"30\":92,\n",
    "    \"31\":90,\n",
    "    \"32\":101,\n",
    "    \"33\":93,\n",
    "    \"34\":107,\n",
    "    \"35\":114,\n",
    "    \"36\":102,\n",
    "    \"37\":100,\n",
    "    \"38\":100,\n",
    "    \"39\":104,\n",
    "    \"40\":90,\n",
    "    \"41\":98,\n",
    "    \"42\":100,\n",
    "    \"43\":111,\n",
    "    \"44\":111,\n",
    "    \"45\":99,\n",
    "    \"46\":109,\n",
    "    \"47\":111,\n",
    "    \"48\":108,\n",
    "    \"49\":111,\n",
    "    \"50\":107,\n",
    "    \"51\":123,\n",
    "    \"52\":106,\n",
    "    \"53\":118,\n",
    "    \"54\":136,\n",
    "    \"55\":121,\n",
    "    \"56\":118,\n",
    "    \"57\":115,\n",
    "    \"58\":153,\n",
    "    \"59\":123,\n",
    "    \"60\":108,\n",
    "    \"61\":110,\n",
    "    \"62\":109,\n",
    "    \"63\":118,\n",
    "    \"64\":110,\n",
    "    \"65\":90,\n",
    "    \"66\":105,\n",
    "    \"67\":107,\n",
    "    \"68\":106,\n",
    "    \"69\":108,\n",
    "    \"70\":97,\n",
    "    \"71\":109,\n",
    "    \"72\":100,\n",
    "    \"73\":97,\n",
    "    \"74\":114,\n",
    "    \"75\":98,\n",
    "    \"76\":105,\n",
    "    \"77\":110,\n",
    "    \"78\":100,\n",
    "    \"79\":100,\n",
    "    \"80\":159,\n",
    "    \"81\":149,\n",
    "    \"82\":103,\n",
    "    \"83\":100,\n",
    "    \"84\":100,\n",
    "    \"85\":151,\n",
    "    \"86\":102,\n",
    "    \"87\":100,\n",
    "    \"88\":129,\n",
    "    \"89\":83,\n",
    "    \"90\":101,\n",
    "    \"91\":107,\n",
    "    \"92\":90,\n",
    "    \"93\":80,\n",
    "    \"94\":150,\n",
    "    \"95\":151,\n",
    "    \"96\":95,\n",
    "    \"97\":152,\n",
    "    \"98\":109,\n",
    "    \"99\":93,\n",
    "    \"100\":95,\n",
    "    \"101\":90,\n",
    "    \"102\":90,\n",
    "    \"103\":90,\n",
    "    \"104\":92,\n",
    "    \"105\":93,\n",
    "    \"106\":90,\n",
    "    \"107\":90,\n",
    "    \"108\":90,\n",
    "    \"109\":137,\n",
    "    \"110\":102,\n",
    "    \"111\":107,\n",
    "    \"112\":124,\n",
    "    \"113\":100,\n",
    "    \"114\":108,\n",
    "    \"115\":108,\n",
    "    \"116\":116,\n",
    "    \"117\":97,\n",
    "    \"118\":105,\n",
    "    \"119\":103,\n",
    "    \"120\":112,\n",
    "    \"121\":100,\n",
    "    \"122\":119,\n",
    "    \"123\":107,\n",
    "    \"124\":111,\n",
    "    \"125\":98,\n",
    "    \"126\":97,\n",
    "    \"127\":109,\n",
    "    \"128\":99,\n",
    "    \"129\":114,\n",
    "    \"130\":104,\n",
    "    \"131\":107,\n",
    "    \"132\":103,\n",
    "    \"133\":106,\n",
    "    \"134\":103,\n",
    "    \"135\":136,\n",
    "    \"136\":117,\n",
    "    \"137\":115,\n",
    "    \"138\":113,\n",
    "    \"139\":141,\n",
    "    \"140\":108,\n",
    "    \"141\":97,\n",
    "    \"142\":100,\n",
    "    \"143\":122,\n",
    "    \"144\":136,\n",
    "    \"145\":106,\n",
    "    \"146\":107,\n",
    "    \"147\":112,\n",
    "    \"148\":103,\n",
    "    \"149\":110,\n",
    "    \"150\":106,\n",
    "    \"151\":109,\n",
    "    \"152\":109,\n",
    "    \"153\":150,\n",
    "    \"154\":105,\n",
    "    \"155\":111,\n",
    "    \"156\":97,\n",
    "    \"157\":100,\n",
    "    \"158\":114,\n",
    "    \"159\":80,\n",
    "    \"160\":85,\n",
    "    \"161\":90,\n",
    "    \"162\":95,\n",
    "    \"163\":100,\n",
    "    \"164\":105,\n",
    "    \"165\":110,\n",
    "    \"166\":115,\n",
    "    \"167\":120,\n",
    "    \"168\":125\n",
    "  },\n",
    "  \"Maxpulse\":{\n",
    "    \"0\":130,\n",
    "    \"1\":145,\n",
    "    \"2\":135,\n",
    "    \"3\":175,\n",
    "    \"4\":148,\n",
    "    \"5\":127,\n",
    "    \"6\":136,\n",
    "    \"7\":134,\n",
    "    \"8\":133,\n",
    "    \"9\":124,\n",
    "    \"10\":147,\n",
    "    \"11\":120,\n",
    "    \"12\":128,\n",
    "    \"13\":132,\n",
    "    \"14\":123,\n",
    "    \"15\":120,\n",
    "    \"16\":120,\n",
    "    \"17\":112,\n",
    "    \"18\":123,\n",
    "    \"19\":125,\n",
    "    \"20\":131,\n",
    "    \"21\":119,\n",
    "    \"22\":101,\n",
    "    \"23\":132,\n",
    "    \"24\":126,\n",
    "    \"25\":120,\n",
    "    \"26\":118,\n",
    "    \"27\":132,\n",
    "    \"28\":132,\n",
    "    \"29\":129,\n",
    "    \"30\":115,\n",
    "    \"31\":112,\n",
    "    \"32\":124,\n",
    "    \"33\":113,\n",
    "    \"34\":136,\n",
    "    \"35\":140,\n",
    "    \"36\":127,\n",
    "    \"37\":120,\n",
    "    \"38\":120,\n",
    "    \"39\":129,\n",
    "    \"40\":112,\n",
    "    \"41\":126,\n",
    "    \"42\":122,\n",
    "    \"43\":138,\n",
    "    \"44\":131,\n",
    "    \"45\":119,\n",
    "    \"46\":153,\n",
    "    \"47\":136,\n",
    "    \"48\":129,\n",
    "    \"49\":139,\n",
    "    \"50\":136,\n",
    "    \"51\":146,\n",
    "    \"52\":130,\n",
    "    \"53\":151,\n",
    "    \"54\":175,\n",
    "    \"55\":146,\n",
    "    \"56\":121,\n",
    "    \"57\":144,\n",
    "    \"58\":172,\n",
    "    \"59\":152,\n",
    "    \"60\":160,\n",
    "    \"61\":137,\n",
    "    \"62\":135,\n",
    "    \"63\":141,\n",
    "    \"64\":130,\n",
    "    \"65\":130,\n",
    "    \"66\":135,\n",
    "    \"67\":130,\n",
    "    \"68\":136,\n",
    "    \"69\":143,\n",
    "    \"70\":129,\n",
    "    \"71\":153,\n",
    "    \"72\":127,\n",
    "    \"73\":127,\n",
    "    \"74\":146,\n",
    "    \"75\":125,\n",
    "    \"76\":134,\n",
    "    \"77\":141,\n",
    "    \"78\":130,\n",
    "    \"79\":131,\n",
    "    \"80\":182,\n",
    "    \"81\":169,\n",
    "    \"82\":139,\n",
    "    \"83\":130,\n",
    "    \"84\":120,\n",
    "    \"85\":170,\n",
    "    \"86\":136,\n",
    "    \"87\":157,\n",
    "    \"88\":103,\n",
    "    \"89\":107,\n",
    "    \"90\":127,\n",
    "    \"91\":137,\n",
    "    \"92\":107,\n",
    "    \"93\":100,\n",
    "    \"94\":171,\n",
    "    \"95\":168,\n",
    "    \"96\":128,\n",
    "    \"97\":168,\n",
    "    \"98\":131,\n",
    "    \"99\":124,\n",
    "    \"100\":112,\n",
    "    \"101\":110,\n",
    "    \"102\":100,\n",
    "    \"103\":100,\n",
    "    \"104\":108,\n",
    "    \"105\":128,\n",
    "    \"106\":120,\n",
    "    \"107\":120,\n",
    "    \"108\":120,\n",
    "    \"109\":184,\n",
    "    \"110\":124,\n",
    "    \"111\":124,\n",
    "    \"112\":139,\n",
    "    \"113\":120,\n",
    "    \"114\":131,\n",
    "    \"115\":151,\n",
    "    \"116\":141,\n",
    "    \"117\":122,\n",
    "    \"118\":125,\n",
    "    \"119\":124,\n",
    "    \"120\":137,\n",
    "    \"121\":120,\n",
    "    \"122\":169,\n",
    "    \"123\":127,\n",
    "    \"124\":151,\n",
    "    \"125\":122,\n",
    "    \"126\":124,\n",
    "    \"127\":127,\n",
    "    \"128\":125,\n",
    "    \"129\":151,\n",
    "    \"130\":134,\n",
    "    \"131\":138,\n",
    "    \"132\":133,\n",
    "    \"133\":132,\n",
    "    \"134\":136,\n",
    "    \"135\":156,\n",
    "    \"136\":143,\n",
    "    \"137\":137,\n",
    "    \"138\":138,\n",
    "    \"139\":162,\n",
    "    \"140\":135,\n",
    "    \"141\":127,\n",
    "    \"142\":120,\n",
    "    \"143\":149,\n",
    "    \"144\":170,\n",
    "    \"145\":126,\n",
    "    \"146\":136,\n",
    "    \"147\":146,\n",
    "    \"148\":127,\n",
    "    \"149\":150,\n",
    "    \"150\":134,\n",
    "    \"151\":129,\n",
    "    \"152\":138,\n",
    "    \"153\":167,\n",
    "    \"154\":128,\n",
    "    \"155\":151,\n",
    "    \"156\":131,\n",
    "    \"157\":120,\n",
    "    \"158\":150,\n",
    "    \"159\":120,\n",
    "    \"160\":120,\n",
    "    \"161\":130,\n",
    "    \"162\":130,\n",
    "    \"163\":140,\n",
    "    \"164\":140,\n",
    "    \"165\":145,\n",
    "    \"166\":145,\n",
    "    \"167\":150,\n",
    "    \"168\":150\n",
    "  },\n",
    "  \"Calories\":{\n",
    "    \"0\":409.1,\n",
    "    \"1\":479.0,\n",
    "    \"2\":340.0,\n",
    "    \"3\":282.4,\n",
    "    \"4\":406.0,\n",
    "    \"5\":300.5,\n",
    "    \"6\":374.0,\n",
    "    \"7\":253.3,\n",
    "    \"8\":195.1,\n",
    "    \"9\":269.0,\n",
    "    \"10\":329.3,\n",
    "    \"11\":250.7,\n",
    "    \"12\":345.3,\n",
    "    \"13\":379.3,\n",
    "    \"14\":275.0,\n",
    "    \"15\":215.2,\n",
    "    \"16\":300.0,\n",
    "    \"17\":null,\n",
    "    \"18\":323.0,\n",
    "    \"19\":243.0,\n",
    "    \"20\":364.2,\n",
    "    \"21\":282.0,\n",
    "    \"22\":300.0,\n",
    "    \"23\":246.0,\n",
    "    \"24\":334.5,\n",
    "    \"25\":250.0,\n",
    "    \"26\":241.0,\n",
    "    \"27\":null,\n",
    "    \"28\":280.0,\n",
    "    \"29\":380.3,\n",
    "    \"30\":243.0,\n",
    "    \"31\":180.1,\n",
    "    \"32\":299.0,\n",
    "    \"33\":223.0,\n",
    "    \"34\":361.0,\n",
    "    \"35\":415.0,\n",
    "    \"36\":300.5,\n",
    "    \"37\":300.1,\n",
    "    \"38\":300.0,\n",
    "    \"39\":266.0,\n",
    "    \"40\":180.1,\n",
    "    \"41\":286.0,\n",
    "    \"42\":329.4,\n",
    "    \"43\":400.0,\n",
    "    \"44\":397.0,\n",
    "    \"45\":273.0,\n",
    "    \"46\":387.6,\n",
    "    \"47\":300.0,\n",
    "    \"48\":298.0,\n",
    "    \"49\":397.6,\n",
    "    \"50\":380.2,\n",
    "    \"51\":643.1,\n",
    "    \"52\":263.0,\n",
    "    \"53\":486.0,\n",
    "    \"54\":238.0,\n",
    "    \"55\":450.7,\n",
    "    \"56\":413.0,\n",
    "    \"57\":305.0,\n",
    "    \"58\":226.4,\n",
    "    \"59\":321.0,\n",
    "    \"60\":1376.0,\n",
    "    \"61\":1034.4,\n",
    "    \"62\":853.0,\n",
    "    \"63\":341.0,\n",
    "    \"64\":131.4,\n",
    "    \"65\":800.4,\n",
    "    \"66\":873.4,\n",
    "    \"67\":816.0,\n",
    "    \"68\":110.4,\n",
    "    \"69\":1500.2,\n",
    "    \"70\":1115.0,\n",
    "    \"71\":387.6,\n",
    "    \"72\":700.0,\n",
    "    \"73\":953.2,\n",
    "    \"74\":304.0,\n",
    "    \"75\":563.2,\n",
    "    \"76\":251.0,\n",
    "    \"77\":300.0,\n",
    "    \"78\":500.4,\n",
    "    \"79\":1729.0,\n",
    "    \"80\":319.2,\n",
    "    \"81\":344.0,\n",
    "    \"82\":151.1,\n",
    "    \"83\":500.0,\n",
    "    \"84\":225.3,\n",
    "    \"85\":300.1,\n",
    "    \"86\":234.0,\n",
    "    \"87\":1000.1,\n",
    "    \"88\":242.0,\n",
    "    \"89\":50.3,\n",
    "    \"90\":600.1,\n",
    "    \"91\":null,\n",
    "    \"92\":105.3,\n",
    "    \"93\":50.5,\n",
    "    \"94\":127.4,\n",
    "    \"95\":229.4,\n",
    "    \"96\":128.2,\n",
    "    \"97\":244.2,\n",
    "    \"98\":188.2,\n",
    "    \"99\":604.1,\n",
    "    \"100\":77.7,\n",
    "    \"101\":500.0,\n",
    "    \"102\":500.0,\n",
    "    \"103\":500.4,\n",
    "    \"104\":92.7,\n",
    "    \"105\":124.0,\n",
    "    \"106\":800.3,\n",
    "    \"107\":86.2,\n",
    "    \"108\":500.3,\n",
    "    \"109\":1860.4,\n",
    "    \"110\":325.2,\n",
    "    \"111\":275.0,\n",
    "    \"112\":124.2,\n",
    "    \"113\":225.3,\n",
    "    \"114\":367.6,\n",
    "    \"115\":351.7,\n",
    "    \"116\":443.0,\n",
    "    \"117\":277.4,\n",
    "    \"118\":null,\n",
    "    \"119\":332.7,\n",
    "    \"120\":193.9,\n",
    "    \"121\":100.7,\n",
    "    \"122\":336.7,\n",
    "    \"123\":344.9,\n",
    "    \"124\":368.5,\n",
    "    \"125\":271.0,\n",
    "    \"126\":275.3,\n",
    "    \"127\":382.0,\n",
    "    \"128\":466.4,\n",
    "    \"129\":384.0,\n",
    "    \"130\":342.5,\n",
    "    \"131\":357.5,\n",
    "    \"132\":335.0,\n",
    "    \"133\":327.5,\n",
    "    \"134\":339.0,\n",
    "    \"135\":189.0,\n",
    "    \"136\":317.7,\n",
    "    \"137\":318.0,\n",
    "    \"138\":308.0,\n",
    "    \"139\":222.4,\n",
    "    \"140\":390.0,\n",
    "    \"141\":null,\n",
    "    \"142\":250.4,\n",
    "    \"143\":335.4,\n",
    "    \"144\":470.2,\n",
    "    \"145\":270.8,\n",
    "    \"146\":400.0,\n",
    "    \"147\":361.9,\n",
    "    \"148\":185.0,\n",
    "    \"149\":409.4,\n",
    "    \"150\":343.0,\n",
    "    \"151\":353.2,\n",
    "    \"152\":374.0,\n",
    "    \"153\":275.8,\n",
    "    \"154\":328.0,\n",
    "    \"155\":368.5,\n",
    "    \"156\":270.4,\n",
    "    \"157\":270.4,\n",
    "    \"158\":382.8,\n",
    "    \"159\":240.9,\n",
    "    \"160\":250.4,\n",
    "    \"161\":260.4,\n",
    "    \"162\":270.0,\n",
    "    \"163\":280.9,\n",
    "    \"164\":290.8,\n",
    "    \"165\":300.4,\n",
    "    \"166\":310.2,\n",
    "    \"167\":320.4,\n",
    "    \"168\":330.4\n",
    "  }\n",
    "} '''"
   ]
  },
  {
   "cell_type": "code",
   "execution_count": null,
   "id": "fc076979-8ac2-4367-85d2-04b17ef4a70c",
   "metadata": {
    "jupyter": {
     "source_hidden": true
    }
   },
   "outputs": [],
   "source": [
    "import json"
   ]
  },
  {
   "cell_type": "code",
   "execution_count": null,
   "id": "daee37ff-bf7d-4dbe-addd-ed312d52bbd3",
   "metadata": {},
   "outputs": [],
   "source": [
    "obj = json.loads(str1)"
   ]
  },
  {
   "cell_type": "code",
   "execution_count": null,
   "id": "3698dd43-2916-4663-9c7d-b4ca03412a38",
   "metadata": {},
   "outputs": [],
   "source": [
    "obj"
   ]
  },
  {
   "cell_type": "code",
   "execution_count": null,
   "id": "4b2f504b-33e5-4f10-84f4-b3d51ece3529",
   "metadata": {},
   "outputs": [],
   "source": [
    "type(str1)"
   ]
  },
  {
   "cell_type": "code",
   "execution_count": null,
   "id": "e7c2f3e9-00f4-4144-950e-81039e5ef1a1",
   "metadata": {},
   "outputs": [],
   "source": [
    "type(obj)"
   ]
  },
  {
   "cell_type": "code",
   "execution_count": null,
   "id": "9b42f953-1eeb-470f-95ea-4a3d140aae40",
   "metadata": {},
   "outputs": [],
   "source": [
    "json_data = json.dumps(obj)"
   ]
  },
  {
   "cell_type": "code",
   "execution_count": null,
   "id": "9f27c234-b2a8-408f-b9a0-ce405794853c",
   "metadata": {},
   "outputs": [],
   "source": [
    "type(json_data)"
   ]
  },
  {
   "cell_type": "code",
   "execution_count": null,
   "id": "32e25e03-fece-45dd-84f4-c9c9567c0734",
   "metadata": {},
   "outputs": [],
   "source": [
    "json_data"
   ]
  },
  {
   "cell_type": "code",
   "execution_count": null,
   "id": "2a9edf1c-7aa2-4664-91c7-32c65fbcd1f4",
   "metadata": {},
   "outputs": [],
   "source": [
    "df = pd.read_json(json_data)"
   ]
  },
  {
   "cell_type": "code",
   "execution_count": null,
   "id": "6c9304e6-038e-4a84-a2cf-bb242f3b4ed1",
   "metadata": {},
   "outputs": [],
   "source": [
    "df"
   ]
  },
  {
   "cell_type": "code",
   "execution_count": null,
   "id": "056baa32-5009-434b-9945-a1815b035e3f",
   "metadata": {},
   "outputs": [],
   "source": [
    "df.to_string()"
   ]
  },
  {
   "cell_type": "code",
   "execution_count": null,
   "id": "de469ee0-27fa-42d7-9d9c-04257281d07e",
   "metadata": {},
   "outputs": [],
   "source": [
    "df.head(10)"
   ]
  },
  {
   "cell_type": "code",
   "execution_count": null,
   "id": "a7ca1641-bab6-4aa0-ab8a-90df4726f9be",
   "metadata": {},
   "outputs": [],
   "source": [
    "df."
   ]
  },
  {
   "cell_type": "code",
   "execution_count": null,
   "id": "e670cd62-0912-432e-9bb7-fc62ced1da8d",
   "metadata": {},
   "outputs": [],
   "source": [
    "#empty cell remove\n"
   ]
  },
  {
   "cell_type": "code",
   "execution_count": null,
   "id": "6eb879ff-f55b-428a-b661-ca1be3c7b8ef",
   "metadata": {},
   "outputs": [],
   "source": [
    "df =pd.read_csv(\"data.csv\")"
   ]
  },
  {
   "cell_type": "code",
   "execution_count": null,
   "id": "fcedcd2e-a920-4c57-8423-9d238a467013",
   "metadata": {},
   "outputs": [],
   "source": [
    "new_df = df.dropna()"
   ]
  },
  {
   "cell_type": "code",
   "execution_count": null,
   "id": "2bb72e29-9362-4224-9739-e4f6bc912af7",
   "metadata": {},
   "outputs": [],
   "source": [
    "new_df.info"
   ]
  },
  {
   "cell_type": "code",
   "execution_count": null,
   "id": "747a3f4f-ff53-4307-9d69-dd496fc2873b",
   "metadata": {},
   "outputs": [],
   "source": [
    "#whenever we want to change in original dataframe using inplace=True"
   ]
  },
  {
   "cell_type": "code",
   "execution_count": null,
   "id": "51617b36-5971-486d-8025-a459f493238b",
   "metadata": {},
   "outputs": [],
   "source": [
    "#replace empty cells"
   ]
  },
  {
   "cell_type": "code",
   "execution_count": null,
   "id": "64ad069e-d0dc-4160-9e0a-c31a5db2d237",
   "metadata": {},
   "outputs": [],
   "source": [
    "temp_df = df.fillna(130)"
   ]
  },
  {
   "cell_type": "code",
   "execution_count": null,
   "id": "18c3ba75-dbb9-42fc-9d31-348023374552",
   "metadata": {},
   "outputs": [],
   "source": [
    "temp_df.loc[19]"
   ]
  },
  {
   "cell_type": "code",
   "execution_count": null,
   "id": "4bd30e7a-ce8e-4319-8926-1b2ae2155cf6",
   "metadata": {},
   "outputs": [],
   "source": [
    "temp_df.head(20)"
   ]
  },
  {
   "cell_type": "code",
   "execution_count": null,
   "id": "49a1613f-15cf-491b-80da-a59119b2bd22",
   "metadata": {},
   "outputs": [],
   "source": [
    "temp_df.loc[27]"
   ]
  },
  {
   "cell_type": "code",
   "execution_count": null,
   "id": "a06e8ebe-fbe4-4384-92e9-854149dda00a",
   "metadata": {},
   "outputs": [],
   "source": [
    "x = df[\"Calories\"].mean()"
   ]
  },
  {
   "cell_type": "code",
   "execution_count": null,
   "id": "e83c3d2d-8d1b-4f5e-b286-8e7c40b92e33",
   "metadata": {},
   "outputs": [],
   "source": [
    "x"
   ]
  },
  {
   "cell_type": "code",
   "execution_count": null,
   "id": "5b6731fe-776d-4c83-ba25-c7256a2a42e6",
   "metadata": {},
   "outputs": [],
   "source": [
    "#if in thos duration more than 120 "
   ]
  },
  {
   "cell_type": "code",
   "execution_count": null,
   "id": "fa792d2d-b7e8-4879-8af2-0da61916a433",
   "metadata": {},
   "outputs": [],
   "source": [
    "for i in df.index:\n",
    "    if df.loc[i, \"Duration\"] > 120:\n",
    "        df.loc[i, \"Duration\"] =120\n",
    "        "
   ]
  },
  {
   "cell_type": "code",
   "execution_count": null,
   "id": "8f56f112-c189-4b49-825d-9104300ae60f",
   "metadata": {},
   "outputs": [],
   "source": [
    "df"
   ]
  },
  {
   "cell_type": "code",
   "execution_count": 29,
   "id": "8ef4e18b-c783-48aa-a224-3ae3a6abe6c9",
   "metadata": {},
   "outputs": [
    {
     "ename": "KeyError",
     "evalue": "5",
     "output_type": "error",
     "traceback": [
      "\u001b[0;31m---------------------------------------------------------------------------\u001b[0m",
      "\u001b[0;31mKeyError\u001b[0m                                  Traceback (most recent call last)",
      "File \u001b[0;32m~/Desktop/python/env_jup/lib/python3.10/site-packages/pandas/core/indexes/base.py:3805\u001b[0m, in \u001b[0;36mIndex.get_loc\u001b[0;34m(self, key)\u001b[0m\n\u001b[1;32m   3804\u001b[0m \u001b[38;5;28;01mtry\u001b[39;00m:\n\u001b[0;32m-> 3805\u001b[0m     \u001b[38;5;28;01mreturn\u001b[39;00m \u001b[38;5;28;43mself\u001b[39;49m\u001b[38;5;241;43m.\u001b[39;49m\u001b[43m_engine\u001b[49m\u001b[38;5;241;43m.\u001b[39;49m\u001b[43mget_loc\u001b[49m\u001b[43m(\u001b[49m\u001b[43mcasted_key\u001b[49m\u001b[43m)\u001b[49m\n\u001b[1;32m   3806\u001b[0m \u001b[38;5;28;01mexcept\u001b[39;00m \u001b[38;5;167;01mKeyError\u001b[39;00m \u001b[38;5;28;01mas\u001b[39;00m err:\n",
      "File \u001b[0;32mindex.pyx:167\u001b[0m, in \u001b[0;36mpandas._libs.index.IndexEngine.get_loc\u001b[0;34m()\u001b[0m\n",
      "File \u001b[0;32mindex.pyx:196\u001b[0m, in \u001b[0;36mpandas._libs.index.IndexEngine.get_loc\u001b[0;34m()\u001b[0m\n",
      "File \u001b[0;32mpandas/_libs/hashtable_class_helper.pxi:7081\u001b[0m, in \u001b[0;36mpandas._libs.hashtable.PyObjectHashTable.get_item\u001b[0;34m()\u001b[0m\n",
      "File \u001b[0;32mpandas/_libs/hashtable_class_helper.pxi:7089\u001b[0m, in \u001b[0;36mpandas._libs.hashtable.PyObjectHashTable.get_item\u001b[0;34m()\u001b[0m\n",
      "\u001b[0;31mKeyError\u001b[0m: 5",
      "\nThe above exception was the direct cause of the following exception:\n",
      "\u001b[0;31mKeyError\u001b[0m                                  Traceback (most recent call last)",
      "Cell \u001b[0;32mIn[29], line 1\u001b[0m\n\u001b[0;32m----> 1\u001b[0m \u001b[43mdf\u001b[49m\u001b[38;5;241;43m.\u001b[39;49m\u001b[43mloc\u001b[49m\u001b[43m[\u001b[49m\u001b[38;5;241;43m5\u001b[39;49m\u001b[43m]\u001b[49m\n",
      "File \u001b[0;32m~/Desktop/python/env_jup/lib/python3.10/site-packages/pandas/core/indexing.py:1191\u001b[0m, in \u001b[0;36m_LocationIndexer.__getitem__\u001b[0;34m(self, key)\u001b[0m\n\u001b[1;32m   1189\u001b[0m maybe_callable \u001b[38;5;241m=\u001b[39m com\u001b[38;5;241m.\u001b[39mapply_if_callable(key, \u001b[38;5;28mself\u001b[39m\u001b[38;5;241m.\u001b[39mobj)\n\u001b[1;32m   1190\u001b[0m maybe_callable \u001b[38;5;241m=\u001b[39m \u001b[38;5;28mself\u001b[39m\u001b[38;5;241m.\u001b[39m_check_deprecated_callable_usage(key, maybe_callable)\n\u001b[0;32m-> 1191\u001b[0m \u001b[38;5;28;01mreturn\u001b[39;00m \u001b[38;5;28;43mself\u001b[39;49m\u001b[38;5;241;43m.\u001b[39;49m\u001b[43m_getitem_axis\u001b[49m\u001b[43m(\u001b[49m\u001b[43mmaybe_callable\u001b[49m\u001b[43m,\u001b[49m\u001b[43m \u001b[49m\u001b[43maxis\u001b[49m\u001b[38;5;241;43m=\u001b[39;49m\u001b[43maxis\u001b[49m\u001b[43m)\u001b[49m\n",
      "File \u001b[0;32m~/Desktop/python/env_jup/lib/python3.10/site-packages/pandas/core/indexing.py:1431\u001b[0m, in \u001b[0;36m_LocIndexer._getitem_axis\u001b[0;34m(self, key, axis)\u001b[0m\n\u001b[1;32m   1429\u001b[0m \u001b[38;5;66;03m# fall thru to straight lookup\u001b[39;00m\n\u001b[1;32m   1430\u001b[0m \u001b[38;5;28mself\u001b[39m\u001b[38;5;241m.\u001b[39m_validate_key(key, axis)\n\u001b[0;32m-> 1431\u001b[0m \u001b[38;5;28;01mreturn\u001b[39;00m \u001b[38;5;28;43mself\u001b[39;49m\u001b[38;5;241;43m.\u001b[39;49m\u001b[43m_get_label\u001b[49m\u001b[43m(\u001b[49m\u001b[43mkey\u001b[49m\u001b[43m,\u001b[49m\u001b[43m \u001b[49m\u001b[43maxis\u001b[49m\u001b[38;5;241;43m=\u001b[39;49m\u001b[43maxis\u001b[49m\u001b[43m)\u001b[49m\n",
      "File \u001b[0;32m~/Desktop/python/env_jup/lib/python3.10/site-packages/pandas/core/indexing.py:1381\u001b[0m, in \u001b[0;36m_LocIndexer._get_label\u001b[0;34m(self, label, axis)\u001b[0m\n\u001b[1;32m   1379\u001b[0m \u001b[38;5;28;01mdef\u001b[39;00m \u001b[38;5;21m_get_label\u001b[39m(\u001b[38;5;28mself\u001b[39m, label, axis: AxisInt):\n\u001b[1;32m   1380\u001b[0m     \u001b[38;5;66;03m# GH#5567 this will fail if the label is not present in the axis.\u001b[39;00m\n\u001b[0;32m-> 1381\u001b[0m     \u001b[38;5;28;01mreturn\u001b[39;00m \u001b[38;5;28;43mself\u001b[39;49m\u001b[38;5;241;43m.\u001b[39;49m\u001b[43mobj\u001b[49m\u001b[38;5;241;43m.\u001b[39;49m\u001b[43mxs\u001b[49m\u001b[43m(\u001b[49m\u001b[43mlabel\u001b[49m\u001b[43m,\u001b[49m\u001b[43m \u001b[49m\u001b[43maxis\u001b[49m\u001b[38;5;241;43m=\u001b[39;49m\u001b[43maxis\u001b[49m\u001b[43m)\u001b[49m\n",
      "File \u001b[0;32m~/Desktop/python/env_jup/lib/python3.10/site-packages/pandas/core/generic.py:4301\u001b[0m, in \u001b[0;36mNDFrame.xs\u001b[0;34m(self, key, axis, level, drop_level)\u001b[0m\n\u001b[1;32m   4299\u001b[0m             new_index \u001b[38;5;241m=\u001b[39m index[loc]\n\u001b[1;32m   4300\u001b[0m \u001b[38;5;28;01melse\u001b[39;00m:\n\u001b[0;32m-> 4301\u001b[0m     loc \u001b[38;5;241m=\u001b[39m \u001b[43mindex\u001b[49m\u001b[38;5;241;43m.\u001b[39;49m\u001b[43mget_loc\u001b[49m\u001b[43m(\u001b[49m\u001b[43mkey\u001b[49m\u001b[43m)\u001b[49m\n\u001b[1;32m   4303\u001b[0m     \u001b[38;5;28;01mif\u001b[39;00m \u001b[38;5;28misinstance\u001b[39m(loc, np\u001b[38;5;241m.\u001b[39mndarray):\n\u001b[1;32m   4304\u001b[0m         \u001b[38;5;28;01mif\u001b[39;00m loc\u001b[38;5;241m.\u001b[39mdtype \u001b[38;5;241m==\u001b[39m np\u001b[38;5;241m.\u001b[39mbool_:\n",
      "File \u001b[0;32m~/Desktop/python/env_jup/lib/python3.10/site-packages/pandas/core/indexes/base.py:3812\u001b[0m, in \u001b[0;36mIndex.get_loc\u001b[0;34m(self, key)\u001b[0m\n\u001b[1;32m   3807\u001b[0m     \u001b[38;5;28;01mif\u001b[39;00m \u001b[38;5;28misinstance\u001b[39m(casted_key, \u001b[38;5;28mslice\u001b[39m) \u001b[38;5;129;01mor\u001b[39;00m (\n\u001b[1;32m   3808\u001b[0m         \u001b[38;5;28misinstance\u001b[39m(casted_key, abc\u001b[38;5;241m.\u001b[39mIterable)\n\u001b[1;32m   3809\u001b[0m         \u001b[38;5;129;01mand\u001b[39;00m \u001b[38;5;28many\u001b[39m(\u001b[38;5;28misinstance\u001b[39m(x, \u001b[38;5;28mslice\u001b[39m) \u001b[38;5;28;01mfor\u001b[39;00m x \u001b[38;5;129;01min\u001b[39;00m casted_key)\n\u001b[1;32m   3810\u001b[0m     ):\n\u001b[1;32m   3811\u001b[0m         \u001b[38;5;28;01mraise\u001b[39;00m InvalidIndexError(key)\n\u001b[0;32m-> 3812\u001b[0m     \u001b[38;5;28;01mraise\u001b[39;00m \u001b[38;5;167;01mKeyError\u001b[39;00m(key) \u001b[38;5;28;01mfrom\u001b[39;00m \u001b[38;5;21;01merr\u001b[39;00m\n\u001b[1;32m   3813\u001b[0m \u001b[38;5;28;01mexcept\u001b[39;00m \u001b[38;5;167;01mTypeError\u001b[39;00m:\n\u001b[1;32m   3814\u001b[0m     \u001b[38;5;66;03m# If we have a listlike key, _check_indexing_error will raise\u001b[39;00m\n\u001b[1;32m   3815\u001b[0m     \u001b[38;5;66;03m#  InvalidIndexError. Otherwise we fall through and re-raise\u001b[39;00m\n\u001b[1;32m   3816\u001b[0m     \u001b[38;5;66;03m#  the TypeError.\u001b[39;00m\n\u001b[1;32m   3817\u001b[0m     \u001b[38;5;28mself\u001b[39m\u001b[38;5;241m.\u001b[39m_check_indexing_error(key)\n",
      "\u001b[0;31mKeyError\u001b[0m: 5"
     ]
    }
   ],
   "source": [
    "df.loc[5]"
   ]
  },
  {
   "cell_type": "code",
   "execution_count": null,
   "id": "1ca9eaf5-a50d-4f82-8c08-cde5ff091c31",
   "metadata": {},
   "outputs": [],
   "source": []
  }
 ],
 "metadata": {
  "kernelspec": {
   "display_name": "Python 3 (ipykernel)",
   "language": "python",
   "name": "python3"
  },
  "language_info": {
   "codemirror_mode": {
    "name": "ipython",
    "version": 3
   },
   "file_extension": ".py",
   "mimetype": "text/x-python",
   "name": "python",
   "nbconvert_exporter": "python",
   "pygments_lexer": "ipython3",
   "version": "3.10.5"
  }
 },
 "nbformat": 4,
 "nbformat_minor": 5
}
