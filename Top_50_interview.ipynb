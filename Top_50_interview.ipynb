{
 "cells": [
  {
   "cell_type": "code",
   "execution_count": 1,
   "id": "66a4ae37-d0ab-410f-a346-0bd9297a4231",
   "metadata": {},
   "outputs": [],
   "source": [
    "# https://prepinsta.com/interview-preparation/technical-interview-questions/most-asked-coding-questions-in-placements/"
   ]
  },
  {
   "cell_type": "code",
   "execution_count": 2,
   "id": "5c34381e-adba-4fcf-ad90-b7c7ca97a0db",
   "metadata": {},
   "outputs": [],
   "source": [
    "# 1. Write a code to reverse a number"
   ]
  },
  {
   "cell_type": "code",
   "execution_count": 1,
   "id": "65a0c91a-2ca3-4e56-911f-25c906d169f8",
   "metadata": {},
   "outputs": [
    {
     "name": "stdout",
     "output_type": "stream",
     "text": [
      "given no is 123 of reverse no is 321\n"
     ]
    }
   ],
   "source": [
    "n = 123\n",
    "temp = n\n",
    "rev = 0\n",
    "while temp > 0 :\n",
    "    rem = temp % 10\n",
    "    rev = (rev * 10) + rem\n",
    "    temp //= 10\n",
    "\n",
    "print(f\"given no is {n} of reverse no is {rev}\")\n"
   ]
  },
  {
   "cell_type": "code",
   "execution_count": 7,
   "id": "12eafa13-04ea-47d9-a0ec-422de42c8291",
   "metadata": {},
   "outputs": [],
   "source": [
    "# 2. Write the code to find the Fibonacci series upto the nth term.?\n"
   ]
  },
  {
   "cell_type": "code",
   "execution_count": 3,
   "id": "7fa47edb-6a3b-415a-b9a9-0d5d610b35ce",
   "metadata": {},
   "outputs": [
    {
     "data": {
      "text/plain": [
       "'0 1 1 2 3 5 8'"
      ]
     },
     "execution_count": 3,
     "metadata": {},
     "output_type": "execute_result"
    }
   ],
   "source": [
    "nth = 5\n",
    "fib = [0,1]\n",
    "for i in range(nth):\n",
    "    fib.append(fib[-2] + fib[-1])\n",
    "\n",
    "res = \" \".join(str(i) for i in fib)\n",
    "res\n"
   ]
  },
  {
   "cell_type": "code",
   "execution_count": 9,
   "id": "c52c3641-6b2c-4149-b36b-f177aedba08c",
   "metadata": {},
   "outputs": [
    {
     "data": {
      "text/plain": [
       "[0, 1, 1, 2, 3, 5, 8]"
      ]
     },
     "execution_count": 9,
     "metadata": {},
     "output_type": "execute_result"
    }
   ],
   "source": [
    "fib"
   ]
  },
  {
   "cell_type": "code",
   "execution_count": 1,
   "id": "07b0b1b4-2455-45ce-b85b-77a6ea3a85be",
   "metadata": {},
   "outputs": [],
   "source": [
    "# 3. Write code of Greatest Common Divisor \n"
   ]
  },
  {
   "cell_type": "code",
   "execution_count": 2,
   "id": "4ff0da33-eb12-4f55-a08b-c7cd7e6051c1",
   "metadata": {},
   "outputs": [
    {
     "name": "stdout",
     "output_type": "stream",
     "text": [
      "10 and 15 of gcd is 5\n"
     ]
    }
   ],
   "source": [
    "n1 = 10\n",
    "n2 = 15\n",
    "if n1 > n2:\n",
    "    small = n2\n",
    "else:\n",
    "    small = n1\n",
    "\n",
    "for i in range(1, small+1):\n",
    "    if(n1 % i == 0) and (n2 % i == 0):\n",
    "        gcd = i\n",
    "print(f\"{n1} and {n2} of gcd is {gcd}\")"
   ]
  },
  {
   "cell_type": "code",
   "execution_count": 3,
   "id": "c5e32f81-5fb2-4e19-b107-72b3df3b9993",
   "metadata": {},
   "outputs": [],
   "source": [
    "# 4. Write code of  Perfect number\n"
   ]
  },
  {
   "cell_type": "code",
   "execution_count": 8,
   "id": "bfbe6841-26c4-4f95-ab14-18466d0b6ccb",
   "metadata": {},
   "outputs": [
    {
     "name": "stdout",
     "output_type": "stream",
     "text": [
      "the no is perfect \n"
     ]
    }
   ],
   "source": [
    "# ex. 6, 28 is sum of factorial \n",
    "n = 6\n",
    "sum = 0\n",
    "for i in range(1,n):\n",
    "    if n % i == 0 :\n",
    "        sum = sum + i\n",
    "print(\"the num is perfect \") if(n == sum) else print(\"the num is not perfect\")\n",
    "        "
   ]
  },
  {
   "cell_type": "code",
   "execution_count": 9,
   "id": "73204475-f753-465f-b1e8-9e1c6349fe4c",
   "metadata": {},
   "outputs": [],
   "source": [
    "# 5. Write code to Check if two strings are Anagram or not"
   ]
  },
  {
   "cell_type": "code",
   "execution_count": 10,
   "id": "9ae47c05-6494-4f33-90e1-646e0f9a56b7",
   "metadata": {},
   "outputs": [
    {
     "name": "stdout",
     "output_type": "stream",
     "text": [
      "string is anagram\n"
     ]
    }
   ],
   "source": [
    "str1 = \"run\"\n",
    "str2 = \"nur\"\n",
    "res = str1 == str2[::-1]\n",
    "print(\"string is anagram\") if res else print(\"string is not angram\")"
   ]
  },
  {
   "cell_type": "code",
   "execution_count": 11,
   "id": "26e9a17d-83ad-4963-9773-cd0f4892af7f",
   "metadata": {},
   "outputs": [],
   "source": [
    "# 6. Write code Check if the given string is Palindrome or not\n"
   ]
  },
  {
   "cell_type": "code",
   "execution_count": 12,
   "id": "3fcc1c87-7cff-4737-8011-d6003ec65ecb",
   "metadata": {},
   "outputs": [
    {
     "name": "stdout",
     "output_type": "stream",
     "text": [
      "it's palindrome\n"
     ]
    }
   ],
   "source": [
    "str1 = \"madam\"\n",
    "print(\"it's palindrome\") if str1 == str1[::-1] else print(\"it's not palindrome\")"
   ]
  },
  {
   "cell_type": "code",
   "execution_count": 13,
   "id": "03a65f5e-298f-4b49-8c4f-ace5670c775c",
   "metadata": {},
   "outputs": [],
   "source": [
    "# 7. Write code to Calculate frequency of characters in a string\n"
   ]
  },
  {
   "cell_type": "code",
   "execution_count": 17,
   "id": "3d992c66-07cf-4b18-8bce-789374475341",
   "metadata": {},
   "outputs": [
    {
     "name": "stdout",
     "output_type": "stream",
     "text": [
      "{'m': 3, 'a': 2, 'd': 2, ' ': 3, 'i': 1, 's': 1, 'y': 1, 'f': 1, 'r': 1}\n"
     ]
    }
   ],
   "source": [
    "str1 = \"madam is my frd\"\n",
    "freq= 0 \n",
    "dict = {}\n",
    "for char in str1:\n",
    "    if char in dict:\n",
    "        dict[char] += 1\n",
    "    else:\n",
    "        dict[char] = 1\n",
    "\n",
    "print(dict)"
   ]
  },
  {
   "cell_type": "code",
   "execution_count": 5,
   "id": "5c5ce2c8-f075-4945-b82f-e62869c48eae",
   "metadata": {},
   "outputs": [],
   "source": [
    "# 28. Write a code to find Find the ASCII value of a character"
   ]
  },
  {
   "cell_type": "code",
   "execution_count": 4,
   "id": "d90b34a9-9f02-449f-9ec5-09c37875de4d",
   "metadata": {},
   "outputs": [
    {
     "name": "stdin",
     "output_type": "stream",
     "text": [
      "Enter the character : h\n"
     ]
    },
    {
     "name": "stdout",
     "output_type": "stream",
     "text": [
      "104\n"
     ]
    }
   ],
   "source": [
    "\n",
    "Char = input('Enter the character :')\n",
    "#convert Char to Ascii value\n",
    "Asciival = ord(Char)\n",
    "#print Value\n",
    "print(Asciival)"
   ]
  },
  {
   "cell_type": "code",
   "execution_count": 1,
   "id": "ac10c5fa-c3f6-47cd-a007-ee1943949e5b",
   "metadata": {},
   "outputs": [],
   "source": [
    "# 35. Write a code to Remove space from a string"
   ]
  },
  {
   "cell_type": "code",
   "execution_count": 4,
   "id": "f01cb0db-7107-431b-ae78-ae107304270c",
   "metadata": {},
   "outputs": [
    {
     "name": "stdout",
     "output_type": "stream",
     "text": [
      "Ashishkumaranilbaranwal\n"
     ]
    },
    {
     "data": {
      "text/plain": [
       "'Ashishkumaranilbaranwal'"
      ]
     },
     "execution_count": 4,
     "metadata": {},
     "output_type": "execute_result"
    }
   ],
   "source": [
    "str1 = \"Ashishkumar anil baranwal\"\n",
    "final_res = ''.join(str1.split())\n",
    "print(final_res)\n",
    "\n",
    "split_string = str1.split()\n",
    "\n",
    "split_string\n",
    "\n",
    "join_string = ''.join(split_string)\n",
    "\n",
    "join_string"
   ]
  },
  {
   "cell_type": "code",
   "execution_count": 7,
   "id": "2befe4f0-8c29-4afc-919b-a9ca790aee73",
   "metadata": {},
   "outputs": [],
   "source": [
    "# 38: Write a Program to Find out the Sum of Digits of a Number."
   ]
  },
  {
   "cell_type": "code",
   "execution_count": 9,
   "id": "50731534-da95-4838-8632-1ba1b7881451",
   "metadata": {},
   "outputs": [],
   "source": [
    "num = '123'\n",
    "sum = 0\n",
    "for n in num:\n",
    "    sum = sum + int(n)\n"
   ]
  },
  {
   "cell_type": "code",
   "execution_count": 10,
   "id": "450e6fd4-0885-49b0-832b-8c4011cee053",
   "metadata": {},
   "outputs": [
    {
     "data": {
      "text/plain": [
       "6"
      ]
     },
     "execution_count": 10,
     "metadata": {},
     "output_type": "execute_result"
    }
   ],
   "source": [
    "sum"
   ]
  },
  {
   "cell_type": "code",
   "execution_count": 11,
   "id": "2df2dcc0-5c34-44a0-96eb-c652f7f86028",
   "metadata": {},
   "outputs": [],
   "source": [
    "# 39: Write a Program to Find out the Power of a Number"
   ]
  },
  {
   "cell_type": "code",
   "execution_count": 14,
   "id": "d4c748d9-e1b6-405b-844f-d1f786435de1",
   "metadata": {},
   "outputs": [
    {
     "name": "stdout",
     "output_type": "stream",
     "text": [
      "9\n"
     ]
    }
   ],
   "source": [
    "n = 3\n",
    "pw = 2\n",
    "res = n ** pw\n",
    "print(res)"
   ]
  },
  {
   "cell_type": "code",
   "execution_count": 23,
   "id": "8859f0b0-eae3-47d2-87ae-6ddd6bcab856",
   "metadata": {},
   "outputs": [
    {
     "ename": "TypeError",
     "evalue": "'int' object is not callable",
     "output_type": "error",
     "traceback": [
      "\u001b[0;31m---------------------------------------------------------------------------\u001b[0m",
      "\u001b[0;31mTypeError\u001b[0m                                 Traceback (most recent call last)",
      "Cell \u001b[0;32mIn[23], line 1\u001b[0m\n\u001b[0;32m----> 1\u001b[0m x \u001b[38;5;241m=\u001b[39m \u001b[38;5;28;43mpow\u001b[39;49m\u001b[43m(\u001b[49m\u001b[38;5;241;43m4\u001b[39;49m\u001b[43m,\u001b[49m\u001b[43m \u001b[49m\u001b[38;5;241;43m3\u001b[39;49m\u001b[43m)\u001b[49m\n",
      "\u001b[0;31mTypeError\u001b[0m: 'int' object is not callable"
     ]
    }
   ],
   "source": [
    "x = pow(4, 3)"
   ]
  },
  {
   "cell_type": "code",
   "execution_count": 24,
   "id": "31ddd3ad-5fdd-4965-823e-a7f91599f8ec",
   "metadata": {},
   "outputs": [
    {
     "name": "stdout",
     "output_type": "stream",
     "text": [
      "Python 3.10.5\n"
     ]
    }
   ],
   "source": [
    "!python -V "
   ]
  },
  {
   "cell_type": "code",
   "execution_count": 25,
   "id": "c67e6cf4-ea98-4c03-8b82-e5f2a3f08329",
   "metadata": {},
   "outputs": [
    {
     "name": "stdout",
     "output_type": "stream",
     "text": [
      "/home/cyberider/Desktop/python\n"
     ]
    }
   ],
   "source": [
    "!pwd\n"
   ]
  },
  {
   "cell_type": "code",
   "execution_count": 26,
   "id": "0c6ff85e-7dfe-4f6d-aa50-ec84ddb15f91",
   "metadata": {},
   "outputs": [
    {
     "name": "stdout",
     "output_type": "stream",
     "text": [
      "/bin/bash: line 1: c: command not found\n"
     ]
    }
   ],
   "source": [
    "!c"
   ]
  },
  {
   "cell_type": "code",
   "execution_count": 27,
   "id": "b1b4657d-5224-4488-8e9d-a578729640db",
   "metadata": {},
   "outputs": [
    {
     "name": "stdout",
     "output_type": "stream",
     "text": [
      "\u001b[H\u001b[2J"
     ]
    }
   ],
   "source": [
    "!clear"
   ]
  },
  {
   "cell_type": "code",
   "execution_count": null,
   "id": "8d374964-60fa-476f-b43d-568e73939fda",
   "metadata": {},
   "outputs": [],
   "source": []
  }
 ],
 "metadata": {
  "kernelspec": {
   "display_name": "Python 3 (ipykernel)",
   "language": "python",
   "name": "python3"
  },
  "language_info": {
   "codemirror_mode": {
    "name": "ipython",
    "version": 3
   },
   "file_extension": ".py",
   "mimetype": "text/x-python",
   "name": "python",
   "nbconvert_exporter": "python",
   "pygments_lexer": "ipython3",
   "version": "3.10.5"
  }
 },
 "nbformat": 4,
 "nbformat_minor": 5
}
