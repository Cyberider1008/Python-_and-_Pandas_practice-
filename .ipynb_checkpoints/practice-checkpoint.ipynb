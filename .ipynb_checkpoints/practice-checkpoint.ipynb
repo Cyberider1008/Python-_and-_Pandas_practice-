{
 "cells": [
  {
   "cell_type": "code",
   "execution_count": 9,
   "id": "150e5040-8764-435f-85fd-1304282aafbb",
   "metadata": {},
   "outputs": [
    {
     "name": "stdin",
     "output_type": "stream",
     "text": [
      "enter ur url here  http://google.com\n"
     ]
    },
    {
     "name": "stdout",
     "output_type": "stream",
     "text": [
      "valid\n"
     ]
    }
   ],
   "source": [
    "# url valid or not\n",
    "import re\n",
    "url = input(\"enter ur url here \")\n",
    "\n",
    "pattern = r'^(https?://)?([a-zA-Z0-9-]+\\.)*[a-zA_Z0-9-]+\\.[a-zA_Z]{3,}$'\n",
    "\n",
    "if re.match(pattern, url):\n",
    "    print(\"valid\")\n",
    "else:\n",
    "    print(\"not valid\")"
   ]
  },
  {
   "cell_type": "code",
   "execution_count": 12,
   "id": "7c8be97e-4663-4a86-85d0-01e515b1a741",
   "metadata": {},
   "outputs": [
    {
     "name": "stdin",
     "output_type": "stream",
     "text": [
      "emnter ur email here a@gmail.c\n"
     ]
    },
    {
     "name": "stdout",
     "output_type": "stream",
     "text": [
      "email is not valid\n"
     ]
    }
   ],
   "source": [
    "# email valid or not\n",
    "\n",
    "email = input(\"emnter ur email here\")\n",
    "\n",
    "pattern1 = r'^[a-zA-Z0-9\\-\\.]+[@][a-zA-Z]+\\.[a-zA-Z]{3,}$'\n",
    "\n",
    "if re.match(pattern1, email):\n",
    "    print(\"email is valid\")\n",
    "else:\n",
    "    print(\"email is not valid\")"
   ]
  },
  {
   "cell_type": "code",
   "execution_count": 19,
   "id": "36fe003a-ff82-4187-bddc-eb4fab1e5c06",
   "metadata": {},
   "outputs": [],
   "source": [
    "# email valid or not\n",
    "\n",
    "email = \" JavaTpoint offers college campus training on Core Java, Advance Java, .Net, Android, Hadoop, PHP, Web Technology and Python. Please mail your requirement at abaranwal@gmail.com\"\n",
    "\n",
    "pattern1 = r'[a-zA-Z0-9\\-\\.]+[@][a-zA-Z]+\\.[a-zA-Z]{3,}'\n",
    "\n",
    "res = re.findall(pattern1, email)"
   ]
  },
  {
   "cell_type": "code",
   "execution_count": 20,
   "id": "39d86f2a-83da-4e96-aeff-ed868d1f79d4",
   "metadata": {},
   "outputs": [
    {
     "data": {
      "text/plain": [
       "['abaranwal@gmail.com']"
      ]
     },
     "execution_count": 20,
     "metadata": {},
     "output_type": "execute_result"
    }
   ],
   "source": [
    "res"
   ]
  },
  {
   "cell_type": "code",
   "execution_count": 28,
   "id": "612acbc3-2c2c-4443-93fd-47dcf379e167",
   "metadata": {},
   "outputs": [
    {
     "name": "stdout",
     "output_type": "stream",
     "text": [
      "final invalid\n"
     ]
    }
   ],
   "source": [
    "num = 'abc'\n",
    "\n",
    "try:\n",
    "    if num % 2 ==0:\n",
    "        print(\"even\")\n",
    "    else:\n",
    "        print(\"odd\")\n",
    "except ValueError:\n",
    "    print(\"invalid\")\n",
    "except:\n",
    "    print(\"final invalid\")"
   ]
  },
  {
   "cell_type": "code",
   "execution_count": 31,
   "id": "15183b16-6d47-4580-b70b-4f77c10bb8c3",
   "metadata": {},
   "outputs": [
    {
     "name": "stdout",
     "output_type": "stream",
     "text": [
      "without sort ['apple', 'orange', 'banana', 'mango']\n",
      "after sort ['apple', 'banana', 'mango', 'orange']\n",
      "after delete the last fruits ['apple', 'banana', 'mango']\n"
     ]
    }
   ],
   "source": [
    "# fruits operation list\n",
    "fruits_list = []\n",
    "#add fruits into list\n",
    "fruits_list.append(\"apple\")\n",
    "fruits_list.append(\"orange\")\n",
    "fruits_list.append(\"banana\")\n",
    "fruits_list.append(\"mango\")\n",
    "\n",
    "print(\"without sort\",fruits_list)\n",
    "\n",
    "# sor the list\n",
    "\n",
    "fruits_list.sort()\n",
    "print(\"after sort\",fruits_list)\n",
    "\n",
    "# delete the last fruits\n",
    "\n",
    "last_del_fruits = fruits_list.pop()\n",
    "print(\"after delete the last fruits\",fruits_list)"
   ]
  },
  {
   "cell_type": "code",
   "execution_count": 30,
   "id": "fad17a0d-0a93-4fe3-9e70-340940120905",
   "metadata": {},
   "outputs": [
    {
     "data": {
      "text/plain": [
       "'orange'"
      ]
     },
     "execution_count": 30,
     "metadata": {},
     "output_type": "execute_result"
    }
   ],
   "source": [
    "last_del_fruits"
   ]
  },
  {
   "cell_type": "code",
   "execution_count": 32,
   "id": "bde093da-27fe-49d0-9432-06c046bac38a",
   "metadata": {},
   "outputs": [
    {
     "name": "stdout",
     "output_type": "stream",
     "text": [
      "this is constructor\n"
     ]
    }
   ],
   "source": [
    "#constructor\n",
    "class A:\n",
    "    def __init__(self):\n",
    "        print(\"this is constructor\")\n",
    "a = A()\n",
    "        "
   ]
  },
  {
   "cell_type": "code",
   "execution_count": 33,
   "id": "1ff8efb6-0fa5-4822-a073-81818d1c74f5",
   "metadata": {},
   "outputs": [
    {
     "name": "stdout",
     "output_type": "stream",
     "text": [
      "0\n",
      "1\n",
      "2\n",
      "3\n",
      "4\n",
      "5\n",
      "6\n",
      "7\n",
      "8\n",
      "9\n"
     ]
    }
   ],
   "source": [
    "#threading there are two types 1.with class 2.without class\n",
    "\n",
    "from threading import Thread\n",
    "\n",
    "def my_thread():\n",
    "    for i in range(10):\n",
    "        print(i)\n",
    "\n",
    "t = Thread(target=my_thread)\n",
    "t.start()\n",
    "t.join()\n"
   ]
  },
  {
   "cell_type": "code",
   "execution_count": 35,
   "id": "c45fb111-97ee-4e1d-9f9a-262c7a547c19",
   "metadata": {},
   "outputs": [
    {
     "name": "stdout",
     "output_type": "stream",
     "text": [
      "0\n",
      "1\n",
      "2\n",
      "3\n",
      "4\n",
      "5\n",
      "6\n",
      "7\n",
      "8\n",
      "9\n",
      "10\n",
      "11\n",
      "12\n"
     ]
    }
   ],
   "source": [
    "#threading there are two types 1.with class 2.without class\n",
    "\n",
    "from threading import Thread\n",
    "\n",
    "def my_thread(num):\n",
    "    for i in range(num):\n",
    "        print(i)\n",
    "\n",
    "t = Thread(target=my_thread, args=(13,))\n",
    "t.start()\n",
    "t.join()\n"
   ]
  },
  {
   "cell_type": "code",
   "execution_count": 37,
   "id": "4001628e-c546-49c4-b3d4-77efafe7dacb",
   "metadata": {},
   "outputs": [
    {
     "name": "stdout",
     "output_type": "stream",
     "text": [
      "0\n",
      "1\n",
      "2\n",
      "3\n",
      "4\n",
      "5\n",
      "6\n",
      "7\n",
      "8\n",
      "9\n"
     ]
    }
   ],
   "source": [
    "#2.class Thread\n",
    "\n",
    "from threading import Thread\n",
    "class My_threadclass(Thread):\n",
    "    def run(self):\n",
    "        for i in range(10):\n",
    "            print(i)\n",
    "\n",
    "t1 = My_threadclass()\n",
    "t1.start()\n",
    "t1.join()\n"
   ]
  },
  {
   "cell_type": "code",
   "execution_count": 38,
   "id": "96007500-dc33-4ea9-86d5-5221ae82d473",
   "metadata": {},
   "outputs": [],
   "source": [
    "#lambda unamed fuction annonymous \n",
    "\n",
    "c= lambda a,b:a+b\n",
    "res_lambda = c(2,3)\n"
   ]
  },
  {
   "cell_type": "code",
   "execution_count": 39,
   "id": "cedc5cc0-43b6-4fdf-afac-16cd4c719881",
   "metadata": {},
   "outputs": [
    {
     "data": {
      "text/plain": [
       "5"
      ]
     },
     "execution_count": 39,
     "metadata": {},
     "output_type": "execute_result"
    }
   ],
   "source": [
    "res_lambda"
   ]
  },
  {
   "cell_type": "code",
   "execution_count": 41,
   "id": "cccc6982-ef3f-447e-95d9-6917b26473bd",
   "metadata": {},
   "outputs": [
    {
     "name": "stdout",
     "output_type": "stream",
     "text": [
      "rahul ,good morning\n",
      "ashish, sir good morning\n",
      "aniket ,good morning\n"
     ]
    }
   ],
   "source": [
    "#decorator\n",
    "def change_wish(func):\n",
    "    def inner(name):\n",
    "        if name ==\"ashish\":\n",
    "            print(f\"{name}, sir good morning\")\n",
    "        else:\n",
    "            return func(name)\n",
    "    return inner\n",
    "    \n",
    "@change_wish\n",
    "def wish(name):\n",
    "    print(f\"{name} ,good morning\")\n",
    "\n",
    "wish(\"rahul\")\n",
    "wish(\"ashish\")\n",
    "wish(\"aniket\")"
   ]
  },
  {
   "cell_type": "code",
   "execution_count": 47,
   "id": "daa82109-e986-4860-b05d-e81ab711faee",
   "metadata": {},
   "outputs": [],
   "source": [
    "#create generator \n",
    "\n",
    "def square_generator(num):\n",
    "    for i in range(num):\n",
    "        yield i**2\n",
    "s= square_generator(10)"
   ]
  },
  {
   "cell_type": "code",
   "execution_count": 48,
   "id": "1afc50df-8ee2-41f0-94ca-ab904bd0acf2",
   "metadata": {},
   "outputs": [
    {
     "data": {
      "text/plain": [
       "0"
      ]
     },
     "execution_count": 48,
     "metadata": {},
     "output_type": "execute_result"
    }
   ],
   "source": [
    "s.__next__()"
   ]
  },
  {
   "cell_type": "code",
   "execution_count": 49,
   "id": "bcd9e777-9bb7-4183-baf4-ae7fb1292b01",
   "metadata": {},
   "outputs": [
    {
     "data": {
      "text/plain": [
       "1"
      ]
     },
     "execution_count": 49,
     "metadata": {},
     "output_type": "execute_result"
    }
   ],
   "source": [
    "s.__next__()"
   ]
  },
  {
   "cell_type": "code",
   "execution_count": 50,
   "id": "a7741f03-7f6d-4324-9104-9d149ca80843",
   "metadata": {},
   "outputs": [
    {
     "data": {
      "text/plain": [
       "4"
      ]
     },
     "execution_count": 50,
     "metadata": {},
     "output_type": "execute_result"
    }
   ],
   "source": [
    "s.__next__()"
   ]
  },
  {
   "cell_type": "code",
   "execution_count": 51,
   "id": "3ff20d50-5eb4-44f6-9377-70ca4e47d6eb",
   "metadata": {},
   "outputs": [
    {
     "data": {
      "text/plain": [
       "9"
      ]
     },
     "execution_count": 51,
     "metadata": {},
     "output_type": "execute_result"
    }
   ],
   "source": [
    "next(s)"
   ]
  },
  {
   "cell_type": "code",
   "execution_count": 52,
   "id": "aafc12a7-fcc1-49cb-bb75-f9eeddca6272",
   "metadata": {},
   "outputs": [
    {
     "name": "stdout",
     "output_type": "stream",
     "text": [
      "16\n",
      "25\n",
      "36\n",
      "49\n",
      "64\n",
      "81\n"
     ]
    }
   ],
   "source": [
    "for i in s:\n",
    "    print(i)"
   ]
  },
  {
   "cell_type": "code",
   "execution_count": 61,
   "id": "d3ad3486-ef94-480e-a96e-1e6f88391973",
   "metadata": {},
   "outputs": [
    {
     "name": "stdout",
     "output_type": "stream",
     "text": [
      "palindrome\n"
     ]
    }
   ],
   "source": [
    "#palindrome\n",
    "\n",
    "str =\"MoM\"\n",
    "str.casefold()\n",
    "rev_str = str[::-1]\n",
    "print(\"palindrome\" if str==rev_str else \"not plindrome\" )"
   ]
  },
  {
   "cell_type": "code",
   "execution_count": 64,
   "id": "a231c1df-2c60-4547-88b6-ac1bd9f0ec6d",
   "metadata": {},
   "outputs": [],
   "source": [
    "#calculate the marks\n",
    "\n",
    "class Student:\n",
    "    total_marks =500\n",
    "    def __init__(self, name, marks):\n",
    "        self.name = name\n",
    "        self.marks = marks\n",
    "    def calculate(self):\n",
    "        return (sum(self.marks)/self.total_marks)*100\n",
    "marks = [10,20,30,40,50]\n",
    "s = Student(\"ashish\",marks)"
   ]
  },
  {
   "cell_type": "code",
   "execution_count": 65,
   "id": "b3dd9c37-f739-4bf9-a10a-0012222bfd21",
   "metadata": {},
   "outputs": [
    {
     "data": {
      "text/plain": [
       "30.0"
      ]
     },
     "execution_count": 65,
     "metadata": {},
     "output_type": "execute_result"
    }
   ],
   "source": [
    "s.calculate()"
   ]
  },
  {
   "cell_type": "code",
   "execution_count": 72,
   "id": "2f16bf0e-074c-4ee4-b9d0-d20bc8e1908d",
   "metadata": {},
   "outputs": [
    {
     "name": "stdout",
     "output_type": "stream",
     "text": [
      "hll h  m shsh\n"
     ]
    }
   ],
   "source": [
    "#remove vowels\n",
    "def remove_vowels(str):\n",
    "    vowels =\"aeiouAEIOU\"\n",
    "    without_vowels =\"\"\n",
    "    for char in str:\n",
    "        if char not in vowels:\n",
    "            without_vowels += char\n",
    "    print(without_vowels)\n",
    "\n",
    "str = \"hello hi i am ashish\"\n",
    "remove_vowels(str)\n"
   ]
  },
  {
   "cell_type": "code",
   "execution_count": 74,
   "id": "1dadd11b-c0bf-4640-a3eb-92edd6ae4248",
   "metadata": {},
   "outputs": [
    {
     "name": "stdout",
     "output_type": "stream",
     "text": [
      "total line is  3\n",
      "total word is  12\n",
      "total char is  61\n"
     ]
    }
   ],
   "source": [
    "#count word,line char\n",
    "\n",
    "def count_w_l_c(filename):\n",
    "    try:\n",
    "        lines = 0\n",
    "        word =0 \n",
    "        char =0 \n",
    "        with open(filename, 'r') as file:\n",
    "            for line in file:\n",
    "                lines +=1\n",
    "                word_list = line.split()\n",
    "                word += len(word_list)\n",
    "                char += len(line)\n",
    "        print(\"total line is \",lines)\n",
    "        print(\"total word is \",word)\n",
    "        print(\"total char is \",char)\n",
    "    except FileNotFound:\n",
    "        print(\"file not found\")\n",
    "    except:\n",
    "        print(\"invalid\")\n",
    "count_w_l_c(\"temp.txt\")\n",
    "    "
   ]
  },
  {
   "cell_type": "code",
   "execution_count": 75,
   "id": "8acce55a-44b1-427b-b003-f0527e580b81",
   "metadata": {},
   "outputs": [],
   "source": [
    "#write on text file\n",
    "\n",
    "with open(\"temp1.txt\",'w') as file:\n",
    "    file.write(\"hello\\n hi\\n hi\")"
   ]
  },
  {
   "cell_type": "code",
   "execution_count": 87,
   "id": "8994a446-dc73-45fe-8087-128e43e15158",
   "metadata": {},
   "outputs": [
    {
     "name": "stdout",
     "output_type": "stream",
     "text": [
      "before lines ['#hello rahul\\n', '  #hi\\n', ' hi\\n', 'hkjhjkhk\\n', 'bjkbnjk\\n', '#jhvjhbjkbkj']\n",
      "after lines ['', '', 'hi', 'hkjhjkhk', 'bjkbnjk', '']\n"
     ]
    }
   ],
   "source": [
    "#remove comment from file\n",
    "\n",
    "with open(\"temp1.txt\",'r') as file:\n",
    "    lines = file.readlines()\n",
    "    print(\"before lines\",lines)\n",
    "    line =[i.split(\"#\")[0].strip() for i in lines]\n",
    "    print(\"after lines\",line)\n",
    "\n",
    "with open(\"temp3.txt\",'w') as file:\n",
    "    for i in line:\n",
    "        file.write(i)\n"
   ]
  },
  {
   "cell_type": "code",
   "execution_count": 89,
   "id": "364836f0-b696-4819-b432-6bd8740d3ff7",
   "metadata": {},
   "outputs": [],
   "source": [
    "# using mongodb\n",
    "\n",
    "#pip install pymongo\n",
    "\n",
    "from pymongo import MongoClient"
   ]
  },
  {
   "cell_type": "code",
   "execution_count": 90,
   "id": "d492da21-a498-42db-a353-81b0298f2be3",
   "metadata": {},
   "outputs": [],
   "source": [
    "client = MongoClient(\"mongodb://127.0.0.1/27017\")"
   ]
  },
  {
   "cell_type": "code",
   "execution_count": 91,
   "id": "ff07b3cb-c2ff-4398-80ed-0c174d33bed3",
   "metadata": {},
   "outputs": [],
   "source": [
    "db = client.db1"
   ]
  },
  {
   "cell_type": "code",
   "execution_count": 92,
   "id": "8121e10c-e211-4d29-b1db-672ac5fa09f4",
   "metadata": {},
   "outputs": [],
   "source": [
    "collection = db.tb1"
   ]
  },
  {
   "cell_type": "code",
   "execution_count": 93,
   "id": "034b64b5-b591-4d0b-a16e-ca57ef1ebcc5",
   "metadata": {},
   "outputs": [
    {
     "data": {
      "text/plain": [
       "<pymongo.results.InsertOneResult at 0x7fe03d0af280>"
      ]
     },
     "execution_count": 93,
     "metadata": {},
     "output_type": "execute_result"
    }
   ],
   "source": [
    "#create data into table\n",
    "data = {\"name\":\"rahul\",\"marks\":40}\n",
    "many_data = [{\"name\":\"rahul1\",\"marks\":41},{\"name\":\"rahul2\",\"marks\":42},{\"name\":\"rahul3\",\"marks\":43}]\n",
    "\n",
    "collection.insert_one(data)"
   ]
  },
  {
   "cell_type": "code",
   "execution_count": 94,
   "id": "a016b85e-4b1d-49d9-9aab-82887fad8c2f",
   "metadata": {},
   "outputs": [
    {
     "data": {
      "text/plain": [
       "<pymongo.results.InsertManyResult at 0x7fe03d0dd4b0>"
      ]
     },
     "execution_count": 94,
     "metadata": {},
     "output_type": "execute_result"
    }
   ],
   "source": [
    "collection.insert_many(many_data)"
   ]
  },
  {
   "cell_type": "code",
   "execution_count": 97,
   "id": "46a14557-d658-4fc6-a7e6-87ed3a160482",
   "metadata": {},
   "outputs": [
    {
     "name": "stdout",
     "output_type": "stream",
     "text": [
      "name= rahul marks= 40\n",
      "name= rahul1 marks= 41\n",
      "name= rahul2 marks= 42\n",
      "name= rahul3 marks= 43\n"
     ]
    }
   ],
   "source": [
    "#read the data\n",
    "for data in collection.find():\n",
    "    print(\"name=\",data['name'],\"marks=\",data[\"marks\"])"
   ]
  },
  {
   "cell_type": "code",
   "execution_count": 98,
   "id": "78c5bbaf-e9b5-4d0c-9f74-bb371be16a08",
   "metadata": {},
   "outputs": [
    {
     "data": {
      "text/plain": [
       "<pymongo.results.UpdateResult at 0x7fe03d0afa30>"
      ]
     },
     "execution_count": 98,
     "metadata": {},
     "output_type": "execute_result"
    }
   ],
   "source": [
    "#update the data\n",
    "update_data = {'name':'rahul'}\n",
    "\n",
    "collection.update_one(update_data,{'$set':{'name':\"aniket\",'marks':10}})\n"
   ]
  },
  {
   "cell_type": "code",
   "execution_count": 99,
   "id": "4df78215-0938-4f9f-81b1-90f282383e89",
   "metadata": {},
   "outputs": [
    {
     "name": "stdout",
     "output_type": "stream",
     "text": [
      "name= aniket marks= 10\n",
      "name= rahul1 marks= 41\n",
      "name= rahul2 marks= 42\n",
      "name= rahul3 marks= 43\n"
     ]
    }
   ],
   "source": [
    "#read the data\n",
    "for data in collection.find():\n",
    "    print(\"name=\",data['name'],\"marks=\",data[\"marks\"])"
   ]
  },
  {
   "cell_type": "code",
   "execution_count": 100,
   "id": "cea9c3d4-f904-4f12-815d-94580f1312ed",
   "metadata": {},
   "outputs": [
    {
     "data": {
      "text/plain": [
       "<pymongo.results.DeleteResult at 0x7fe03c0eae00>"
      ]
     },
     "execution_count": 100,
     "metadata": {},
     "output_type": "execute_result"
    }
   ],
   "source": [
    "#delete the data\n",
    "dlt_data = {\"name\":\"aniket\"}\n",
    "collection.delete_one(dlt_data)\n",
    "\n"
   ]
  },
  {
   "cell_type": "code",
   "execution_count": 101,
   "id": "c18d5571-b8aa-4eef-ad6a-47ee9b087998",
   "metadata": {},
   "outputs": [
    {
     "name": "stdout",
     "output_type": "stream",
     "text": [
      "name= rahul1 marks= 41\n",
      "name= rahul2 marks= 42\n",
      "name= rahul3 marks= 43\n"
     ]
    }
   ],
   "source": [
    "#read the data\n",
    "for data in collection.find():\n",
    "    print(\"name=\",data['name'],\"marks=\",data[\"marks\"])"
   ]
  },
  {
   "cell_type": "code",
   "execution_count": 102,
   "id": "f5603d7e-2758-49dd-8461-5f26318481f2",
   "metadata": {},
   "outputs": [
    {
     "data": {
      "text/plain": [
       "120"
      ]
     },
     "execution_count": 102,
     "metadata": {},
     "output_type": "execute_result"
    }
   ],
   "source": [
    "#factorial\n",
    "\n",
    "def fact(n):\n",
    "    if n==0:\n",
    "        return 1\n",
    "    else:\n",
    "        return n*fact(n-1)\n",
    "fact(5)"
   ]
  },
  {
   "cell_type": "code",
   "execution_count": 104,
   "id": "251941b9-a9ee-4684-bad4-a519024133ba",
   "metadata": {},
   "outputs": [
    {
     "data": {
      "text/plain": [
       "<BarContainer object of 3 artists>"
      ]
     },
     "execution_count": 104,
     "metadata": {},
     "output_type": "execute_result"
    },
    {
     "data": {
      "image/png": "[encoded data removed]",
      "text/plain": [
       "<Figure size 640x480 with 1 Axes>"
      ]
     },
     "metadata": {},
     "output_type": "display_data"
    }
   ],
   "source": [
    "import matplotlib.pyplot as pt\n",
    "import numpy as np\n",
    "\n",
    "x= np.array(['a','b','c'])\n",
    "y=np.array([1,2,3])\n",
    "pt.bar(x,y)"
   ]
  },
  {
   "cell_type": "code",
   "execution_count": 105,
   "id": "004e3276-f4e5-43b8-baba-7762f1f3a931",
   "metadata": {},
   "outputs": [],
   "source": [
    "#one dimension\n",
    "l1 = [1,2,3,4]\n",
    "arr = np.array(l1)"
   ]
  },
  {
   "cell_type": "code",
   "execution_count": 106,
   "id": "892b0d85-fef9-45cb-9978-463da3e5e02a",
   "metadata": {},
   "outputs": [
    {
     "data": {
      "text/plain": [
       "array([1, 2, 3, 4])"
      ]
     },
     "execution_count": 106,
     "metadata": {},
     "output_type": "execute_result"
    }
   ],
   "source": [
    "arr"
   ]
  },
  {
   "cell_type": "code",
   "execution_count": 109,
   "id": "6452d0fa-8cc8-4862-b1e5-21cff6a9e38e",
   "metadata": {},
   "outputs": [],
   "source": [
    "#two dimension\n",
    "l2=[[1,2,3],[4,5,6]]\n",
    "arr2 = np.array(l2)"
   ]
  },
  {
   "cell_type": "code",
   "execution_count": 110,
   "id": "95fda4d0-e4a6-42bb-a795-147924bfa5ed",
   "metadata": {},
   "outputs": [
    {
     "data": {
      "text/plain": [
       "array([[1, 2, 3],\n",
       "       [4, 5, 6]])"
      ]
     },
     "execution_count": 110,
     "metadata": {},
     "output_type": "execute_result"
    }
   ],
   "source": [
    "arr2"
   ]
  },
  {
   "cell_type": "code",
   "execution_count": 111,
   "id": "ecbe9523-618b-4aba-b2ca-11f5a3aaf67d",
   "metadata": {},
   "outputs": [],
   "source": [
    "l3=[[[1,2,3],[4,5,6],[7,8,9]]]\n",
    "arr3 = np.array(l3)"
   ]
  },
  {
   "cell_type": "code",
   "execution_count": 112,
   "id": "c4dc75d7-802d-4426-a9ff-956012395b03",
   "metadata": {},
   "outputs": [
    {
     "data": {
      "text/plain": [
       "array([[[1, 2, 3],\n",
       "        [4, 5, 6],\n",
       "        [7, 8, 9]]])"
      ]
     },
     "execution_count": 112,
     "metadata": {},
     "output_type": "execute_result"
    }
   ],
   "source": [
    "arr3"
   ]
  },
  {
   "cell_type": "code",
   "execution_count": 115,
   "id": "67fd9c9f-75fe-4541-96ba-b13ba3e1045e",
   "metadata": {},
   "outputs": [],
   "source": [
    "max1 = np.max(l2)"
   ]
  },
  {
   "cell_type": "code",
   "execution_count": 116,
   "id": "817a1f87-ede7-4007-918e-4a040d4542d5",
   "metadata": {},
   "outputs": [
    {
     "data": {
      "text/plain": [
       "6"
      ]
     },
     "execution_count": 116,
     "metadata": {},
     "output_type": "execute_result"
    }
   ],
   "source": [
    "max1"
   ]
  },
  {
   "cell_type": "code",
   "execution_count": 118,
   "id": "e32f8a16-3ace-4998-a13f-d9203f2a5bbc",
   "metadata": {},
   "outputs": [],
   "source": [
    "arr4 =np.arange(9).reshape(3,3) "
   ]
  },
  {
   "cell_type": "code",
   "execution_count": 119,
   "id": "945c2077-7287-4aba-8970-f04886c4e43e",
   "metadata": {},
   "outputs": [
    {
     "data": {
      "text/plain": [
       "array([[0, 1, 2],\n",
       "       [3, 4, 5],\n",
       "       [6, 7, 8]])"
      ]
     },
     "execution_count": 119,
     "metadata": {},
     "output_type": "execute_result"
    }
   ],
   "source": [
    "arr4"
   ]
  },
  {
   "cell_type": "code",
   "execution_count": 127,
   "id": "91eb17da-b426-4824-905b-697a37fee9f5",
   "metadata": {},
   "outputs": [],
   "source": [
    "arr4_mean= np.mean(arr4, axis=0)"
   ]
  },
  {
   "cell_type": "code",
   "execution_count": 128,
   "id": "cdb0169e-4714-4df3-90d8-b9fc4a0fd87c",
   "metadata": {},
   "outputs": [
    {
     "data": {
      "text/plain": [
       "array([3., 4., 5.])"
      ]
     },
     "execution_count": 128,
     "metadata": {},
     "output_type": "execute_result"
    }
   ],
   "source": [
    "arr4_mean"
   ]
  },
  {
   "cell_type": "code",
   "execution_count": 129,
   "id": "e6a52425-8176-4eaf-a367-7465d29ee848",
   "metadata": {},
   "outputs": [],
   "source": [
    "arr4_median = np.median(arr4, axis=0)"
   ]
  },
  {
   "cell_type": "code",
   "execution_count": 130,
   "id": "aa00dfcc-8420-47a5-b89b-71ed09e4e423",
   "metadata": {},
   "outputs": [
    {
     "data": {
      "text/plain": [
       "array([3., 4., 5.])"
      ]
     },
     "execution_count": 130,
     "metadata": {},
     "output_type": "execute_result"
    }
   ],
   "source": [
    "arr4_median"
   ]
  },
  {
   "cell_type": "code",
   "execution_count": 120,
   "id": "7a854320-ec6d-4080-b8ed-d9dbea8ec575",
   "metadata": {},
   "outputs": [],
   "source": [
    "import pandas as pd\n",
    "data = {\"name\":[\"rahul\",\"aniket\",\"sachin\"],\"marks\":[10,20,30]}"
   ]
  },
  {
   "cell_type": "code",
   "execution_count": 121,
   "id": "596d2a36-a88f-4a39-bd58-46272d7a1e96",
   "metadata": {},
   "outputs": [],
   "source": [
    "df = pd.DataFrame(data)"
   ]
  },
  {
   "cell_type": "code",
   "execution_count": 124,
   "id": "4da4b97a-1e43-4b83-af23-ac0c2b77ea93",
   "metadata": {},
   "outputs": [
    {
     "data": {
      "text/html": [
       "<div>\n",
       "<style scoped>\n",
       "    .dataframe tbody tr th:only-of-type {\n",
       "        vertical-align: middle;\n",
       "    }\n",
       "\n",
       "    .dataframe tbody tr th {\n",
       "        vertical-align: top;\n",
       "    }\n",
       "\n",
       "    .dataframe thead th {\n",
       "        text-align: right;\n",
       "    }\n",
       "</style>\n",
       "<table border=\"1\" class=\"dataframe\">\n",
       "  <thead>\n",
       "    <tr style=\"text-align: right;\">\n",
       "      <th></th>\n",
       "      <th>name</th>\n",
       "      <th>marks</th>\n",
       "    </tr>\n",
       "  </thead>\n",
       "  <tbody>\n",
       "    <tr>\n",
       "      <th>0</th>\n",
       "      <td>rahul</td>\n",
       "      <td>10</td>\n",
       "    </tr>\n",
       "    <tr>\n",
       "      <th>1</th>\n",
       "      <td>aniket</td>\n",
       "      <td>20</td>\n",
       "    </tr>\n",
       "    <tr>\n",
       "      <th>2</th>\n",
       "      <td>sachin</td>\n",
       "      <td>30</td>\n",
       "    </tr>\n",
       "  </tbody>\n",
       "</table>\n",
       "</div>"
      ],
      "text/plain": [
       "     name  marks\n",
       "0   rahul     10\n",
       "1  aniket     20\n",
       "2  sachin     30"
      ]
     },
     "execution_count": 124,
     "metadata": {},
     "output_type": "execute_result"
    }
   ],
   "source": [
    "df"
   ]
  },
  {
   "cell_type": "code",
   "execution_count": 122,
   "id": "2f8f0004-0b9e-499d-a2c9-7fc3eba11dcd",
   "metadata": {},
   "outputs": [],
   "source": [
    "res = df.to_string()"
   ]
  },
  {
   "cell_type": "code",
   "execution_count": 123,
   "id": "007d5f23-f2c7-4993-acc5-2c78b0181694",
   "metadata": {},
   "outputs": [
    {
     "data": {
      "text/plain": [
       "'     name  marks\\n0   rahul     10\\n1  aniket     20\\n2  sachin     30'"
      ]
     },
     "execution_count": 123,
     "metadata": {},
     "output_type": "execute_result"
    }
   ],
   "source": [
    "res"
   ]
  },
  {
   "cell_type": "code",
   "execution_count": 150,
   "id": "5317b37a-2de1-423c-a0ba-0186e0436690",
   "metadata": {},
   "outputs": [],
   "source": [
    "#count rows columns empty count\n",
    "l2 = [[1,\"sanjay\",None],[2,None,20],[3,\"aniket\",None]] "
   ]
  },
  {
   "cell_type": "code",
   "execution_count": 151,
   "id": "cc0acf1f-4e2d-4eec-a1e6-05ec567c7f7e",
   "metadata": {},
   "outputs": [],
   "source": [
    "columns = [\"id\",'name','marks']\n"
   ]
  },
  {
   "cell_type": "code",
   "execution_count": 152,
   "id": "a525f709-f77b-43a1-a2f3-7a0f999f1aea",
   "metadata": {},
   "outputs": [],
   "source": [
    "df = pd.DataFrame(l2,columns = columns)"
   ]
  },
  {
   "cell_type": "code",
   "execution_count": 153,
   "id": "6355cdc5-42eb-4061-aa2c-324c20211856",
   "metadata": {},
   "outputs": [
    {
     "data": {
      "text/html": [
       "<div>\n",
       "<style scoped>\n",
       "    .dataframe tbody tr th:only-of-type {\n",
       "        vertical-align: middle;\n",
       "    }\n",
       "\n",
       "    .dataframe tbody tr th {\n",
       "        vertical-align: top;\n",
       "    }\n",
       "\n",
       "    .dataframe thead th {\n",
       "        text-align: right;\n",
       "    }\n",
       "</style>\n",
       "<table border=\"1\" class=\"dataframe\">\n",
       "  <thead>\n",
       "    <tr style=\"text-align: right;\">\n",
       "      <th></th>\n",
       "      <th>id</th>\n",
       "      <th>name</th>\n",
       "      <th>marks</th>\n",
       "    </tr>\n",
       "  </thead>\n",
       "  <tbody>\n",
       "    <tr>\n",
       "      <th>0</th>\n",
       "      <td>1</td>\n",
       "      <td>sanjay</td>\n",
       "      <td>NaN</td>\n",
       "    </tr>\n",
       "    <tr>\n",
       "      <th>1</th>\n",
       "      <td>2</td>\n",
       "      <td>None</td>\n",
       "      <td>20.0</td>\n",
       "    </tr>\n",
       "    <tr>\n",
       "      <th>2</th>\n",
       "      <td>3</td>\n",
       "      <td>aniket</td>\n",
       "      <td>NaN</td>\n",
       "    </tr>\n",
       "  </tbody>\n",
       "</table>\n",
       "</div>"
      ],
      "text/plain": [
       "   id    name  marks\n",
       "0   1  sanjay    NaN\n",
       "1   2    None   20.0\n",
       "2   3  aniket    NaN"
      ]
     },
     "execution_count": 153,
     "metadata": {},
     "output_type": "execute_result"
    }
   ],
   "source": [
    "df"
   ]
  },
  {
   "cell_type": "code",
   "execution_count": 154,
   "id": "30b6b459-7559-4de7-b7d5-ec679b980e1e",
   "metadata": {},
   "outputs": [],
   "source": [
    "row_count = len(df)"
   ]
  },
  {
   "cell_type": "code",
   "execution_count": 155,
   "id": "4455e034-8471-46f5-9ebe-fcad9b3a2364",
   "metadata": {},
   "outputs": [
    {
     "data": {
      "text/plain": [
       "3"
      ]
     },
     "execution_count": 155,
     "metadata": {},
     "output_type": "execute_result"
    }
   ],
   "source": [
    "row_count"
   ]
  },
  {
   "cell_type": "code",
   "execution_count": 156,
   "id": "2c14cdcf-8313-4023-9050-4fd278bd7814",
   "metadata": {},
   "outputs": [],
   "source": [
    "column_count = len(df.columns)"
   ]
  },
  {
   "cell_type": "code",
   "execution_count": 157,
   "id": "06bb2eb3-e70d-4ae1-9ce3-a5e338aebf68",
   "metadata": {},
   "outputs": [
    {
     "data": {
      "text/plain": [
       "3"
      ]
     },
     "execution_count": 157,
     "metadata": {},
     "output_type": "execute_result"
    }
   ],
   "source": [
    "column_count"
   ]
  },
  {
   "cell_type": "code",
   "execution_count": 162,
   "id": "65bdda6c-b496-4adf-a9a2-ec4f7049c882",
   "metadata": {},
   "outputs": [],
   "source": [
    "null_row_count = df['name'].isnull().sum()"
   ]
  },
  {
   "cell_type": "code",
   "execution_count": 163,
   "id": "6b281083-375d-424b-b85e-e8675168f069",
   "metadata": {},
   "outputs": [
    {
     "data": {
      "text/plain": [
       "0"
      ]
     },
     "execution_count": 163,
     "metadata": {},
     "output_type": "execute_result"
    }
   ],
   "source": [
    "null_row_count"
   ]
  },
  {
   "cell_type": "code",
   "execution_count": null,
   "id": "27e37254-b0f1-401a-bfda-88694099f25a",
   "metadata": {},
   "outputs": [],
   "source": []
  }
 ],
 "metadata": {
  "kernelspec": {
   "display_name": "Python 3 (ipykernel)",
   "language": "python",
   "name": "python3"
  },
  "language_info": {
   "codemirror_mode": {
    "name": "ipython",
    "version": 3
   },
   "file_extension": ".py",
   "mimetype": "text/x-python",
   "name": "python",
   "nbconvert_exporter": "python",
   "pygments_lexer": "ipython3",
   "version": "3.10.5"
  }
 },
 "nbformat": 4,
 "nbformat_minor": 5
}
