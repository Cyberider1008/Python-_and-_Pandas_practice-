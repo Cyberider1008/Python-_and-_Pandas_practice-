{
 "cells": [
  {
   "cell_type": "code",
   "execution_count": 1,
   "id": "1e8d82e4-6687-4d59-b021-c54c5dc376fe",
   "metadata": {},
   "outputs": [],
   "source": [
    "# Level 1"
   ]
  },
  {
   "cell_type": "code",
   "execution_count": 2,
   "id": "4dae5820-33c1-46b3-9329-358487e8cfe4",
   "metadata": {},
   "outputs": [],
   "source": [
    "# 1.Write a program to take two integer inputs from user and print sum and product of them.?"
   ]
  },
  {
   "cell_type": "code",
   "execution_count": 3,
   "id": "ebefa04f-0927-4e85-99d8-9c77d8c12794",
   "metadata": {},
   "outputs": [
    {
     "name": "stdin",
     "output_type": "stream",
     "text": [
      "enter your first number :   2\n",
      "enter your second number:  4\n"
     ]
    },
    {
     "name": "stdout",
     "output_type": "stream",
     "text": [
      "total sum of 2 and 4 is 6\n"
     ]
    }
   ],
   "source": [
    "num1 = int(input(\"enter your first number :  \"))\n",
    "num2 = int(input(\"enter your second number: \"))\n",
    "\n",
    "res = num1 + num2\n",
    "\n",
    "print(f\"total sum of {num1} and {num2} is {res}\")\n"
   ]
  },
  {
   "cell_type": "code",
   "execution_count": 4,
   "id": "186bef2b-8689-475b-b787-2efe5a166533",
   "metadata": {},
   "outputs": [],
   "source": [
    "# 5.wap to to take input from user of your name and print it"
   ]
  },
  {
   "cell_type": "code",
   "execution_count": 11,
   "id": "3cc85fae-13b4-4967-aeb5-a9f42cf78494",
   "metadata": {},
   "outputs": [
    {
     "name": "stdin",
     "output_type": "stream",
     "text": [
      "enter your name here:  as\n"
     ]
    },
    {
     "name": "stdout",
     "output_type": "stream",
     "text": [
      "you name is as\n"
     ]
    }
   ],
   "source": [
    "name = input(\"enter your name here: \")\n",
    "print(f\"you name is {name}\")"
   ]
  },
  {
   "cell_type": "code",
   "execution_count": 12,
   "id": "9b90e3af-8d46-44cd-a882-20f330d9c6b9",
   "metadata": {},
   "outputs": [],
   "source": [
    "# level 2"
   ]
  },
  {
   "cell_type": "code",
   "execution_count": 13,
   "id": "1c3139b8-2642-4264-acdd-d802895d7f59",
   "metadata": {},
   "outputs": [],
   "source": [
    "# 1.Wap enter amount,rate and time and find the simple intrest."
   ]
  },
  {
   "cell_type": "code",
   "execution_count": 14,
   "id": "3cdf5304-5251-48fb-bbee-c4f986493f10",
   "metadata": {},
   "outputs": [
    {
     "name": "stdout",
     "output_type": "stream",
     "text": [
      "simple interest is 120.0\n"
     ]
    }
   ],
   "source": [
    "# amount = int(input(\"enter your principle amount: \"))\n",
    "# interest_rate = int(input(\"enter you interest rate: \"))\n",
    "# time_yrs = int(input(\"enter your time in year : \"))\n",
    "\n",
    "amount = 1000\n",
    "interest_rate = 6\n",
    "time_yrs = 2\n",
    "\n",
    "simple_interest = (amount * interest_rate * time_yrs) / 100\n",
    "\n",
    "print(\"simple interest is {}\".format(simple_interest))\n"
   ]
  },
  {
   "cell_type": "code",
   "execution_count": 15,
   "id": "ff2eb59f-6da1-4ab1-8e8d-4567a9947307",
   "metadata": {},
   "outputs": [],
   "source": [
    "# 2.Wap take five input and find average.\n"
   ]
  },
  {
   "cell_type": "code",
   "execution_count": 5,
   "id": "c6845fed-9551-4843-95c5-60158d3cb6e7",
   "metadata": {},
   "outputs": [
    {
     "name": "stdout",
     "output_type": "stream",
     "text": [
      "[9, 8, 5, 4, 1]\n"
     ]
    }
   ],
   "source": [
    "import random\n",
    "n = [random.randint(1,10) for _ in range(5)]\n",
    "print(n)\n",
    "n1, n2, n3, n4, n5 = n\n",
    "average = (n1 + n2 + n3 + n4 + n5) / len(n)\n",
    "\n"
   ]
  },
  {
   "cell_type": "code",
   "execution_count": 6,
   "id": "d2c40ace-1fe4-4591-885f-2b222136e0ee",
   "metadata": {},
   "outputs": [
    {
     "data": {
      "text/plain": [
       "5.4"
      ]
     },
     "execution_count": 6,
     "metadata": {},
     "output_type": "execute_result"
    }
   ],
   "source": [
    "average"
   ]
  },
  {
   "cell_type": "code",
   "execution_count": 7,
   "id": "d4dcefc9-f4aa-4553-9948-6b5cc5aad773",
   "metadata": {},
   "outputs": [],
   "source": [
    "# Write a Java code to check if a number is positive or negative.\n"
   ]
  },
  {
   "cell_type": "code",
   "execution_count": 9,
   "id": "36ab2df4-7135-4949-a443-12faf97033a6",
   "metadata": {},
   "outputs": [
    {
     "name": "stdout",
     "output_type": "stream",
     "text": [
      "2 is positive\n"
     ]
    }
   ],
   "source": [
    "n = 2\n",
    "if n == 0 or n > 1:\n",
    "    print(\"{} is positive\".format(n))\n",
    "else: \n",
    "    print(\"{} is negative\".format(n))"
   ]
  },
  {
   "cell_type": "code",
   "execution_count": 10,
   "id": "df01824b-fe48-4e0c-9f4d-f104e9eacdf7",
   "metadata": {},
   "outputs": [],
   "source": [
    "# Write a Java code to check if a number is even or odd.\n"
   ]
  },
  {
   "cell_type": "code",
   "execution_count": 11,
   "id": "62a75889-b71a-4f17-9a91-ebd1b9a5c609",
   "metadata": {},
   "outputs": [
    {
     "name": "stdout",
     "output_type": "stream",
     "text": [
      "2 is even\n"
     ]
    }
   ],
   "source": [
    "n = 2\n",
    "if n % 2 == 0:\n",
    "    print(f\"{n} is even\")\n",
    "else:\n",
    "    print(f\"{n} is odd\")"
   ]
  },
  {
   "cell_type": "code",
   "execution_count": 12,
   "id": "cc40cb24-ea0c-4c15-8d40-3417e13d762c",
   "metadata": {},
   "outputs": [],
   "source": [
    "# Write a Java code to check if a year is a leap year.\n"
   ]
  },
  {
   "cell_type": "code",
   "execution_count": 21,
   "id": "051d3c03-8ad4-487e-a57c-1cd061074b39",
   "metadata": {},
   "outputs": [],
   "source": [
    "l = lambda y : y % 4 == 0 and y % 100 != 0 or y % 400 == 0 "
   ]
  },
  {
   "cell_type": "code",
   "execution_count": 24,
   "id": "d4789756-aa75-47ad-98e5-7d35aa1ef071",
   "metadata": {},
   "outputs": [
    {
     "data": {
      "text/plain": [
       "False"
      ]
     },
     "execution_count": 24,
     "metadata": {},
     "output_type": "execute_result"
    }
   ],
   "source": [
    "l(1900)"
   ]
  },
  {
   "cell_type": "code",
   "execution_count": 27,
   "id": "7acb7694-5817-491e-9f33-6513c4d774a5",
   "metadata": {},
   "outputs": [],
   "source": [
    " # Write a Java code to find the largest of three numbers.\n"
   ]
  },
  {
   "cell_type": "code",
   "execution_count": 25,
   "id": "a3177a67-5f8a-4d4f-a95e-7d536330a215",
   "metadata": {},
   "outputs": [],
   "source": [
    "n = [random.randint(1,80) for _ in range(100) ]"
   ]
  },
  {
   "cell_type": "code",
   "execution_count": 26,
   "id": "8681c498-d67a-4acc-81ab-61ba132feaf7",
   "metadata": {},
   "outputs": [
    {
     "data": {
      "text/plain": [
       "[4,\n",
       " 75,\n",
       " 52,\n",
       " 44,\n",
       " 33,\n",
       " 75,\n",
       " 32,\n",
       " 21,\n",
       " 53,\n",
       " 15,\n",
       " 2,\n",
       " 49,\n",
       " 13,\n",
       " 25,\n",
       " 19,\n",
       " 21,\n",
       " 49,\n",
       " 39,\n",
       " 74,\n",
       " 25,\n",
       " 24,\n",
       " 63,\n",
       " 24,\n",
       " 2,\n",
       " 36,\n",
       " 63,\n",
       " 53,\n",
       " 67,\n",
       " 17,\n",
       " 20,\n",
       " 76,\n",
       " 1,\n",
       " 44,\n",
       " 9,\n",
       " 62,\n",
       " 42,\n",
       " 19,\n",
       " 10,\n",
       " 64,\n",
       " 9,\n",
       " 55,\n",
       " 18,\n",
       " 20,\n",
       " 79,\n",
       " 79,\n",
       " 68,\n",
       " 72,\n",
       " 35,\n",
       " 25,\n",
       " 61,\n",
       " 50,\n",
       " 78,\n",
       " 21,\n",
       " 40,\n",
       " 14,\n",
       " 73,\n",
       " 36,\n",
       " 20,\n",
       " 2,\n",
       " 7,\n",
       " 45,\n",
       " 56,\n",
       " 50,\n",
       " 54,\n",
       " 30,\n",
       " 17,\n",
       " 2,\n",
       " 17,\n",
       " 47,\n",
       " 70,\n",
       " 37,\n",
       " 31,\n",
       " 6,\n",
       " 50,\n",
       " 42,\n",
       " 51,\n",
       " 72,\n",
       " 57,\n",
       " 48,\n",
       " 8,\n",
       " 31,\n",
       " 20,\n",
       " 1,\n",
       " 18,\n",
       " 41,\n",
       " 41,\n",
       " 25,\n",
       " 71,\n",
       " 42,\n",
       " 80,\n",
       " 65,\n",
       " 46,\n",
       " 48,\n",
       " 63,\n",
       " 15,\n",
       " 21,\n",
       " 57,\n",
       " 71,\n",
       " 27,\n",
       " 43]"
      ]
     },
     "execution_count": 26,
     "metadata": {},
     "output_type": "execute_result"
    }
   ],
   "source": [
    "n"
   ]
  },
  {
   "cell_type": "code",
   "execution_count": 28,
   "id": "41539948-6b56-47d1-9cff-85edfc39f905",
   "metadata": {},
   "outputs": [],
   "source": [
    "import pandas as pd "
   ]
  },
  {
   "cell_type": "code",
   "execution_count": 29,
   "id": "2f6f407e-4f1c-4568-be42-b68ab3238d8c",
   "metadata": {},
   "outputs": [],
   "source": [
    "series = pd.Series(n)"
   ]
  },
  {
   "cell_type": "code",
   "execution_count": 30,
   "id": "2e7ec1d9-6020-4d4b-a542-817d843c1f1d",
   "metadata": {},
   "outputs": [
    {
     "data": {
      "text/plain": [
       "0      4\n",
       "1     75\n",
       "2     52\n",
       "3     44\n",
       "4     33\n",
       "      ..\n",
       "95    21\n",
       "96    57\n",
       "97    71\n",
       "98    27\n",
       "99    43\n",
       "Length: 100, dtype: int64"
      ]
     },
     "execution_count": 30,
     "metadata": {},
     "output_type": "execute_result"
    }
   ],
   "source": [
    "series"
   ]
  },
  {
   "cell_type": "code",
   "execution_count": null,
   "id": "8f65bb6a-2fc7-427d-8df6-157c36a50725",
   "metadata": {},
   "outputs": [],
   "source": []
  },
  {
   "cell_type": "code",
   "execution_count": 31,
   "id": "33ad2209-9255-4796-a55b-aebfbd1ad912",
   "metadata": {},
   "outputs": [],
   "source": [
    "df = pd.DataFrame(series)"
   ]
  },
  {
   "cell_type": "code",
   "execution_count": 33,
   "id": "2bb5e55d-968a-4409-b85e-68c8ebddc8e2",
   "metadata": {},
   "outputs": [
    {
     "data": {
      "text/html": [
       "<div>\n",
       "<style scoped>\n",
       "    .dataframe tbody tr th:only-of-type {\n",
       "        vertical-align: middle;\n",
       "    }\n",
       "\n",
       "    .dataframe tbody tr th {\n",
       "        vertical-align: top;\n",
       "    }\n",
       "\n",
       "    .dataframe thead th {\n",
       "        text-align: right;\n",
       "    }\n",
       "</style>\n",
       "<table border=\"1\" class=\"dataframe\">\n",
       "  <thead>\n",
       "    <tr style=\"text-align: right;\">\n",
       "      <th></th>\n",
       "      <th>0</th>\n",
       "    </tr>\n",
       "  </thead>\n",
       "  <tbody>\n",
       "    <tr>\n",
       "      <th>0</th>\n",
       "      <td>4</td>\n",
       "    </tr>\n",
       "    <tr>\n",
       "      <th>1</th>\n",
       "      <td>75</td>\n",
       "    </tr>\n",
       "    <tr>\n",
       "      <th>2</th>\n",
       "      <td>52</td>\n",
       "    </tr>\n",
       "    <tr>\n",
       "      <th>3</th>\n",
       "      <td>44</td>\n",
       "    </tr>\n",
       "    <tr>\n",
       "      <th>4</th>\n",
       "      <td>33</td>\n",
       "    </tr>\n",
       "    <tr>\n",
       "      <th>...</th>\n",
       "      <td>...</td>\n",
       "    </tr>\n",
       "    <tr>\n",
       "      <th>95</th>\n",
       "      <td>21</td>\n",
       "    </tr>\n",
       "    <tr>\n",
       "      <th>96</th>\n",
       "      <td>57</td>\n",
       "    </tr>\n",
       "    <tr>\n",
       "      <th>97</th>\n",
       "      <td>71</td>\n",
       "    </tr>\n",
       "    <tr>\n",
       "      <th>98</th>\n",
       "      <td>27</td>\n",
       "    </tr>\n",
       "    <tr>\n",
       "      <th>99</th>\n",
       "      <td>43</td>\n",
       "    </tr>\n",
       "  </tbody>\n",
       "</table>\n",
       "<p>100 rows × 1 columns</p>\n",
       "</div>"
      ],
      "text/plain": [
       "     0\n",
       "0    4\n",
       "1   75\n",
       "2   52\n",
       "3   44\n",
       "4   33\n",
       "..  ..\n",
       "95  21\n",
       "96  57\n",
       "97  71\n",
       "98  27\n",
       "99  43\n",
       "\n",
       "[100 rows x 1 columns]"
      ]
     },
     "execution_count": 33,
     "metadata": {},
     "output_type": "execute_result"
    }
   ],
   "source": [
    "df"
   ]
  },
  {
   "cell_type": "code",
   "execution_count": 34,
   "id": "a5318c2d-83d8-4c5c-8e6c-d54c98c5acc7",
   "metadata": {},
   "outputs": [],
   "source": [
    "largest_num = df.nlargest(3, columns=[0])"
   ]
  },
  {
   "cell_type": "code",
   "execution_count": 35,
   "id": "79cf8fa6-ea73-4832-b30f-e5f11224e8fe",
   "metadata": {},
   "outputs": [
    {
     "data": {
      "text/html": [
       "<div>\n",
       "<style scoped>\n",
       "    .dataframe tbody tr th:only-of-type {\n",
       "        vertical-align: middle;\n",
       "    }\n",
       "\n",
       "    .dataframe tbody tr th {\n",
       "        vertical-align: top;\n",
       "    }\n",
       "\n",
       "    .dataframe thead th {\n",
       "        text-align: right;\n",
       "    }\n",
       "</style>\n",
       "<table border=\"1\" class=\"dataframe\">\n",
       "  <thead>\n",
       "    <tr style=\"text-align: right;\">\n",
       "      <th></th>\n",
       "      <th>0</th>\n",
       "    </tr>\n",
       "  </thead>\n",
       "  <tbody>\n",
       "    <tr>\n",
       "      <th>89</th>\n",
       "      <td>80</td>\n",
       "    </tr>\n",
       "    <tr>\n",
       "      <th>43</th>\n",
       "      <td>79</td>\n",
       "    </tr>\n",
       "    <tr>\n",
       "      <th>44</th>\n",
       "      <td>79</td>\n",
       "    </tr>\n",
       "  </tbody>\n",
       "</table>\n",
       "</div>"
      ],
      "text/plain": [
       "     0\n",
       "89  80\n",
       "43  79\n",
       "44  79"
      ]
     },
     "execution_count": 35,
     "metadata": {},
     "output_type": "execute_result"
    }
   ],
   "source": [
    "largest_num"
   ]
  },
  {
   "cell_type": "code",
   "execution_count": 36,
   "id": "cb4aa732-e37d-4d6a-b166-a5f075c07951",
   "metadata": {},
   "outputs": [],
   "source": [
    "l = max(n)"
   ]
  },
  {
   "cell_type": "code",
   "execution_count": 37,
   "id": "8fb41aff-3a32-46de-a29e-56b3ed0472e8",
   "metadata": {},
   "outputs": [
    {
     "data": {
      "text/plain": [
       "80"
      ]
     },
     "execution_count": 37,
     "metadata": {},
     "output_type": "execute_result"
    }
   ],
   "source": [
    "l"
   ]
  },
  {
   "cell_type": "code",
   "execution_count": 38,
   "id": "f8e43dda-0ec9-423f-9e11-a76c3dadd790",
   "metadata": {},
   "outputs": [],
   "source": [
    "# - Write a Java code to verify if a person is eligible to vote or not based on their age.\n"
   ]
  },
  {
   "cell_type": "code",
   "execution_count": 39,
   "id": "d389b388-6ad2-4412-80ed-2d2ce5eab315",
   "metadata": {},
   "outputs": [
    {
     "name": "stdout",
     "output_type": "stream",
     "text": [
      "you are eligible for voting\n"
     ]
    }
   ],
   "source": [
    "age = 18\n",
    "if age > 17:\n",
    "    print(\"you are eligible for voting\")\n",
    "else:\n",
    "    print(\"you are not eligible for voting\")"
   ]
  },
  {
   "cell_type": "code",
   "execution_count": 40,
   "id": "5a686436-a744-4bb3-b62a-4a39e982c31e",
   "metadata": {},
   "outputs": [],
   "source": [
    "# - Write a Java code to calculate the discount percentage based on the total purchase amount.\n"
   ]
  },
  {
   "cell_type": "code",
   "execution_count": 41,
   "id": "b17c8227-650b-4e6b-af6c-30f089b24cb3",
   "metadata": {},
   "outputs": [],
   "source": [
    "mark_price = 120\n",
    "selling_price = 100\n",
    "\n",
    "discount = mark_price - selling_price\n",
    "\n",
    "per_dic = (discount/mark_price)*100\n"
   ]
  },
  {
   "cell_type": "code",
   "execution_count": 42,
   "id": "57faa076-a7f7-4fd7-bd8a-0f62ba5e8648",
   "metadata": {},
   "outputs": [
    {
     "data": {
      "text/plain": [
       "16.666666666666664"
      ]
     },
     "execution_count": 42,
     "metadata": {},
     "output_type": "execute_result"
    }
   ],
   "source": [
    "per_dic"
   ]
  },
  {
   "cell_type": "code",
   "execution_count": 43,
   "id": "12fb6b8b-ffb6-401a-a20e-6e294532667a",
   "metadata": {},
   "outputs": [
    {
     "data": {
      "text/plain": [
       "' 1 to 100 units – Rs. 10/unit\\n100 to 200 units – Rs. 15/unit\\n200 to 300 units – Rs. 20/unit\\nabove 300 units – Rs. 25/unit\\n'"
      ]
     },
     "execution_count": 43,
     "metadata": {},
     "output_type": "execute_result"
    }
   ],
   "source": [
    "# Write a Java code to calculate the electricity bill based on the units consumed.\n",
    "''' 1 to 100 units – Rs. 10/unit\n",
    "100 to 200 units – Rs. 15/unit\n",
    "200 to 300 units – Rs. 20/unit\n",
    "above 300 units – Rs. 25/unit\n",
    "'''"
   ]
  },
  {
   "cell_type": "code",
   "execution_count": 44,
   "id": "40ae0720-cacb-4abd-b36d-cfa7d9027a21",
   "metadata": {},
   "outputs": [],
   "source": [
    "# myebill = int(input(enter you electcity bill amount here: ))\n",
    "def mybill(unit):\n",
    "    if unit <= 100:\n",
    "        return unit * 10\n",
    "    elif unit > 100 and unit <= 200:\n",
    "        return (100 * 10)+ (100 - unit)* 15\n",
    "    elif unit > 200 and unit <=300:\n",
    "        return (100 * 10) + (100 * 15)+ (unit - 200) *20\n",
    "    else:\n",
    "        return (100 * 10) + (100 * 15)+ (100 * 20) + (unit - 100)* 25\n",
    "\n",
    "        \n",
    "    "
   ]
  },
  {
   "cell_type": "code",
   "execution_count": 48,
   "id": "25f554dc-7ab2-4cda-b7f9-cbbe0d476df5",
   "metadata": {},
   "outputs": [
    {
     "name": "stdout",
     "output_type": "stream",
     "text": [
      "3500\n"
     ]
    }
   ],
   "source": [
    "print(mybill(250))"
   ]
  },
  {
   "cell_type": "code",
   "execution_count": 49,
   "id": "6032aff4-1011-4c2c-bac5-4d8aace40c6e",
   "metadata": {},
   "outputs": [],
   "source": [
    "# Q2.Write a Java program to find the sum of all even numbers between 1 and 100 using a while loop."
   ]
  },
  {
   "cell_type": "code",
   "execution_count": 54,
   "id": "618af076-5fb1-422a-b50b-39f7a85d71aa",
   "metadata": {},
   "outputs": [],
   "source": [
    "count = 0\n",
    "sum = 0\n",
    "while (count <= 100):\n",
    "    if count % 2 == 0 :\n",
    "        sum += count\n",
    "    count +=1\n",
    "\n",
    "    "
   ]
  },
  {
   "cell_type": "code",
   "execution_count": 55,
   "id": "52db217a-ef6c-4659-9166-2a66ce45e882",
   "metadata": {},
   "outputs": [
    {
     "data": {
      "text/plain": [
       "2550"
      ]
     },
     "execution_count": 55,
     "metadata": {},
     "output_type": "execute_result"
    }
   ],
   "source": [
    "sum"
   ]
  },
  {
   "cell_type": "code",
   "execution_count": 57,
   "id": "263f24e8-6871-4c28-9a71-272da23b9994",
   "metadata": {},
   "outputs": [],
   "source": [
    "# Q4.Develop a Java program to find the factorial of a number using a lambda."
   ]
  },
  {
   "cell_type": "code",
   "execution_count": 67,
   "id": "345ffd1e-5e9e-434f-bdbc-60b9895dde96",
   "metadata": {},
   "outputs": [],
   "source": [
    "fact = lambda n : n == 0 and 1 or n * fact(n-1)"
   ]
  },
  {
   "cell_type": "code",
   "execution_count": 69,
   "id": "aa2362ce-a60d-42d3-b1a7-d64faf904837",
   "metadata": {},
   "outputs": [
    {
     "data": {
      "text/plain": [
       "120"
      ]
     },
     "execution_count": 69,
     "metadata": {},
     "output_type": "execute_result"
    }
   ],
   "source": [
    "fact(5)"
   ]
  },
  {
   "cell_type": "code",
   "execution_count": 70,
   "id": "5727fd3f-a957-4819-995c-2ea6ce3972f1",
   "metadata": {},
   "outputs": [],
   "source": [
    "# 5.Implement a Java program to check if a given number is an Armstrong number or not using while loop.\n"
   ]
  },
  {
   "cell_type": "code",
   "execution_count": 4,
   "id": "62bf5e65-1560-4e5a-8607-5f5ea84f2865",
   "metadata": {},
   "outputs": [
    {
     "name": "stdout",
     "output_type": "stream",
     "text": [
      "3\n",
      "30\n",
      "15\n",
      "5\n",
      "80\n",
      "1\n",
      "1\n",
      "90\n",
      "0\n",
      "not armstrong\n"
     ]
    }
   ],
   "source": [
    "n =153\n",
    "res = 0\n",
    "temp = n\n",
    "while(temp != 0):\n",
    "    rem = temp % 10\n",
    "    print(rem)\n",
    "    res += rem * 10\n",
    "    print(res)\n",
    "    temp //= 10\n",
    "    print(temp)\n",
    "    print(\"######\")\n",
    "print(\"armstrong\") if res == n else print(\"not armstrong\")"
   ]
  },
  {
   "cell_type": "code",
   "execution_count": null,
   "id": "532d722d-2136-400a-91bd-ac4c75713766",
   "metadata": {},
   "outputs": [],
   "source": []
  }
 ],
 "metadata": {
  "kernelspec": {
   "display_name": "Python 3 (ipykernel)",
   "language": "python",
   "name": "python3"
  },
  "language_info": {
   "codemirror_mode": {
    "name": "ipython",
    "version": 3
   },
   "file_extension": ".py",
   "mimetype": "text/x-python",
   "name": "python",
   "nbconvert_exporter": "python",
   "pygments_lexer": "ipython3",
   "version": "3.10.5"
  }
 },
 "nbformat": 4,
 "nbformat_minor": 5
}
