{
 "cells": [
  {
   "cell_type": "code",
   "execution_count": null,
   "id": "833b7fb6-b5f7-43e6-9a08-4f392867f7bf",
   "metadata": {},
   "outputs": [],
   "source": [
    "# even or not\n"
   ]
  },
  {
   "cell_type": "code",
   "execution_count": null,
   "id": "73bbb3a4-b9dd-4f20-a62a-e497b0206019",
   "metadata": {},
   "outputs": [],
   "source": [
    "def check_even_odd(num):\n",
    "    if num%2 == 0:\n",
    "        print(f\"{num} is even\")\n",
    "    else:\n",
    "        print(f\"{num} is odd\")"
   ]
  },
  {
   "cell_type": "code",
   "execution_count": null,
   "id": "6cdc9931-fce8-4606-9345-d4afc714881c",
   "metadata": {},
   "outputs": [],
   "source": [
    "num = int(input(\"enter the integer number: \"))\n",
    "\n",
    "check_even_odd(num)\n",
    "    "
   ]
  },
  {
   "cell_type": "code",
   "execution_count": null,
   "id": "d323088e-72ce-4696-b8d9-000f54958b96",
   "metadata": {},
   "outputs": [],
   "source": [
    "# types of arguments"
   ]
  },
  {
   "cell_type": "code",
   "execution_count": null,
   "id": "316baeab-9c0b-4cd4-95c6-ad07a4d8769a",
   "metadata": {},
   "outputs": [],
   "source": [
    "def display_pos(name, age):\n",
    "    print(f\"my name is {name} and age is {age}\")\n",
    "\n",
    "display_pos(\"ashish\",28)\n",
    "    "
   ]
  },
  {
   "cell_type": "code",
   "execution_count": null,
   "id": "862ba933-ab9d-4cce-863a-0ef4430adca1",
   "metadata": {},
   "outputs": [],
   "source": [
    "#default arguments\n",
    "def display_default(name, age=28):\n",
    "    print(f\"my name is{name} and age is {age}\")\n"
   ]
  },
  {
   "cell_type": "code",
   "execution_count": null,
   "id": "efa8e3d2-33e0-40fd-b689-5e66488e1e28",
   "metadata": {},
   "outputs": [],
   "source": [
    "display_default(\"rahul\");\n",
    "display_default(\"rahul\",78);\n"
   ]
  },
  {
   "cell_type": "code",
   "execution_count": null,
   "id": "5d0f8cea-d555-4e66-9dc0-e05749d4faa5",
   "metadata": {},
   "outputs": [],
   "source": [
    "#keyword arguments\n",
    "\n",
    "def display_key(a,b,c):\n",
    "    print(f\"a={a},b={b},c={c}\")\n",
    "\n",
    "display_key(b=2,c=1,a=22)"
   ]
  },
  {
   "cell_type": "code",
   "execution_count": null,
   "id": "23d5bfc6-b4c4-49a2-b9ba-1362b37e2911",
   "metadata": {},
   "outputs": [],
   "source": [
    "# variable length arguments\n",
    "\n",
    "def display_varlength(*args):\n",
    "    print(type(args))\n",
    "    for i in args:\n",
    "        print(i)\n",
    "\n",
    "display_varlength(22,34,55,66,76,54)"
   ]
  },
  {
   "cell_type": "code",
   "execution_count": null,
   "id": "93d0993a-428b-4267-9a03-18d8fed46fcc",
   "metadata": {},
   "outputs": [],
   "source": [
    "#key length arguments\n",
    "\n",
    "def display_keylength(**args):\n",
    "    print(type(args))\n",
    "    for i,j in args.items():\n",
    "        print(f\"key is {i} and value is {j}\")\n",
    "\n",
    "display_keylength(a=1,b=2,c=3)"
   ]
  },
  {
   "cell_type": "code",
   "execution_count": null,
   "id": "067211ae-6516-4bf1-ae16-c6aadd824598",
   "metadata": {},
   "outputs": [],
   "source": [
    "#polymorphism method overriding\n",
    "\n",
    "class A:\n",
    "    def __init__(self):\n",
    "        self.name = \"ashish\"\n",
    "    def show(self):\n",
    "        print(self.name)\n",
    "\n",
    "class B:\n",
    "    def __init__(self):\n",
    "        self.name = \"class B\"\n",
    "    def show(self):\n",
    "        print(self.name)\n",
    "        \n",
    "   \n",
    "a = A()\n",
    "b = B()\n",
    "a.show()\n",
    "b.show()"
   ]
  },
  {
   "cell_type": "markdown",
   "id": "e2787829-e4f4-4591-a93f-ffd86bce1fe2",
   "metadata": {},
   "source": [
    "* create a fruits list\n",
    "* add new fruit in list\n",
    "* sort the list\n",
    "* delete last fruit"
   ]
  },
  {
   "cell_type": "code",
   "execution_count": null,
   "id": "ed586a45-3b43-43a2-ad39-f06170ffc7a3",
   "metadata": {},
   "outputs": [],
   "source": [
    "fruits = ['apple','banana','orange','papaya']\n",
    "fruits.append(\"kiwi\")\n",
    "\n"
   ]
  },
  {
   "cell_type": "code",
   "execution_count": null,
   "id": "9d53ecbd-7d39-4c4b-b517-f0eb0a525653",
   "metadata": {},
   "outputs": [],
   "source": [
    "fruits\n"
   ]
  },
  {
   "cell_type": "code",
   "execution_count": null,
   "id": "172fe615-53df-418d-94ee-d11b92d6eb82",
   "metadata": {},
   "outputs": [],
   "source": [
    "fruits.sort()"
   ]
  },
  {
   "cell_type": "code",
   "execution_count": null,
   "id": "c489f33f-5733-4cb2-a7ea-50f135cdeb64",
   "metadata": {},
   "outputs": [],
   "source": [
    "fruits\n"
   ]
  },
  {
   "cell_type": "code",
   "execution_count": null,
   "id": "7e97bc57-4124-4511-a76c-76d5471f0ea3",
   "metadata": {},
   "outputs": [],
   "source": [
    "fruits.pop()"
   ]
  },
  {
   "cell_type": "code",
   "execution_count": null,
   "id": "b7ea65a3-de57-488a-bf8e-ee66c857bd1f",
   "metadata": {},
   "outputs": [],
   "source": [
    "fruits"
   ]
  },
  {
   "cell_type": "code",
   "execution_count": null,
   "id": "887ab230-fa83-4496-ae67-c1b4a44f9401",
   "metadata": {},
   "outputs": [],
   "source": [
    "#even or odd with exception\n",
    "\n",
    "def checkeven_odd(num):\n",
    "    try:\n",
    "        if num % 2 == 0:\n",
    "            return \"even\"\n",
    "        else:\n",
    "            return \"odd\"\n",
    "    except ValueError:\n",
    "        return \"invalid value\"\n",
    "\n",
    "ip_num = int(input(\"enter the number:\"))\n",
    "\n",
    "result = checkeven_odd(ip_num)\n",
    "print(f\"result is  {result}\")"
   ]
  },
  {
   "cell_type": "code",
   "execution_count": null,
   "id": "3de32604-8bcb-4cf1-ba2a-6eca80ea91c2",
   "metadata": {},
   "outputs": [],
   "source": [
    "#constructor\n",
    "\n",
    "class A:\n",
    "    def __init__(self,name,age):\n",
    "        self.name = name\n",
    "        self.age = age\n",
    "    def display(self):\n",
    "        print(f\"{self.name} and age is {self.age}\")\n",
    "\n",
    "a = A(\"ashish\",34)\n",
    "a.display()\n"
   ]
  },
  {
   "cell_type": "code",
   "execution_count": null,
   "id": "8c857f8d-91f7-4210-baf0-fb8f98e6cf51",
   "metadata": {},
   "outputs": [],
   "source": [
    "# tuple\n",
    "\n",
    "a=(1,)\n",
    "b=(1,2,3,4,5)\n",
    "\n"
   ]
  },
  {
   "cell_type": "code",
   "execution_count": null,
   "id": "85eeda6b-5c34-4638-87c2-64bcfd16b634",
   "metadata": {},
   "outputs": [],
   "source": [
    "type(a)\n"
   ]
  },
  {
   "cell_type": "code",
   "execution_count": null,
   "id": "c991d4d9-32dd-46c5-9f96-878a4f832774",
   "metadata": {},
   "outputs": [],
   "source": [
    "b[:2:-1]"
   ]
  },
  {
   "cell_type": "code",
   "execution_count": null,
   "id": "61d3914a-a27c-4759-8bcb-3489da3569d9",
   "metadata": {},
   "outputs": [],
   "source": [
    "fruits_set = {'banana','appple','orange'}"
   ]
  },
  {
   "cell_type": "code",
   "execution_count": null,
   "id": "313591ce-364d-407d-8df3-fecdf16757ed",
   "metadata": {},
   "outputs": [],
   "source": [
    "fruits_set"
   ]
  },
  {
   "cell_type": "code",
   "execution_count": null,
   "id": "30453f1d-1ab7-48a7-bbcd-fa25d114a47a",
   "metadata": {},
   "outputs": [],
   "source": [
    "fruits_set"
   ]
  },
  {
   "cell_type": "code",
   "execution_count": null,
   "id": "9f216e86-f9e1-44f1-a00f-0a2f91c7b585",
   "metadata": {},
   "outputs": [],
   "source": [
    "fruits_set\n"
   ]
  },
  {
   "cell_type": "code",
   "execution_count": null,
   "id": "11624cd1-90a7-4afb-8d11-083eebee455b",
   "metadata": {},
   "outputs": [],
   "source": [
    "set1 = {1,2,3,4,5,6}"
   ]
  },
  {
   "cell_type": "code",
   "execution_count": null,
   "id": "2c9565be-1b1d-41e2-bdfe-937247324630",
   "metadata": {},
   "outputs": [],
   "source": [
    "set1"
   ]
  },
  {
   "cell_type": "code",
   "execution_count": null,
   "id": "792102d8-f9e1-4746-bdae-46b52b440a06",
   "metadata": {},
   "outputs": [],
   "source": [
    "set1"
   ]
  },
  {
   "cell_type": "code",
   "execution_count": null,
   "id": "fd45a60b-605f-44d5-9e39-19d7f439248e",
   "metadata": {},
   "outputs": [],
   "source": [
    "set1"
   ]
  },
  {
   "cell_type": "code",
   "execution_count": null,
   "id": "4efd4ab8-69a1-4aff-a5f7-8d465ca9fea8",
   "metadata": {},
   "outputs": [],
   "source": [
    "set1[2] = 4"
   ]
  },
  {
   "cell_type": "code",
   "execution_count": null,
   "id": "04a2138b-f5e9-43fd-ae96-4137a26400eb",
   "metadata": {},
   "outputs": [],
   "source": [
    "set2 ={1,1,2,3,4,5}"
   ]
  },
  {
   "cell_type": "code",
   "execution_count": null,
   "id": "ae52a10b-3b42-4349-b3d6-db34ed914106",
   "metadata": {},
   "outputs": [],
   "source": [
    "set2"
   ]
  },
  {
   "cell_type": "code",
   "execution_count": null,
   "id": "e82f5c2a-c23b-4a83-a24c-ac837daaed00",
   "metadata": {},
   "outputs": [],
   "source": [
    "from threading import Thread"
   ]
  },
  {
   "cell_type": "code",
   "execution_count": null,
   "id": "b0d8f6c6-9d34-4555-843b-f6c24cb22459",
   "metadata": {},
   "outputs": [],
   "source": [
    "import time\n",
    "\n",
    "def mythread():\n",
    "    for i in range(1,10):\n",
    "              \n",
    "        print(i)\n",
    "\n",
    "t = Thread(target = mythread())\n",
    "print(\"main thread\")"
   ]
  },
  {
   "cell_type": "code",
   "execution_count": null,
   "id": "6742cdb7-dd43-4e6f-9b93-536a38a6a471",
   "metadata": {},
   "outputs": [],
   "source": [
    "#regular expression url\n",
    "\n",
    "import re"
   ]
  },
  {
   "cell_type": "code",
   "execution_count": null,
   "id": "e4341ec1-f33d-48db-bbc0-b7374d6d026b",
   "metadata": {},
   "outputs": [],
   "source": [
    "def checkurl(url):\n",
    "    pattern = re.compile(r'^(https?://)?'\n",
    "                         r'([a-zA-Z0-9-]+\\.)*[a-zA-Z0-9-]+\\.[a-zA-Z]{2,}$')\n",
    "    if re.match(pattern, url):\n",
    "        print(\"it's valid\")\n",
    "    else:\n",
    "        print(\"it's not valid\")\n",
    "        \n",
    "    "
   ]
  },
  {
   "cell_type": "code",
   "execution_count": null,
   "id": "3154333b-59b2-4a65-bfc8-10ce498eae36",
   "metadata": {},
   "outputs": [],
   "source": [
    "url = \"https://www.google.com\"\n",
    "checkurl(url)"
   ]
  },
  {
   "cell_type": "code",
   "execution_count": null,
   "id": "b46ded97-ed5b-4ab8-9512-d22eb7f8dea2",
   "metadata": {},
   "outputs": [],
   "source": [
    "url =\"google.com\"\n",
    "checkurl(url)"
   ]
  },
  {
   "cell_type": "code",
   "execution_count": null,
   "id": "c974f63a-1dd5-4dae-a1fb-711164d77447",
   "metadata": {},
   "outputs": [],
   "source": [
    "#lambda function\n",
    "\n",
    "a= lambda a,b:a*b\n"
   ]
  },
  {
   "cell_type": "code",
   "execution_count": null,
   "id": "b1349e3c-72a8-487a-bfe9-85f361ce522c",
   "metadata": {},
   "outputs": [],
   "source": [
    "a(2,4)"
   ]
  },
  {
   "cell_type": "code",
   "execution_count": null,
   "id": "30b9b924-4ce8-4561-a1bc-9f0b44f1b761",
   "metadata": {},
   "outputs": [],
   "source": [
    "#decorator\n",
    "\n",
    "def change_wish(func):\n",
    "    def inner(name):\n",
    "        if name == \"rahul\":\n",
    "            print(f\"{name } good afternoon\")\n",
    "        else:\n",
    "            return func(name)\n",
    "    return inner\n",
    "\n",
    "@change_wish\n",
    "def wish(name):\n",
    "    print(f\"hii, {name} good morning yaara\")\n",
    "\n",
    "\n",
    "wish(\"rahul\")"
   ]
  },
  {
   "cell_type": "code",
   "execution_count": null,
   "id": "7e961b9d-e772-4d3d-9cd1-60717ccc70c2",
   "metadata": {},
   "outputs": [],
   "source": [
    "w(\"rahul\")\n"
   ]
  },
  {
   "cell_type": "code",
   "execution_count": null,
   "id": "51820f37-96ac-4dd9-b480-ffda7d788786",
   "metadata": {},
   "outputs": [],
   "source": [
    "#generator\n",
    "\n",
    "def square_generator(num):\n",
    "    for i in range(num):\n",
    "        yield i**2\n",
    "\n",
    "g = square_generator(10)\n",
    "    "
   ]
  },
  {
   "cell_type": "code",
   "execution_count": null,
   "id": "8c7fbd37-54a0-4d56-b168-b806c1619c3b",
   "metadata": {},
   "outputs": [],
   "source": [
    "g.__next__()"
   ]
  },
  {
   "cell_type": "code",
   "execution_count": null,
   "id": "3f6e0a5f-c2c6-490b-a0ff-0324ce3bdead",
   "metadata": {},
   "outputs": [],
   "source": [
    "g.__next__()"
   ]
  },
  {
   "cell_type": "code",
   "execution_count": null,
   "id": "e002e61c-7251-4d41-a54a-7624276d490a",
   "metadata": {},
   "outputs": [],
   "source": [
    "next(g)"
   ]
  },
  {
   "cell_type": "code",
   "execution_count": null,
   "id": "b532e869-d52b-47b0-8b9b-82a25ce70fa7",
   "metadata": {},
   "outputs": [],
   "source": [
    "for sqr in g:\n",
    "    print(sqr)"
   ]
  },
  {
   "cell_type": "code",
   "execution_count": null,
   "id": "6c24cfc6-ca3e-4695-9f8d-4e100ec23409",
   "metadata": {},
   "outputs": [],
   "source": [
    "#palindrome string\n",
    "\n",
    "str = \"mom1\"\n",
    "\n",
    "\n",
    "if str == str[::-1]:\n",
    "    print(\"it's palindrome\")\n",
    "else: \n",
    "    print(\"it's not palindrome\")"
   ]
  },
  {
   "cell_type": "code",
   "execution_count": null,
   "id": "d7235239-1d50-49db-8815-86b009eb0ff8",
   "metadata": {},
   "outputs": [],
   "source": [
    "a=\"rushi\""
   ]
  },
  {
   "cell_type": "code",
   "execution_count": null,
   "id": "f7ecfb6a-ea0f-4b34-9840-f60f0ba53f43",
   "metadata": {},
   "outputs": [],
   "source": [
    "a"
   ]
  },
  {
   "cell_type": "code",
   "execution_count": null,
   "id": "bfdcb27a-733f-4c5c-9056-9e85c308e6d4",
   "metadata": {},
   "outputs": [],
   "source": [
    "#calculate the marks\n",
    "\n",
    "class Student:\n",
    "    total_mark = 500\n",
    "    def __init__(self,name,marks):\n",
    "        self.name=name\n",
    "        self.marks = marks\n",
    "    def calculate(self):\n",
    "        return (sum(self.marks)/self.total_mark)*100\n",
    "marks = [85,90,80,95,75]\n",
    "student = Student(\"rahul\",marks)\n"
   ]
  },
  {
   "cell_type": "code",
   "execution_count": null,
   "id": "07f57c09-651d-4440-be98-40eb8cd81d35",
   "metadata": {},
   "outputs": [],
   "source": [
    "student.calculate()"
   ]
  },
  {
   "cell_type": "code",
   "execution_count": null,
   "id": "0665dce6-8384-43bd-bfe5-21bcf4fe7f18",
   "metadata": {},
   "outputs": [],
   "source": [
    "#check date 2022-02-31\n",
    "import re\n",
    "def check_date(date1):\n",
    "    pattern = r'^\\d{4}-\\d{2}-\\d{2}'\n",
    "    if re.match(pattern,date1):\n",
    "        print(\"true\")\n",
    "    else:\n",
    "        print(\"false\")\n",
    "\n",
    "check_date(\"2022\\022-31\")\n",
    "    "
   ]
  },
  {
   "cell_type": "code",
   "execution_count": null,
   "id": "92c42cc0-f66b-46d9-b13a-3be69b2f7b9c",
   "metadata": {},
   "outputs": [],
   "source": [
    "#remove vowels\n",
    "\n",
    "\n",
    "def remove_vowels(string):\n",
    "    vowels = \"aeiouAEIOU\"\n",
    "    result =\"\"\n",
    "    for char in string:\n",
    "        if char not in vowels:\n",
    "            result +=char\n",
    "    return result\n",
    "\n",
    "ip_string = input(\"plz enter th string: \")\n",
    "final_res = remove_vowels(ip_string)\n",
    "print(final_res)"
   ]
  },
  {
   "cell_type": "code",
   "execution_count": null,
   "id": "d19525b9-4691-4591-b936-10ed90ec8d30",
   "metadata": {},
   "outputs": [],
   "source": [
    "# file count line word char\n",
    "\n",
    "def count_word_line_char(filename):\n",
    "    try:\n",
    "        line =0\n",
    "        char = 0\n",
    "        words = 0\n",
    "        with open(filename,'r') as file:\n",
    "            for lines in file:\n",
    "                line += 1\n",
    "                print(\"-----\",lines)\n",
    "                word_list = lines.split()\n",
    "                print(\"-----\",word_list)\n",
    "                words += len(word_list)\n",
    "                char += len(lines)\n",
    "        print(f\"line{line}\")\n",
    "        print(f\"word{words}\")\n",
    "        print(f\"char{char}\")\n",
    "    except FileNotFound:\n",
    "        print(\"file not found\")\n",
    "    except:\n",
    "        print(\"except\")\n",
    "\n",
    "count_word_line_char(\"temp.txt\")"
   ]
  },
  {
   "cell_type": "code",
   "execution_count": null,
   "id": "372490f1-f8eb-4c41-b439-74601a4696c2",
   "metadata": {},
   "outputs": [],
   "source": [
    "#remove comment\n",
    "def remove_comment(filename):\n",
    "    try:\n",
    "        with open(filename,'r') as file:\n",
    "            lines= file.readlines()\n",
    "            print(lines)\n",
    "        lines = [line.split(\"#\")[0].strip() for line in lines]\n",
    "        print(\"after----\",lines)\n",
    "    except:\n",
    "        pass\n",
    "remove_comment('temp.txt')"
   ]
  },
  {
   "cell_type": "code",
   "execution_count": null,
   "id": "dcf4c905-38b8-446a-aba2-54dd2e149589",
   "metadata": {},
   "outputs": [],
   "source": [
    "#threading \n",
    "\n",
    "from threading import Thread\n",
    "import time\n",
    "\n",
    "def show(num):\n",
    "    for i in range(num):\n",
    "        time.sleep(0.3)\n",
    "        print(\"------i\",i)\n",
    "        print()\n",
    "\n",
    "def show1(num):\n",
    "    for j in range(num):\n",
    "        time.sleep(0.3)\n",
    "        print(\"-----j\",j)\n",
    "\n",
    "t = time.time() \n",
    "t = Thread(target=show,args=(10,))\n",
    "t1 = Thread(target=show1,args=(10,))\n",
    "\n",
    "t.start()\n",
    "t1.start()\n",
    "t.join()\n",
    "t1.join()\n",
    "\n",
    "print(\" Total time taking by threads is :\", time.time() - t) # print the total time  \n"
   ]
  },
  {
   "cell_type": "code",
   "execution_count": null,
   "id": "1e73ad4f-c543-4ac0-8928-58978ca86d45",
   "metadata": {},
   "outputs": [],
   "source": [
    "class My_thread(Thread):\n",
    "    def run(self):\n",
    "        for i in range(10):\n",
    "            print(i)\n",
    "\n",
    "t = My_thread()\n",
    "t.start"
   ]
  },
  {
   "cell_type": "markdown",
   "id": "e1dabca3-e219-4593-aa7f-651cad59c512",
   "metadata": {},
   "source": [
    "* from here start mongodb"
   ]
  },
  {
   "cell_type": "code",
   "execution_count": null,
   "id": "07abfbe2-1bf0-43e7-8f91-c6524b0559ac",
   "metadata": {},
   "outputs": [],
   "source": [
    "pip install pymongo"
   ]
  },
  {
   "cell_type": "code",
   "execution_count": null,
   "id": "043bca20-8cc4-4e5f-af35-5af6e57cb42a",
   "metadata": {},
   "outputs": [],
   "source": [
    "from pymongo import MongoClient "
   ]
  },
  {
   "cell_type": "code",
   "execution_count": null,
   "id": "f7179d84-d0ba-465a-8725-52a77a964b2b",
   "metadata": {},
   "outputs": [],
   "source": [
    "client = MongoClient(\"mongodb://127.0.0.1/27017\")"
   ]
  },
  {
   "cell_type": "code",
   "execution_count": null,
   "id": "47e05e36-119b-4630-b330-b1a026376b78",
   "metadata": {},
   "outputs": [],
   "source": [
    "db = client.ProductDb"
   ]
  },
  {
   "cell_type": "code",
   "execution_count": null,
   "id": "514c8430-9494-4977-a6ff-b3c838a72b63",
   "metadata": {},
   "outputs": [],
   "source": [
    "c = db.products"
   ]
  },
  {
   "cell_type": "code",
   "execution_count": null,
   "id": "c0a444b2-af09-4de1-bb94-ed7ace98d33d",
   "metadata": {},
   "outputs": [],
   "source": [
    "#insert the data\n",
    "c.insert_one({\"Name\":\"book\",\"price\":56})"
   ]
  },
  {
   "cell_type": "code",
   "execution_count": null,
   "id": "86749149-fed9-4ffd-8eef-5e822e376ac7",
   "metadata": {},
   "outputs": [],
   "source": [
    "#insert many\n",
    "c.insert_many([{\"Name\":\"pen\",\"price\":5},{\"Name\":\"pencil\",\"price\":50},{\"Name\":\"eraser\",\"price\":7}])"
   ]
  },
  {
   "cell_type": "code",
   "execution_count": null,
   "id": "66088522-02a9-4023-a0e4-8f4970254f9a",
   "metadata": {},
   "outputs": [],
   "source": [
    "#read the data\n",
    "for pd in c.find():\n",
    "    print(\"name=\",pd['Name'],\"price= \",pd[\"price\"])"
   ]
  },
  {
   "cell_type": "code",
   "execution_count": null,
   "id": "220e5475-18bf-405f-b712-b71309bd588d",
   "metadata": {},
   "outputs": [],
   "source": [
    "#update the data\n",
    "c.update_one({'Name':\"pencil\"},{'$set':{\"Name\":\"pencils\",\"price\":10}})"
   ]
  },
  {
   "cell_type": "code",
   "execution_count": null,
   "id": "f80ab887-8bac-46cf-a187-f61a6fd685c0",
   "metadata": {},
   "outputs": [],
   "source": [
    "#read the data\n",
    "for pd in c.find():\n",
    "    print(\"name=\",pd['Name'],\"price= \",pd[\"price\"])"
   ]
  },
  {
   "cell_type": "code",
   "execution_count": null,
   "id": "bc10cc79-5ba6-4ecd-98fa-184c09748d66",
   "metadata": {},
   "outputs": [],
   "source": [
    "# delete the data\n",
    "\n",
    "c.delete_one({\"Name\":\"milk\"})"
   ]
  },
  {
   "cell_type": "code",
   "execution_count": null,
   "id": "ec89af39-68ee-4eed-9d97-6699ca819603",
   "metadata": {},
   "outputs": [],
   "source": [
    "#read the data\n",
    "for pd in c.find():\n",
    "    print(\"name=\",pd['Name'],\"price= \",pd[\"price\"])"
   ]
  },
  {
   "cell_type": "markdown",
   "id": "9f65a364-ec45-43a0-80f9-0920ab72a01e",
   "metadata": {},
   "source": [
    "* emp store data into mongodb`\n",
    "\n"
   ]
  },
  {
   "cell_type": "code",
   "execution_count": null,
   "id": "1bbff63a-ca1b-4c3f-8e37-193371e42d65",
   "metadata": {},
   "outputs": [],
   "source": [
    "from pymongo import MongoClient"
   ]
  },
  {
   "cell_type": "code",
   "execution_count": null,
   "id": "42fedd6c-901e-4f06-bce9-b0ecee809969",
   "metadata": {},
   "outputs": [],
   "source": [
    "client = MongoClient(\"mongodb://127.0.0.1/27017\")"
   ]
  },
  {
   "cell_type": "code",
   "execution_count": null,
   "id": "1e3b959d-47a8-45e9-9dfd-e4447b52f403",
   "metadata": {},
   "outputs": [],
   "source": [
    "db = client.Empinfo"
   ]
  },
  {
   "cell_type": "code",
   "execution_count": null,
   "id": "05f1ecbf-25ac-47e8-9e7c-a02e2c664059",
   "metadata": {},
   "outputs": [],
   "source": [
    "collection = db.emp"
   ]
  },
  {
   "cell_type": "code",
   "execution_count": null,
   "id": "edf81df3-5517-424d-af94-aea6fa0a195a",
   "metadata": {},
   "outputs": [],
   "source": [
    "documents = [{'Emp-name':'ashish','Emp-mobile':'982129','Emp-sal':1000,'age':21},{'Emp-name':'ashish1','Emp-mobile':'982178','Emp-sal':1001,'age':22},{'Emp-name':'ashish2','Emp-mobile':'932129','Emp-sal':1003,'age':22},{'Emp-name':'ashish3','Emp-mobile':'982569','Emp-sal':1050,'age':24},{'Emp-name':'ashish4','Emp-mobile':'956129','Emp-sal':1045,'age':26},{'Emp-name':'ashish5','Emp-mobile':'9821569','Emp-sal':1080,'age':26}]"
   ]
  },
  {
   "cell_type": "code",
   "execution_count": null,
   "id": "6a195287-9d82-4826-8caf-c4b56f36c331",
   "metadata": {},
   "outputs": [],
   "source": [
    "collection.insert_many(documents)"
   ]
  },
  {
   "cell_type": "code",
   "execution_count": null,
   "id": "cd49cdf6-6e6e-4035-8ff9-c647515bba23",
   "metadata": {},
   "outputs": [],
   "source": [
    "#getting salary between 5000 to 10000\n",
    "\n",
    "query = {'Emp-sal':{'$gte':1000,'$lte':1004}}\n",
    "\n",
    "result = collection.find(query)"
   ]
  },
  {
   "cell_type": "code",
   "execution_count": null,
   "id": "a6264f78-52d6-498d-a89f-a053d8dc2eb1",
   "metadata": {},
   "outputs": [],
   "source": [
    "for i in result:\n",
    "    print(i)"
   ]
  },
  {
   "cell_type": "code",
   "execution_count": null,
   "id": "203d79b8-6f2c-4aab-9201-e5283b00a284",
   "metadata": {},
   "outputs": [],
   "source": [
    "#update query"
   ]
  },
  {
   "cell_type": "code",
   "execution_count": null,
   "id": "5344a6b4-3afc-4ebd-b69c-7295d11604db",
   "metadata": {},
   "outputs": [],
   "source": [
    "filter_query = {'Emp-name':'ashish'}"
   ]
  },
  {
   "cell_type": "code",
   "execution_count": null,
   "id": "c9a74bcf-43cf-4f77-8f3d-6ba76f19315f",
   "metadata": {},
   "outputs": [],
   "source": [
    "update_query = {'$set':{'Emp-name':'Rahul'}}"
   ]
  },
  {
   "cell_type": "code",
   "execution_count": null,
   "id": "6c38024a-396b-4190-8c04-c391878024e6",
   "metadata": {},
   "outputs": [],
   "source": [
    "collection.update_one(filter_query,update_query)"
   ]
  },
  {
   "cell_type": "code",
   "execution_count": null,
   "id": "c1e9649d-5d46-4ed5-9733-f992b658c59a",
   "metadata": {},
   "outputs": [],
   "source": [
    "#factorial\n",
    "def factorial(n):\n",
    "    if n==0:\n",
    "        return 1\n",
    "    else:\n",
    "        return n* factorial(n-1)\n",
    "factorial(5)"
   ]
  },
  {
   "cell_type": "code",
   "execution_count": null,
   "id": "62e185f2-96db-49b6-a0b6-32d3e58b30e1",
   "metadata": {},
   "outputs": [],
   "source": [
    "#remove zero from ip\n",
    "\n",
    "def remove_zero_ip(ip_add):\n",
    "    new_ip = \".\".join([str(int(i)) for i in ip_add.split(\".\")])\n",
    "    return new_ip\n",
    "\n",
    "print(remove_zero_ip(\"25555.01.01.00000011\"))"
   ]
  },
  {
   "cell_type": "code",
   "execution_count": null,
   "id": "0f710dbb-febc-43e0-9a43-87faca5cc953",
   "metadata": {},
   "outputs": [],
   "source": [
    "str = \"hi i am ashish123 and i am mumba\"\n",
    "\n",
    "new_str = str.split()"
   ]
  },
  {
   "cell_type": "code",
   "execution_count": null,
   "id": "76a97f1b-9988-43d1-8610-062b81f5b3b0",
   "metadata": {},
   "outputs": [],
   "source": [
    "new_str"
   ]
  },
  {
   "cell_type": "code",
   "execution_count": null,
   "id": "f995c58f-766f-4575-8f7c-23e6b14cf889",
   "metadata": {},
   "outputs": [],
   "source": [
    "five_str =[]\n",
    "for word in new_str:\n",
    "    if len(word)==5:\n",
    "        five_str.append(word)\n",
    "print(five_str)\n",
    "    "
   ]
  },
  {
   "cell_type": "code",
   "execution_count": 1,
   "id": "e176f51d-b11f-4f4a-b0d6-9f95c19c1d13",
   "metadata": {},
   "outputs": [
    {
     "name": "stdout",
     "output_type": "stream",
     "text": [
      "Requirement already satisfied: numpy in ./env_jupyter/lib/python3.10/site-packages (1.25.0)\n",
      "Note: you may need to restart the kernel to use updated packages.\n"
     ]
    }
   ],
   "source": [
    "pip install numpy"
   ]
  },
  {
   "cell_type": "code",
   "execution_count": 2,
   "id": "7acce0a9-55c4-4a70-9dbf-f24bfd60c12e",
   "metadata": {},
   "outputs": [
    {
     "name": "stdout",
     "output_type": "stream",
     "text": [
      "Collecting matplotlib\n",
      "  Downloading matplotlib-3.7.2-cp310-cp310-manylinux_2_17_x86_64.manylinux2014_x86_64.whl (11.6 MB)\n",
      "\u001b[2K     \u001b[90m━━━━━━━━━━━━━━━━━━━━━━━━━━━━━━━━━━━━━━━━\u001b[0m \u001b[32m11.6/11.6 MB\u001b[0m \u001b[31m3.7 MB/s\u001b[0m eta \u001b[36m0:00:00\u001b[0m00:01\u001b[0m00:01\u001b[0m\n",
      "\u001b[?25hRequirement already satisfied: packaging>=20.0 in ./env_jupyter/lib/python3.10/site-packages (from matplotlib) (23.1)\n",
      "Collecting fonttools>=4.22.0\n",
      "  Downloading fonttools-4.41.1-cp310-cp310-manylinux_2_17_x86_64.manylinux2014_x86_64.whl (4.5 MB)\n",
      "\u001b[2K     \u001b[90m━━━━━━━━━━━━━━━━━━━━━━━━━━━━━━━━━━━━━━━━\u001b[0m \u001b[32m4.5/4.5 MB\u001b[0m \u001b[31m4.7 MB/s\u001b[0m eta \u001b[36m0:00:00\u001b[0m00:01\u001b[0m00:01\u001b[0m\n",
      "\u001b[?25hRequirement already satisfied: numpy>=1.20 in ./env_jupyter/lib/python3.10/site-packages (from matplotlib) (1.25.0)\n",
      "Collecting pillow>=6.2.0\n",
      "  Downloading Pillow-10.0.0-cp310-cp310-manylinux_2_28_x86_64.whl (3.4 MB)\n",
      "\u001b[2K     \u001b[90m━━━━━━━━━━━━━━━━━━━━━━━━━━━━━━━━━━━━━━━━\u001b[0m \u001b[32m3.4/3.4 MB\u001b[0m \u001b[31m5.4 MB/s\u001b[0m eta \u001b[36m0:00:00\u001b[0m00:01\u001b[0m00:01\u001b[0mm\n",
      "\u001b[?25hCollecting pyparsing<3.1,>=2.3.1\n",
      "  Downloading pyparsing-3.0.9-py3-none-any.whl (98 kB)\n",
      "\u001b[2K     \u001b[90m━━━━━━━━━━━━━━━━━━━━━━━━━━━━━━━━━━━━━━━━\u001b[0m \u001b[32m98.3/98.3 kB\u001b[0m \u001b[31m1.9 MB/s\u001b[0m eta \u001b[36m0:00:00\u001b[0mta \u001b[36m0:00:01\u001b[0m\n",
      "\u001b[?25hCollecting kiwisolver>=1.0.1\n",
      "  Downloading kiwisolver-1.4.4-cp310-cp310-manylinux_2_12_x86_64.manylinux2010_x86_64.whl (1.6 MB)\n",
      "\u001b[2K     \u001b[90m━━━━━━━━━━━━━━━━━━━━━━━━━━━━━━━━━━━━━━━━\u001b[0m \u001b[32m1.6/1.6 MB\u001b[0m \u001b[31m5.7 MB/s\u001b[0m eta \u001b[36m0:00:00\u001b[0m00:01\u001b[0m00:01\u001b[0m\n",
      "\u001b[?25hCollecting cycler>=0.10\n",
      "  Downloading cycler-0.11.0-py3-none-any.whl (6.4 kB)\n",
      "Requirement already satisfied: python-dateutil>=2.7 in ./env_jupyter/lib/python3.10/site-packages (from matplotlib) (2.8.2)\n",
      "Collecting contourpy>=1.0.1\n",
      "  Downloading contourpy-1.1.0-cp310-cp310-manylinux_2_17_x86_64.manylinux2014_x86_64.whl (300 kB)\n",
      "\u001b[2K     \u001b[90m━━━━━━━━━━━━━━━━━━━━━━━━━━━━━━━━━━━━━━━\u001b[0m \u001b[32m300.7/300.7 kB\u001b[0m \u001b[31m3.8 MB/s\u001b[0m eta \u001b[36m0:00:00\u001b[0m00:01\u001b[0m\n",
      "\u001b[?25hRequirement already satisfied: six>=1.5 in ./env_jupyter/lib/python3.10/site-packages (from python-dateutil>=2.7->matplotlib) (1.16.0)\n",
      "Installing collected packages: pyparsing, pillow, kiwisolver, fonttools, cycler, contourpy, matplotlib\n",
      "Successfully installed contourpy-1.1.0 cycler-0.11.0 fonttools-4.41.1 kiwisolver-1.4.4 matplotlib-3.7.2 pillow-10.0.0 pyparsing-3.0.9\n",
      "Note: you may need to restart the kernel to use updated packages.\n"
     ]
    }
   ],
   "source": [
    "pip install matplotlib"
   ]
  },
  {
   "cell_type": "code",
   "execution_count": 3,
   "id": "a3bc4cf2-2b7f-4431-a91a-60e825b8d7c3",
   "metadata": {},
   "outputs": [
    {
     "name": "stderr",
     "output_type": "stream",
     "text": [
      "Matplotlib is building the font cache; this may take a moment.\n"
     ]
    }
   ],
   "source": [
    "#matplotlib\n",
    "import matplotlib.pyplot as pt "
   ]
  },
  {
   "cell_type": "code",
   "execution_count": 4,
   "id": "d0f09f12-a9d3-4dd1-8e7b-ac78b122c92b",
   "metadata": {},
   "outputs": [],
   "source": [
    "import numpy as np"
   ]
  },
  {
   "cell_type": "code",
   "execution_count": 6,
   "id": "81b17aff-2140-47d6-b0a9-9184434e2481",
   "metadata": {},
   "outputs": [],
   "source": [
    "x = np.array(['A','B','C','D'])"
   ]
  },
  {
   "cell_type": "code",
   "execution_count": 7,
   "id": "e538460c-7892-4a8c-b3d3-d8bbb504398c",
   "metadata": {},
   "outputs": [],
   "source": [
    "y = np.array([20,98,76,76])"
   ]
  },
  {
   "cell_type": "code",
   "execution_count": 9,
   "id": "52bfed15-74bd-4bb4-8889-965475315adf",
   "metadata": {},
   "outputs": [
    {
     "data": {
      "text/plain": [
       "<BarContainer object of 4 artists>"
      ]
     },
     "execution_count": 9,
     "metadata": {},
     "output_type": "execute_result"
    },
    {
     "data": {
      "image/png": "[encoded data removed]",
      "text/plain": [
       "<Figure size 640x480 with 1 Axes>"
      ]
     },
     "metadata": {},
     "output_type": "display_data"
    }
   ],
   "source": [
    "pt.bar(x,y)"
   ]
  },
  {
   "cell_type": "code",
   "execution_count": 6,
   "id": "b1659fce-5d96-4e21-b0ae-a3c3e477811b",
   "metadata": {},
   "outputs": [],
   "source": [
    "#numpy \n",
    "import numpy as np\n",
    "a=[1,2,3,4]\n",
    "result = np.array(a)"
   ]
  },
  {
   "cell_type": "code",
   "execution_count": 7,
   "id": "c9b43b8a-f2e6-4931-a9b6-9650749b0484",
   "metadata": {},
   "outputs": [
    {
     "data": {
      "text/plain": [
       "array([1, 2, 3, 4])"
      ]
     },
     "execution_count": 7,
     "metadata": {},
     "output_type": "execute_result"
    }
   ],
   "source": [
    "result"
   ]
  },
  {
   "cell_type": "code",
   "execution_count": 8,
   "id": "c63cdae9-90ed-4dde-b6d5-6fa105458206",
   "metadata": {},
   "outputs": [],
   "source": [
    "l2 = [[1,2,3],[4,5,6]]"
   ]
  },
  {
   "cell_type": "code",
   "execution_count": 9,
   "id": "3470fd60-48c0-4ece-8ec9-c334a5960e61",
   "metadata": {},
   "outputs": [],
   "source": [
    "result1 = np.array(l2)"
   ]
  },
  {
   "cell_type": "code",
   "execution_count": 10,
   "id": "dede0fda-e193-45d4-88cc-07c2b5e3f5aa",
   "metadata": {},
   "outputs": [
    {
     "data": {
      "text/plain": [
       "numpy.ndarray"
      ]
     },
     "execution_count": 10,
     "metadata": {},
     "output_type": "execute_result"
    }
   ],
   "source": [
    "type(result1)"
   ]
  },
  {
   "cell_type": "code",
   "execution_count": 11,
   "id": "73c579d2-aabf-424f-b4fc-74dc911e5019",
   "metadata": {},
   "outputs": [],
   "source": [
    "l3 = [[[1,2,3],[4,5,6]],[[1,2,3,],[4,5,6]]]"
   ]
  },
  {
   "cell_type": "code",
   "execution_count": 12,
   "id": "afe1de1f-b1b6-4641-9eb7-76f047825f4b",
   "metadata": {},
   "outputs": [],
   "source": [
    "r3 = np.array(l3)"
   ]
  },
  {
   "cell_type": "code",
   "execution_count": 13,
   "id": "dee4417d-8ef6-43b1-9484-b41baf1e0994",
   "metadata": {},
   "outputs": [
    {
     "data": {
      "text/plain": [
       "array([[[1, 2, 3],\n",
       "        [4, 5, 6]],\n",
       "\n",
       "       [[1, 2, 3],\n",
       "        [4, 5, 6]]])"
      ]
     },
     "execution_count": 13,
     "metadata": {},
     "output_type": "execute_result"
    }
   ],
   "source": [
    "r3"
   ]
  },
  {
   "cell_type": "code",
   "execution_count": 14,
   "id": "e6206f64-7870-4ae1-8926-6dbfec582035",
   "metadata": {},
   "outputs": [
    {
     "data": {
      "text/plain": [
       "array([4, 5, 6])"
      ]
     },
     "execution_count": 14,
     "metadata": {},
     "output_type": "execute_result"
    }
   ],
   "source": [
    "r3[0][1]"
   ]
  },
  {
   "cell_type": "code",
   "execution_count": 15,
   "id": "6a9c65d5-5ca9-4198-94c4-515063a231cf",
   "metadata": {},
   "outputs": [],
   "source": [
    "str2 =\"hi i am\"\n"
   ]
  },
  {
   "cell_type": "code",
   "execution_count": 16,
   "id": "e17c2f6d-075a-4df4-8a54-4f01f0fa6bd0",
   "metadata": {},
   "outputs": [
    {
     "data": {
      "text/plain": [
       "'hi#i#am'"
      ]
     },
     "execution_count": 16,
     "metadata": {},
     "output_type": "execute_result"
    }
   ],
   "source": [
    "str2.replace(\" \",\"#\")"
   ]
  },
  {
   "cell_type": "code",
   "execution_count": 17,
   "id": "1f047bfa-210a-4939-882a-f700c3e5e25c",
   "metadata": {},
   "outputs": [],
   "source": [
    "#pandas \n",
    "import pandas as pd"
   ]
  },
  {
   "cell_type": "code",
   "execution_count": 18,
   "id": "c49320a9-989e-4841-9b8b-e963b2152eb2",
   "metadata": {},
   "outputs": [],
   "source": [
    "dic1 = {\"Name\":[\"ashish\",\"rahul\",\"kartik\"],\"roll_no\":[1,2,3,],\"marks\":[10,20,30]}"
   ]
  },
  {
   "cell_type": "code",
   "execution_count": 19,
   "id": "a5003003-50f3-48c7-83d0-575292961754",
   "metadata": {},
   "outputs": [],
   "source": [
    "res = pd.DataFrame(dic1)"
   ]
  },
  {
   "cell_type": "code",
   "execution_count": 20,
   "id": "d39ac0df-4766-48c6-9c17-0221adf7e6c1",
   "metadata": {},
   "outputs": [
    {
     "data": {
      "text/html": [
       "<div>\n",
       "<style scoped>\n",
       "    .dataframe tbody tr th:only-of-type {\n",
       "        vertical-align: middle;\n",
       "    }\n",
       "\n",
       "    .dataframe tbody tr th {\n",
       "        vertical-align: top;\n",
       "    }\n",
       "\n",
       "    .dataframe thead th {\n",
       "        text-align: right;\n",
       "    }\n",
       "</style>\n",
       "<table border=\"1\" class=\"dataframe\">\n",
       "  <thead>\n",
       "    <tr style=\"text-align: right;\">\n",
       "      <th></th>\n",
       "      <th>Name</th>\n",
       "      <th>roll_no</th>\n",
       "      <th>marks</th>\n",
       "    </tr>\n",
       "  </thead>\n",
       "  <tbody>\n",
       "    <tr>\n",
       "      <th>0</th>\n",
       "      <td>ashish</td>\n",
       "      <td>1</td>\n",
       "      <td>10</td>\n",
       "    </tr>\n",
       "    <tr>\n",
       "      <th>1</th>\n",
       "      <td>rahul</td>\n",
       "      <td>2</td>\n",
       "      <td>20</td>\n",
       "    </tr>\n",
       "    <tr>\n",
       "      <th>2</th>\n",
       "      <td>kartik</td>\n",
       "      <td>3</td>\n",
       "      <td>30</td>\n",
       "    </tr>\n",
       "  </tbody>\n",
       "</table>\n",
       "</div>"
      ],
      "text/plain": [
       "     Name  roll_no  marks\n",
       "0  ashish        1     10\n",
       "1   rahul        2     20\n",
       "2  kartik        3     30"
      ]
     },
     "execution_count": 20,
     "metadata": {},
     "output_type": "execute_result"
    }
   ],
   "source": [
    "res"
   ]
  },
  {
   "cell_type": "code",
   "execution_count": 21,
   "id": "395a88c0-a5b6-4bbf-a692-e35ba1e3531b",
   "metadata": {},
   "outputs": [],
   "source": [
    "arr6 = np.arange(25).reshape(5,5)"
   ]
  },
  {
   "cell_type": "code",
   "execution_count": 22,
   "id": "94aca48e-cd29-4d1f-9c41-e596894395b1",
   "metadata": {},
   "outputs": [
    {
     "data": {
      "text/plain": [
       "array([[ 0,  1,  2,  3,  4],\n",
       "       [ 5,  6,  7,  8,  9],\n",
       "       [10, 11, 12, 13, 14],\n",
       "       [15, 16, 17, 18, 19],\n",
       "       [20, 21, 22, 23, 24]])"
      ]
     },
     "execution_count": 22,
     "metadata": {},
     "output_type": "execute_result"
    }
   ],
   "source": [
    "arr6"
   ]
  },
  {
   "cell_type": "code",
   "execution_count": 23,
   "id": "e2a26669-c56c-4972-bc96-69f52d4b8945",
   "metadata": {},
   "outputs": [
    {
     "data": {
      "text/plain": [
       "array([[3, 4],\n",
       "       [8, 9]])"
      ]
     },
     "execution_count": 23,
     "metadata": {},
     "output_type": "execute_result"
    }
   ],
   "source": [
    "arr6[0:2,3:5]"
   ]
  },
  {
   "cell_type": "code",
   "execution_count": 24,
   "id": "e6aa9088-554f-4ae7-9460-e6276db5a84a",
   "metadata": {},
   "outputs": [
    {
     "data": {
      "text/plain": [
       "array([[18, 19],\n",
       "       [23, 24]])"
      ]
     },
     "execution_count": 24,
     "metadata": {},
     "output_type": "execute_result"
    }
   ],
   "source": [
    "arr6[3:,3:]"
   ]
  },
  {
   "cell_type": "code",
   "execution_count": 26,
   "id": "ae2e2f81-f42f-4ee4-8da4-18d5e6cc11ed",
   "metadata": {},
   "outputs": [],
   "source": [
    "np1 = np.arange(25).reshape(5,5)"
   ]
  },
  {
   "cell_type": "code",
   "execution_count": 27,
   "id": "dea5a416-4c31-411a-9fba-f32706a43838",
   "metadata": {},
   "outputs": [
    {
     "data": {
      "text/plain": [
       "array([[ 0,  1,  2,  3,  4],\n",
       "       [ 5,  6,  7,  8,  9],\n",
       "       [10, 11, 12, 13, 14],\n",
       "       [15, 16, 17, 18, 19],\n",
       "       [20, 21, 22, 23, 24]])"
      ]
     },
     "execution_count": 27,
     "metadata": {},
     "output_type": "execute_result"
    }
   ],
   "source": [
    "np1"
   ]
  },
  {
   "cell_type": "code",
   "execution_count": 29,
   "id": "6234f4a5-dc76-43a7-9b0f-70dc082e8277",
   "metadata": {},
   "outputs": [],
   "source": [
    "arr = np.array([[1,2,3],[4,5,6],[7,8,9]])"
   ]
  },
  {
   "cell_type": "code",
   "execution_count": 30,
   "id": "42eea332-5f5f-40a1-9cf7-4679719a8d53",
   "metadata": {},
   "outputs": [],
   "source": [
    "arr_mean =np.mean(arr,axis=0)"
   ]
  },
  {
   "cell_type": "code",
   "execution_count": 31,
   "id": "cedfc2b3-996b-4169-a29f-f9266f3f51ae",
   "metadata": {},
   "outputs": [
    {
     "data": {
      "text/plain": [
       "array([4., 5., 6.])"
      ]
     },
     "execution_count": 31,
     "metadata": {},
     "output_type": "execute_result"
    }
   ],
   "source": [
    "arr_mean"
   ]
  },
  {
   "cell_type": "code",
   "execution_count": 32,
   "id": "9715f3a4-5d28-4021-8a6f-1fcd89215978",
   "metadata": {},
   "outputs": [],
   "source": [
    "arr_median = np.median(arr,axis=0)"
   ]
  },
  {
   "cell_type": "code",
   "execution_count": 33,
   "id": "295ccff2-149b-479f-bdf5-ca97e695cb40",
   "metadata": {},
   "outputs": [
    {
     "data": {
      "text/plain": [
       "array([4., 5., 6.])"
      ]
     },
     "execution_count": 33,
     "metadata": {},
     "output_type": "execute_result"
    }
   ],
   "source": [
    "arr_median"
   ]
  },
  {
   "cell_type": "code",
   "execution_count": 34,
   "id": "0511fc9a-7f99-41cf-91a6-1fb09c673886",
   "metadata": {},
   "outputs": [],
   "source": [
    "#create the dataframe using a 2 dimension list\n",
    "data =[[1,\" \",25],[2,\"ashish1\",30],[3,\"ashish2\",45],[4,\"ashish3\",78]]"
   ]
  },
  {
   "cell_type": "code",
   "execution_count": 35,
   "id": "1beaea36-0f0a-4f56-bc28-1b320a2e879f",
   "metadata": {},
   "outputs": [],
   "source": [
    "columns =[\"ID\",\"Name\",\"Age\"]\n"
   ]
  },
  {
   "cell_type": "code",
   "execution_count": 36,
   "id": "4e6763a2-cb6e-4020-b378-a87423e01118",
   "metadata": {},
   "outputs": [],
   "source": [
    "df = pd.DataFrame(data, columns=columns)"
   ]
  },
  {
   "cell_type": "code",
   "execution_count": 37,
   "id": "425cf5de-41a6-43e1-9fd9-1dabe155c765",
   "metadata": {},
   "outputs": [
    {
     "data": {
      "text/html": [
       "<div>\n",
       "<style scoped>\n",
       "    .dataframe tbody tr th:only-of-type {\n",
       "        vertical-align: middle;\n",
       "    }\n",
       "\n",
       "    .dataframe tbody tr th {\n",
       "        vertical-align: top;\n",
       "    }\n",
       "\n",
       "    .dataframe thead th {\n",
       "        text-align: right;\n",
       "    }\n",
       "</style>\n",
       "<table border=\"1\" class=\"dataframe\">\n",
       "  <thead>\n",
       "    <tr style=\"text-align: right;\">\n",
       "      <th></th>\n",
       "      <th>ID</th>\n",
       "      <th>Name</th>\n",
       "      <th>Age</th>\n",
       "    </tr>\n",
       "  </thead>\n",
       "  <tbody>\n",
       "    <tr>\n",
       "      <th>0</th>\n",
       "      <td>1</td>\n",
       "      <td>ashish</td>\n",
       "      <td>25</td>\n",
       "    </tr>\n",
       "    <tr>\n",
       "      <th>1</th>\n",
       "      <td>2</td>\n",
       "      <td>ashish1</td>\n",
       "      <td>30</td>\n",
       "    </tr>\n",
       "    <tr>\n",
       "      <th>2</th>\n",
       "      <td>3</td>\n",
       "      <td>ashish2</td>\n",
       "      <td>45</td>\n",
       "    </tr>\n",
       "    <tr>\n",
       "      <th>3</th>\n",
       "      <td>4</td>\n",
       "      <td>ashish3</td>\n",
       "      <td>78</td>\n",
       "    </tr>\n",
       "  </tbody>\n",
       "</table>\n",
       "</div>"
      ],
      "text/plain": [
       "   ID     Name  Age\n",
       "0   1   ashish   25\n",
       "1   2  ashish1   30\n",
       "2   3  ashish2   45\n",
       "3   4  ashish3   78"
      ]
     },
     "execution_count": 37,
     "metadata": {},
     "output_type": "execute_result"
    }
   ],
   "source": [
    "df"
   ]
  },
  {
   "cell_type": "code",
   "execution_count": 38,
   "id": "8dabd316-19fa-4f17-8d77-e99de103498d",
   "metadata": {},
   "outputs": [],
   "source": [
    "#count"
   ]
  },
  {
   "cell_type": "code",
   "execution_count": 39,
   "id": "ae486408-2c0d-4308-9779-443bad42549c",
   "metadata": {},
   "outputs": [],
   "source": [
    "count = len(df)"
   ]
  },
  {
   "cell_type": "code",
   "execution_count": 40,
   "id": "c32b192d-330a-4e05-80f1-7555fc41e861",
   "metadata": {},
   "outputs": [
    {
     "data": {
      "text/plain": [
       "4"
      ]
     },
     "execution_count": 40,
     "metadata": {},
     "output_type": "execute_result"
    }
   ],
   "source": [
    "count"
   ]
  },
  {
   "cell_type": "code",
   "execution_count": 42,
   "id": "d66207c3-3e56-40c8-a112-bc87205e6de0",
   "metadata": {},
   "outputs": [],
   "source": [
    "count_column = len(df.columns)"
   ]
  },
  {
   "cell_type": "code",
   "execution_count": 43,
   "id": "89588d66-f424-43ea-8333-702b9cbfb131",
   "metadata": {},
   "outputs": [
    {
     "data": {
      "text/plain": [
       "3"
      ]
     },
     "execution_count": 43,
     "metadata": {},
     "output_type": "execute_result"
    }
   ],
   "source": [
    "count_column"
   ]
  },
  {
   "cell_type": "code",
   "execution_count": null,
   "id": "f031ee13-5a8c-4bbd-88e2-152ebeb600eb",
   "metadata": {},
   "outputs": [],
   "source": []
  }
 ],
 "metadata": {
  "kernelspec": {
   "display_name": "Python 3 (ipykernel)",
   "language": "python",
   "name": "python3"
  },
  "language_info": {
   "codemirror_mode": {
    "name": "ipython",
    "version": 3
   },
   "file_extension": ".py",
   "mimetype": "text/x-python",
   "name": "python",
   "nbconvert_exporter": "python",
   "pygments_lexer": "ipython3",
   "version": "3.10.5"
  }
 },
 "nbformat": 4,
 "nbformat_minor": 5
}
