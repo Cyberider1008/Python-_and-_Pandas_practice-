{
 "cells": [
  {
   "cell_type": "code",
   "execution_count": 1,
   "id": "fb8c7b80-8b1d-411f-b862-be055769be90",
   "metadata": {},
   "outputs": [],
   "source": [
    "# Question 1: Write a Python program to check if a string is a palindrome."
   ]
  },
  {
   "cell_type": "code",
   "execution_count": 1,
   "id": "d4bf6d00-2cf9-47d2-9a86-dfaf2a51c271",
   "metadata": {},
   "outputs": [
    {
     "name": "stdout",
     "output_type": "stream",
     "text": [
      "madam is palindrome\n"
     ]
    }
   ],
   "source": [
    "def is_palindrme(str):\n",
    "    new_str = str[::-1]\n",
    "    return new_str == str\n",
    "\n",
    "# str = input(\"enter your string here :)\n",
    "word = \"madam\"\n",
    "print(f\"{word} is palindrome\" if is_palindrme(word) else f\"{word} is not palindrome\" )"
   ]
  },
  {
   "cell_type": "code",
   "execution_count": 9,
   "id": "7b3fcc4f-ae54-4d67-bd4c-9b5014a88688",
   "metadata": {},
   "outputs": [],
   "source": [
    "# Question 2: Write a Python program to find the factorial of a number."
   ]
  },
  {
   "cell_type": "code",
   "execution_count": 11,
   "id": "cb1236f6-38f8-4fc9-a643-96251b0ba18a",
   "metadata": {},
   "outputs": [
    {
     "name": "stdout",
     "output_type": "stream",
     "text": [
      "120\n"
     ]
    }
   ],
   "source": [
    "def factorial(n):\n",
    "    if n == 0:\n",
    "        return 1\n",
    "    else:\n",
    "        return n * factorial(n-1)\n",
    "\n",
    "res = factorial(5)\n",
    "print(res)\n",
    "        "
   ]
  },
  {
   "cell_type": "code",
   "execution_count": null,
   "id": "c5f35fb4-e370-42a2-8891-1a86d179f0fd",
   "metadata": {},
   "outputs": [],
   "source": [
    "fact = lambda x : x == 0 and 1 or x * fact(x-1)\n",
    "\n",
    "fact(5)"
   ]
  },
  {
   "cell_type": "code",
   "execution_count": null,
   "id": "ff3f9dce-559e-41f2-8d7f-a9507e9e2875",
   "metadata": {},
   "outputs": [],
   "source": [
    "fact = lambda x : 1 if x == 0 else x * fact(x-1)\n",
    "\n",
    "fact(5)"
   ]
  },
  {
   "cell_type": "code",
   "execution_count": 18,
   "id": "f0af50e8-768e-49d7-8647-3fb9f8af2d70",
   "metadata": {},
   "outputs": [],
   "source": [
    "# Question 3: Write a Python program to find the largest element in a list."
   ]
  },
  {
   "cell_type": "code",
   "execution_count": 28,
   "id": "92da58a0-f572-4018-89e2-3dd719864441",
   "metadata": {},
   "outputs": [
    {
     "name": "stdout",
     "output_type": "stream",
     "text": [
      "[2, 5, 7, 3, 5] of largest num is 7\n"
     ]
    }
   ],
   "source": [
    "def find_nlargest(num):\n",
    "    grt = num[0]\n",
    "    for n in num:\n",
    "        if n > grt:\n",
    "            grt = n\n",
    "    return grt\n",
    "    \n",
    "            \n",
    "\n",
    "l = [2,5,7,3,5]\n",
    "n = find_nlargest(l)\n",
    "print(f\"{l} of largest num is {n}\")"
   ]
  },
  {
   "cell_type": "code",
   "execution_count": 29,
   "id": "4d5264e9-7942-42ee-aad2-b31aadf7bb83",
   "metadata": {},
   "outputs": [],
   "source": [
    "# Question 4: Write a Python program to reverse a string.\n"
   ]
  },
  {
   "cell_type": "code",
   "execution_count": 33,
   "id": "93b76d15-fce7-4d2d-ab23-94e6f3a5836b",
   "metadata": {},
   "outputs": [
    {
     "name": "stdout",
     "output_type": "stream",
     "text": [
      "luhar olleh\n"
     ]
    }
   ],
   "source": [
    "def reverse_str(str):\n",
    "    return str[::-1]\n",
    "\n",
    "text = \"hello rahul\"\n",
    "print(reverse_str(text))"
   ]
  },
  {
   "cell_type": "code",
   "execution_count": 34,
   "id": "5f93463a-6711-48b7-a0cd-bed4855fc1c7",
   "metadata": {},
   "outputs": [],
   "source": [
    "# Question 5: Write a Python program to count the frequency of each element in a list.\n"
   ]
  },
  {
   "cell_type": "code",
   "execution_count": 41,
   "id": "f1385b77-aa77-4e0b-b790-1c68f66ac0c3",
   "metadata": {},
   "outputs": [],
   "source": [
    "def count_freq(num):\n",
    "    freq = {}\n",
    "    for n in num :\n",
    "        if n in freq:\n",
    "            freq[n] += 1\n",
    "        else:\n",
    "            freq[n] = 1\n",
    "    return freq\n",
    "\n",
    "test = [1,2,3,4,3,2,1,2,2,2,2,2,2,3,3,3]\n",
    "freq_count = count_freq(test)\n",
    "\n",
    "    "
   ]
  },
  {
   "cell_type": "code",
   "execution_count": 42,
   "id": "51edff01-7f22-45dd-bfd8-83b3b4be202c",
   "metadata": {},
   "outputs": [
    {
     "data": {
      "text/plain": [
       "{1: 2, 2: 8, 3: 5, 4: 1}"
      ]
     },
     "execution_count": 42,
     "metadata": {},
     "output_type": "execute_result"
    }
   ],
   "source": [
    "freq_count"
   ]
  },
  {
   "cell_type": "code",
   "execution_count": 43,
   "id": "ae14fe37-4fda-4376-a420-aeeec597b54f",
   "metadata": {},
   "outputs": [],
   "source": [
    "# Question 10: Write a Python program to remove duplicates from a list."
   ]
  },
  {
   "cell_type": "code",
   "execution_count": 2,
   "id": "31998fa1-f32a-4b1f-93ce-e74a3221eade",
   "metadata": {},
   "outputs": [
    {
     "name": "stdout",
     "output_type": "stream",
     "text": [
      "[1, 2, 3, 4, 6, 7, 8]\n"
     ]
    }
   ],
   "source": [
    "def remove_duplicate_list(list1):\n",
    "    set_1 = list(set(list1))\n",
    "    # without_duplicate = list(set_1)\n",
    "    return set_1\n",
    "\n",
    "list1 = [1,2,2,3,3,4,3,2,1,7,8,6]\n",
    "print(remove_duplicate_list(list1))"
   ]
  },
  {
   "cell_type": "code",
   "execution_count": 3,
   "id": "4d9e4b4c-96c8-4729-9f07-58dde10ed2d7",
   "metadata": {},
   "outputs": [],
   "source": [
    "# Question 7: Write a Python program to find the common elements between two lists."
   ]
  },
  {
   "cell_type": "code",
   "execution_count": 6,
   "id": "d4e7ba53-d6a0-43a7-a691-17121ad06ef3",
   "metadata": {},
   "outputs": [
    {
     "name": "stdout",
     "output_type": "stream",
     "text": [
      "[2, 3, 4, 2, 5, 7]\n"
     ]
    }
   ],
   "source": [
    "def find_common_element(list1, list2):\n",
    "    common_element = []\n",
    "    for i in list1:\n",
    "        if i in list2:\n",
    "            common_element.append(i)\n",
    "    return common_element\n",
    "list1=[1,2,3,4,2,1,5,7]\n",
    "list2 = [8,7,6,5,4,3,2,4]\n",
    "print(find_common_element(list1, list2))"
   ]
  },
  {
   "cell_type": "code",
   "execution_count": 7,
   "id": "1d03b636-56ac-4aa2-aefa-416438d0fdef",
   "metadata": {},
   "outputs": [
    {
     "name": "stdout",
     "output_type": "stream",
     "text": [
      "[1, 2, 5, 8, 9]\n"
     ]
    }
   ],
   "source": [
    "def bubble_sort(elements):\n",
    "    n = len(elements)\n",
    "    for i in range(n - 1):\n",
    "        for j in range(n - i - 1):\n",
    "            if elements[j] > elements[j + 1]:\n",
    "                elements[j], elements[j + 1] = elements[j + 1], elements[j]\n",
    "\n",
    "# Test the function\n",
    "nums = [5, 2, 8, 1, 9]\n",
    "bubble_sort(nums)\n",
    "print(nums)"
   ]
  },
  {
   "cell_type": "code",
   "execution_count": 1,
   "id": "9e7ea795-4f91-410d-b795-fe756a25f81b",
   "metadata": {},
   "outputs": [],
   "source": [
    "# Writing Fibonacci Series"
   ]
  },
  {
   "cell_type": "code",
   "execution_count": 1,
   "id": "9112caae-dc7f-4a4c-a535-8681fd50e517",
   "metadata": {},
   "outputs": [],
   "source": [
    "fib =[0,1]\n",
    "for _ in range(5):\n",
    "    fib.append(fib[-2]+fib[-1])\n",
    "\n",
    "res = ','.join(str(x) for x in fib)\n",
    "\n",
    "\n",
    "\n"
   ]
  },
  {
   "cell_type": "code",
   "execution_count": 2,
   "id": "db91c56e-d17a-4561-a018-980cb865db9d",
   "metadata": {},
   "outputs": [
    {
     "data": {
      "text/plain": [
       "'0,1,1,2,3,5,8'"
      ]
     },
     "execution_count": 2,
     "metadata": {},
     "output_type": "execute_result"
    }
   ],
   "source": [
    "res"
   ]
  },
  {
   "cell_type": "code",
   "execution_count": 6,
   "id": "9d295074-3f51-418b-b0d4-fed9fc3fbcef",
   "metadata": {},
   "outputs": [],
   "source": [
    "# Randomizing the Items of a List in Python"
   ]
  },
  {
   "cell_type": "code",
   "execution_count": 5,
   "id": "5214ad1d-3d33-41e2-806c-89f59e3a343f",
   "metadata": {},
   "outputs": [],
   "source": [
    "import random \n",
    "list1 = ['one', 'two', 'three','four','five']\n",
    "random.shuffle(list1)\n"
   ]
  },
  {
   "cell_type": "code",
   "execution_count": 7,
   "id": "cc68c2eb-4f1c-4762-b6b1-0e9c6444afaa",
   "metadata": {},
   "outputs": [
    {
     "data": {
      "text/plain": [
       "['two', 'four', 'three', 'five', 'one']"
      ]
     },
     "execution_count": 7,
     "metadata": {},
     "output_type": "execute_result"
    }
   ],
   "source": [
    "list1"
   ]
  },
  {
   "cell_type": "code",
   "execution_count": 8,
   "id": "b7e158fe-ee11-4f0b-a4d2-3aa17a499103",
   "metadata": {},
   "outputs": [],
   "source": [
    "# Counting Vowels in a Given Word?"
   ]
  },
  {
   "cell_type": "code",
   "execution_count": 9,
   "id": "667e762c-ae37-49c2-991e-df238173bb0d",
   "metadata": {},
   "outputs": [],
   "source": [
    "v = ['a','e','i','u','o']\n",
    "str = 'programming'\n",
    "count = 0\n",
    "for char in str:\n",
    "    if char in v:\n",
    "        count +=1\n"
   ]
  },
  {
   "cell_type": "code",
   "execution_count": 10,
   "id": "db362d76-bc08-4b97-a28e-9735a7fec61c",
   "metadata": {},
   "outputs": [
    {
     "data": {
      "text/plain": [
       "3"
      ]
     },
     "execution_count": 10,
     "metadata": {},
     "output_type": "execute_result"
    }
   ],
   "source": [
    "count"
   ]
  },
  {
   "cell_type": "code",
   "execution_count": 12,
   "id": "5d110da7-adb3-4cd0-8bcb-f5e03f2b19ef",
   "metadata": {},
   "outputs": [],
   "source": [
    "# Finding the Middle Element in a List"
   ]
  },
  {
   "cell_type": "code",
   "execution_count": 28,
   "id": "496bd991-0703-4ff8-ba56-4f7d466388b7",
   "metadata": {},
   "outputs": [
    {
     "name": "stdout",
     "output_type": "stream",
     "text": [
      "3\n"
     ]
    }
   ],
   "source": [
    "numList = [1, 2, 3, 4, 5]\n",
    "midElement = int((len(numList)/2)) \n",
    "\n",
    "print(numList[midElement])"
   ]
  },
  {
   "cell_type": "code",
   "execution_count": 32,
   "id": "eb060ae7-1c1f-4f51-9f4e-a7c8b503d865",
   "metadata": {},
   "outputs": [],
   "source": [
    "fact = lambda n: n == 0 and 1 or n * fact(n-1)"
   ]
  },
  {
   "cell_type": "code",
   "execution_count": 34,
   "id": "7009f0f7-9b13-4418-83e1-fca876ffe701",
   "metadata": {},
   "outputs": [
    {
     "data": {
      "text/plain": [
       "479001600"
      ]
     },
     "execution_count": 34,
     "metadata": {},
     "output_type": "execute_result"
    }
   ],
   "source": [
    "fact(12)"
   ]
  },
  {
   "cell_type": "code",
   "execution_count": null,
   "id": "444856e1-4e36-4429-8cfa-80f40a435b78",
   "metadata": {},
   "outputs": [],
   "source": []
  }
 ],
 "metadata": {
  "kernelspec": {
   "display_name": "Python 3 (ipykernel)",
   "language": "python",
   "name": "python3"
  },
  "language_info": {
   "codemirror_mode": {
    "name": "ipython",
    "version": 3
   },
   "file_extension": ".py",
   "mimetype": "text/x-python",
   "name": "python",
   "nbconvert_exporter": "python",
   "pygments_lexer": "ipython3",
   "version": "3.10.5"
  }
 },
 "nbformat": 4,
 "nbformat_minor": 5
}
