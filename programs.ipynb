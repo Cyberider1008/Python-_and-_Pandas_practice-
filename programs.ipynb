{
 "cells": [
  {
   "cell_type": "code",
   "execution_count": null,
   "id": "9e6e70d1-54e7-4c4e-8632-d69851953341",
   "metadata": {},
   "outputs": [],
   "source": [
    "#let's check which number bigger from user"
   ]
  },
  {
   "cell_type": "code",
   "execution_count": null,
   "id": "a8defd28-4e9a-4b86-a60e-c48457d063a3",
   "metadata": {},
   "outputs": [],
   "source": [
    "count = 0\n",
    "gtr = 0\n",
    "\n",
    "while(count < 10):\n",
    "    n = int(input(\"plz enter your number here: \"))\n",
    "    if n > gtr:\n",
    "        gtr = n\n",
    "    count +=1\n",
    "\n",
    "print(f\"greater no is {gtr}\")\n"
   ]
  },
  {
   "cell_type": "code",
   "execution_count": 1,
   "id": "d8ef89a0-4fe4-433d-993d-5f9b917891b5",
   "metadata": {},
   "outputs": [],
   "source": [
    "#let's check which number greater into list"
   ]
  },
  {
   "cell_type": "code",
   "execution_count": 3,
   "id": "5ca69bda-bdd0-433e-9f84-14fcd1f77e3e",
   "metadata": {},
   "outputs": [
    {
     "name": "stdout",
     "output_type": "stream",
     "text": [
      "75\n"
     ]
    }
   ],
   "source": [
    "l1 = [23,65,45,43,75,45]\n",
    "\n",
    "count = 0\n",
    "gtr = 0\n",
    "len_list = len(l1)\n",
    "for i in l1:\n",
    "    if i > gtr:\n",
    "        gtr = i\n",
    "print(gtr)    "
   ]
  },
  {
   "cell_type": "code",
   "execution_count": null,
   "id": "7362aa45-5b5e-4298-bccb-9bb01095fa1e",
   "metadata": {},
   "outputs": [],
   "source": [
    "#Python program to interchange first and last elements in a list"
   ]
  },
  {
   "cell_type": "code",
   "execution_count": null,
   "id": "dfea1705-b4af-4fd8-90ae-d754bb6f2701",
   "metadata": {},
   "outputs": [],
   "source": [
    "#list from user"
   ]
  },
  {
   "cell_type": "code",
   "execution_count": 11,
   "id": "0593a00a-e6fd-418a-aa1a-9b16b235ec19",
   "metadata": {},
   "outputs": [],
   "source": [
    "import numpy as np"
   ]
  },
  {
   "cell_type": "code",
   "execution_count": 16,
   "id": "176d7278-752f-4375-80db-a95ac734f0f7",
   "metadata": {},
   "outputs": [],
   "source": [
    "# l = [int(input(\"enter your number here: \")) for _ in range(10)]\n",
    "l = list(np.random.randint(1,20,10))"
   ]
  },
  {
   "cell_type": "code",
   "execution_count": 17,
   "id": "b8aa12b3-6855-4ab0-8a9f-4a6ab805b6ca",
   "metadata": {},
   "outputs": [
    {
     "data": {
      "text/plain": [
       "[np.int64(3),\n",
       " np.int64(19),\n",
       " np.int64(4),\n",
       " np.int64(4),\n",
       " np.int64(16),\n",
       " np.int64(8),\n",
       " np.int64(10),\n",
       " np.int64(3),\n",
       " np.int64(1),\n",
       " np.int64(14)]"
      ]
     },
     "execution_count": 17,
     "metadata": {},
     "output_type": "execute_result"
    }
   ],
   "source": [
    "l\n"
   ]
  },
  {
   "cell_type": "code",
   "execution_count": 18,
   "id": "cc4cea74-7734-43bd-adb9-5a8920d3d560",
   "metadata": {},
   "outputs": [],
   "source": [
    "l[0],l[-1] = l[-1],l[0]"
   ]
  },
  {
   "cell_type": "code",
   "execution_count": 22,
   "id": "9bf5ad95-a3e9-44bc-aa62-698ad5efffee",
   "metadata": {},
   "outputs": [
    {
     "data": {
      "text/plain": [
       "[np.int64(14),\n",
       " np.int64(19),\n",
       " np.int64(4),\n",
       " np.int64(4),\n",
       " np.int64(16),\n",
       " np.int64(8),\n",
       " np.int64(10),\n",
       " np.int64(3),\n",
       " np.int64(1),\n",
       " np.int64(3)]"
      ]
     },
     "execution_count": 22,
     "metadata": {},
     "output_type": "execute_result"
    }
   ],
   "source": [
    "l"
   ]
  },
  {
   "cell_type": "code",
   "execution_count": null,
   "id": "67277ae7-1e72-4dfc-ad27-7c0d9fb3e7a7",
   "metadata": {},
   "outputs": [],
   "source": [
    "#Python to find length of list"
   ]
  },
  {
   "cell_type": "code",
   "execution_count": null,
   "id": "f863bf81-5e82-4a76-9d7d-bbcfb52b9871",
   "metadata": {},
   "outputs": [],
   "source": [
    "l2 = [0 for _ in range(30)]"
   ]
  },
  {
   "cell_type": "code",
   "execution_count": null,
   "id": "7a1cbaf1-da28-477c-a3ee-766ab7a68a7e",
   "metadata": {},
   "outputs": [],
   "source": [
    "l2"
   ]
  },
  {
   "cell_type": "code",
   "execution_count": null,
   "id": "f644f0c1-8dd9-4f11-9626-c42c0cbf4413",
   "metadata": {},
   "outputs": [],
   "source": [
    "length_list = len(l2)"
   ]
  },
  {
   "cell_type": "code",
   "execution_count": null,
   "id": "7f8ca700-3b79-491e-b2ce-98ab4ddb9da5",
   "metadata": {},
   "outputs": [],
   "source": [
    "length_list"
   ]
  },
  {
   "cell_type": "code",
   "execution_count": null,
   "id": "ca1739da-e324-4167-ac4f-fe46e24a3dc6",
   "metadata": {},
   "outputs": [],
   "source": [
    "#reversing all list"
   ]
  },
  {
   "cell_type": "code",
   "execution_count": null,
   "id": "090fa164-0178-4c89-a0fa-77c56531f622",
   "metadata": {},
   "outputs": [],
   "source": [
    "l3 = [i for i in range(20)]"
   ]
  },
  {
   "cell_type": "code",
   "execution_count": null,
   "id": "4f565df8-1d0d-492d-85cd-52b70b022775",
   "metadata": {},
   "outputs": [],
   "source": [
    "l3[::-1]"
   ]
  },
  {
   "cell_type": "code",
   "execution_count": null,
   "id": "8bc778fc-6f3e-4471-9c8b-b4fc2c6d2631",
   "metadata": {},
   "outputs": [],
   "source": [
    "#Sum of number digits in List"
   ]
  },
  {
   "cell_type": "code",
   "execution_count": 6,
   "id": "c1e6e25e-386d-4cf5-a39b-032e79ef7be6",
   "metadata": {},
   "outputs": [],
   "source": [
    "test_list = [86,75,54,89,34]"
   ]
  },
  {
   "cell_type": "code",
   "execution_count": 8,
   "id": "6507d023-0edc-441f-ad88-7b0489baf853",
   "metadata": {},
   "outputs": [],
   "source": [
    "res = list(map(lambda x :  sum(int(i) for i in str(x)), test_list))"
   ]
  },
  {
   "cell_type": "code",
   "execution_count": 9,
   "id": "76383346-41b2-4ac3-82f9-cf4639bb2f11",
   "metadata": {},
   "outputs": [
    {
     "data": {
      "text/plain": [
       "[14, 12, 9, 17, 7]"
      ]
     },
     "execution_count": 9,
     "metadata": {},
     "output_type": "execute_result"
    }
   ],
   "source": [
    "res"
   ]
  },
  {
   "cell_type": "code",
   "execution_count": null,
   "id": "e57f92ce-1263-4c38-bc62-ae9216c16ea3",
   "metadata": {},
   "outputs": [],
   "source": [
    "#Multiply all numbers in the list"
   ]
  },
  {
   "cell_type": "code",
   "execution_count": null,
   "id": "fb17c1bc-07b0-4349-88d3-011356627362",
   "metadata": {},
   "outputs": [],
   "source": [
    "temp_list = [i for i in range(1,5)]"
   ]
  },
  {
   "cell_type": "code",
   "execution_count": null,
   "id": "2b630a96-49f2-47d5-8569-83ee3998ee0d",
   "metadata": {},
   "outputs": [],
   "source": [
    "temp_list"
   ]
  },
  {
   "cell_type": "code",
   "execution_count": null,
   "id": "b901087d-759d-4586-9e32-90906e9d9a15",
   "metadata": {},
   "outputs": [],
   "source": [
    "res_mul = 1\n",
    "for i in temp_list:\n",
    "    res_mul *= i\n"
   ]
  },
  {
   "cell_type": "code",
   "execution_count": null,
   "id": "b2755ba3-4bcb-4aaa-845c-f8594940c792",
   "metadata": {},
   "outputs": [],
   "source": [
    "print(f\"result is {res_mul}\")"
   ]
  },
  {
   "cell_type": "code",
   "execution_count": null,
   "id": "d1e77164-fcaf-42f7-8636-137c8144cb38",
   "metadata": {},
   "outputs": [],
   "source": [
    "#Python program to print even numbers in a list"
   ]
  },
  {
   "cell_type": "code",
   "execution_count": null,
   "id": "0a185bf2-5fec-477e-8b44-98c1c30b8eff",
   "metadata": {},
   "outputs": [],
   "source": [
    "even_list = [i for i in range(20) if i%2==0]"
   ]
  },
  {
   "cell_type": "code",
   "execution_count": null,
   "id": "8b18a012-b3d6-490e-810b-0ffaaeee989c",
   "metadata": {},
   "outputs": [],
   "source": [
    "even_list"
   ]
  },
  {
   "cell_type": "code",
   "execution_count": null,
   "id": "fd3c5d35-747c-4064-a6e7-86c8293ee3f1",
   "metadata": {
    "jupyter": {
     "source_hidden": true
    }
   },
   "outputs": [],
   "source": [
    "#Program to print duplicates from a list of integers"
   ]
  },
  {
   "cell_type": "code",
   "execution_count": 23,
   "id": "65e73ae6-e860-49cb-b7da-be4b6d64a438",
   "metadata": {
    "jupyter": {
     "source_hidden": true
    }
   },
   "outputs": [],
   "source": [
    "temp_list = [10, 20, 30, 20, 20, 30, 40, 50, -20, 60, 60, -20, -20]"
   ]
  },
  {
   "cell_type": "code",
   "execution_count": 24,
   "id": "d336255f-f418-4c7e-83fa-e70ff1367d41",
   "metadata": {},
   "outputs": [],
   "source": [
    "res_list = []\n",
    "for i in temp_list:\n",
    "    if temp_list.count(i) > 1:\n",
    "        res_list.append(i)"
   ]
  },
  {
   "cell_type": "code",
   "execution_count": 25,
   "id": "6a178335-449d-4734-9445-5f39014fc218",
   "metadata": {},
   "outputs": [
    {
     "data": {
      "text/plain": [
       "{-20, 20, 30, 60}"
      ]
     },
     "execution_count": 25,
     "metadata": {},
     "output_type": "execute_result"
    }
   ],
   "source": [
    "set(res_list)"
   ]
  },
  {
   "cell_type": "code",
   "execution_count": 1,
   "id": "1f3dcf81-40f9-4287-b606-0aecaf2a97fd",
   "metadata": {
    "jupyter": {
     "source_hidden": true
    }
   },
   "outputs": [],
   "source": [
    "#Python program to check whether the string is Symmetrical or Palindrome"
   ]
  },
  {
   "cell_type": "code",
   "execution_count": 2,
   "id": "d8a9449d-bf9c-4490-8ac6-2265282ced57",
   "metadata": {},
   "outputs": [],
   "source": [
    "str = \"ashishkumar anil baranwal\""
   ]
  },
  {
   "cell_type": "code",
   "execution_count": 3,
   "id": "ad10c1be-0b70-4fc0-bf1c-c3362d0e7990",
   "metadata": {},
   "outputs": [],
   "source": [
    "s = str.split()[::-1]"
   ]
  },
  {
   "cell_type": "code",
   "execution_count": 4,
   "id": "358b547a-3ece-467c-89a7-715273b75e46",
   "metadata": {},
   "outputs": [
    {
     "data": {
      "text/plain": [
       "['baranwal', 'anil', 'ashishkumar']"
      ]
     },
     "execution_count": 4,
     "metadata": {},
     "output_type": "execute_result"
    }
   ],
   "source": [
    "s"
   ]
  },
  {
   "cell_type": "code",
   "execution_count": 5,
   "id": "5167beb2-0a19-4d3a-905a-8d89dbc09d85",
   "metadata": {},
   "outputs": [],
   "source": [
    "new_str = \" \".join(s)"
   ]
  },
  {
   "cell_type": "code",
   "execution_count": 6,
   "id": "a507e0da-f5bb-4a0a-98c5-f2d612bae624",
   "metadata": {},
   "outputs": [
    {
     "data": {
      "text/plain": [
       "'baranwal anil ashishkumar'"
      ]
     },
     "execution_count": 6,
     "metadata": {},
     "output_type": "execute_result"
    }
   ],
   "source": [
    "new_str"
   ]
  },
  {
   "cell_type": "code",
   "execution_count": null,
   "id": "59d6284e-2348-45a0-b30d-98d303b709b2",
   "metadata": {},
   "outputs": [],
   "source": [
    "#Count the Number of matching characters in a pair of string"
   ]
  },
  {
   "cell_type": "code",
   "execution_count": 1,
   "id": "25931f46-a54b-4043-8a0c-5bb1d3fa6e3f",
   "metadata": {},
   "outputs": [],
   "source": [
    "str1 = 'aabcbddekll12@'\n",
    "str2 = 'bb2211@55k'"
   ]
  },
  {
   "cell_type": "code",
   "execution_count": 9,
   "id": "4e382490-1f36-4647-9cb6-48b35da9b007",
   "metadata": {},
   "outputs": [
    {
     "name": "stdout",
     "output_type": "stream",
     "text": [
      "b and 1\n",
      "b and 2\n",
      "k and 3\n",
      "1 and 4\n",
      "2 and 5\n",
      "@ and 6\n",
      "6\n"
     ]
    }
   ],
   "source": [
    "count = 0 \n",
    "for i in str1:\n",
    "    if i in str2:\n",
    "        \n",
    "        count+=1\n",
    "        print(f\"{i} and {count}\")\n",
    "\n",
    "print(count)"
   ]
  },
  {
   "cell_type": "code",
   "execution_count": 7,
   "id": "97c39caf-6012-422b-96f2-c11adf1d78db",
   "metadata": {},
   "outputs": [],
   "source": [
    "temp_dict = {}\n",
    "for i in str1:\n",
    "    if i in str2:\n",
    "        c = str2.count(i)\n",
    "        temp_dict[i]= c\n",
    "        #temp_dict.update(i,c)\n",
    "        "
   ]
  },
  {
   "cell_type": "code",
   "execution_count": 8,
   "id": "487481db-0c50-48c9-98d2-bfd902294cf4",
   "metadata": {},
   "outputs": [
    {
     "data": {
      "text/plain": [
       "{'b': 2, 'k': 1, '1': 2, '2': 2, '@': 1}"
      ]
     },
     "execution_count": 8,
     "metadata": {},
     "output_type": "execute_result"
    }
   ],
   "source": [
    "temp_dict"
   ]
  },
  {
   "cell_type": "code",
   "execution_count": null,
   "id": "7c16d576-92c3-4b96-8a6c-6297fde13b1d",
   "metadata": {},
   "outputs": [],
   "source": [
    "#Remove all duplicates from a given string in Python"
   ]
  },
  {
   "cell_type": "code",
   "execution_count": 10,
   "id": "b14ddafb-70aa-40c5-8625-eb513dd80dd7",
   "metadata": {},
   "outputs": [],
   "source": [
    "str1 = \"geeksforgeeks\""
   ]
  },
  {
   "cell_type": "code",
   "execution_count": 11,
   "id": "022ab969-554b-4f3d-b0f2-5849bd894dbd",
   "metadata": {},
   "outputs": [],
   "source": [
    "s = set(str1)"
   ]
  },
  {
   "cell_type": "code",
   "execution_count": 12,
   "id": "4425aa8b-3fc7-4da0-8fb9-0ddd3bfce43f",
   "metadata": {},
   "outputs": [
    {
     "data": {
      "text/plain": [
       "{'e', 'f', 'g', 'k', 'o', 'r', 's'}"
      ]
     },
     "execution_count": 12,
     "metadata": {},
     "output_type": "execute_result"
    }
   ],
   "source": [
    "s"
   ]
  },
  {
   "cell_type": "code",
   "execution_count": 13,
   "id": "0b029374-7798-4d71-9d8c-98d0f769d558",
   "metadata": {},
   "outputs": [],
   "source": [
    "j = \"\".join(s)"
   ]
  },
  {
   "cell_type": "code",
   "execution_count": 14,
   "id": "80a0acc8-ebd0-4ac4-b16c-e1fb81495c24",
   "metadata": {},
   "outputs": [
    {
     "data": {
      "text/plain": [
       "'erfogsk'"
      ]
     },
     "execution_count": 14,
     "metadata": {},
     "output_type": "execute_result"
    }
   ],
   "source": [
    "j"
   ]
  },
  {
   "cell_type": "code",
   "execution_count": null,
   "id": "2ce8f394-2612-448a-ac73-95461e8ad853",
   "metadata": {},
   "outputs": [],
   "source": [
    "#Check for URL in a String"
   ]
  },
  {
   "cell_type": "code",
   "execution_count": 8,
   "id": "2718a533-6d6e-4022-803d-d8aac6cbdf3c",
   "metadata": {},
   "outputs": [],
   "source": [
    "import re"
   ]
  },
  {
   "cell_type": "code",
   "execution_count": 9,
   "id": "0605ffa3-56dc-4193-bca9-5b464ac9300a",
   "metadata": {},
   "outputs": [],
   "source": [
    "#http://www.google.com"
   ]
  },
  {
   "cell_type": "code",
   "execution_count": 10,
   "id": "6e3abf23-ace0-4363-bb79-f353ca2ac46a",
   "metadata": {},
   "outputs": [],
   "source": [
    "pattern = re.compile(\"(http[s]?://)?([a-zA-Z0-9-]+\\.)*[a-zA-Z0-9-]+\\.[a-zA-Z]{2,}\")"
   ]
  },
  {
   "cell_type": "code",
   "execution_count": 11,
   "id": "e057540a-3178-4ee6-a91a-45f0ac679b3d",
   "metadata": {},
   "outputs": [
    {
     "data": {
      "text/plain": [
       "re.compile(r'(http[s]?://)?([a-zA-Z0-9-]+\\.)*[a-zA-Z0-9-]+\\.[a-zA-Z]{2,}',\n",
       "           re.UNICODE)"
      ]
     },
     "execution_count": 11,
     "metadata": {},
     "output_type": "execute_result"
    }
   ],
   "source": [
    "pattern"
   ]
  },
  {
   "cell_type": "code",
   "execution_count": null,
   "id": "09f6c691-099c-4e80-9d47-8182bd86a85b",
   "metadata": {},
   "outputs": [],
   "source": [
    "string = 'I am a blogger at http://geeksforgeeks.org'"
   ]
  },
  {
   "cell_type": "code",
   "execution_count": null,
   "id": "01ef43d1-7427-44c4-9ea4-e8c7112c625c",
   "metadata": {},
   "outputs": [],
   "source": [
    "res = re.findall(pattern, string)"
   ]
  },
  {
   "cell_type": "code",
   "execution_count": null,
   "id": "1fede967-7028-49d9-9940-c1c2d1132739",
   "metadata": {},
   "outputs": [],
   "source": [
    "res"
   ]
  },
  {
   "cell_type": "code",
   "execution_count": null,
   "id": "dfff5a94-90f7-45cd-b8f3-b8529f40163b",
   "metadata": {},
   "outputs": [],
   "source": [
    "#Lambda with if but without else in Python"
   ]
  },
  {
   "cell_type": "code",
   "execution_count": null,
   "id": "dc99836e-0e30-4b50-a3ca-9f825547fabf",
   "metadata": {},
   "outputs": [],
   "source": [
    "x = lambda a : a ** 2 if a > 2 else None"
   ]
  },
  {
   "cell_type": "code",
   "execution_count": null,
   "id": "4108140a-670d-4619-8c5d-0eff8a489b38",
   "metadata": {},
   "outputs": [],
   "source": [
    "x(7)"
   ]
  },
  {
   "cell_type": "code",
   "execution_count": null,
   "id": "33296208-3a1f-48d7-a3c9-85ddc6eb1dea",
   "metadata": {},
   "outputs": [],
   "source": [
    "#Python program to count Even and Odd numbers in a List with using lamda\n"
   ]
  },
  {
   "cell_type": "code",
   "execution_count": null,
   "id": "4d462e02-9610-44b3-ada2-8931fcb0c925",
   "metadata": {},
   "outputs": [],
   "source": [
    "list1 = [2, 7, 5, 64, 14]"
   ]
  },
  {
   "cell_type": "code",
   "execution_count": null,
   "id": "45a4c532-7918-470a-ba20-d126d9c2e111",
   "metadata": {},
   "outputs": [],
   "source": [
    "even = len(list(filter(lambda x: x if x %2 == 0 else None, list1)))"
   ]
  },
  {
   "cell_type": "code",
   "execution_count": null,
   "id": "fb66ec70-7250-4495-9e3a-59840f9db844",
   "metadata": {},
   "outputs": [],
   "source": [
    "even"
   ]
  },
  {
   "cell_type": "code",
   "execution_count": null,
   "id": "45e5599a-4dd1-4778-b78c-26a091626c6b",
   "metadata": {},
   "outputs": [],
   "source": [
    "odd = len(list(filter(lambda x : x if x%2 != 0 else None,list1)))"
   ]
  },
  {
   "cell_type": "code",
   "execution_count": null,
   "id": "5b68bcf1-4a03-44ef-92db-1a7e27d181ec",
   "metadata": {},
   "outputs": [],
   "source": [
    "odd"
   ]
  },
  {
   "cell_type": "code",
   "execution_count": null,
   "id": "e7facd90-53db-4c3d-a32a-c297d2a32df7",
   "metadata": {},
   "outputs": [],
   "source": [
    "#Program to print half Diamond star pattern"
   ]
  },
  {
   "cell_type": "code",
   "execution_count": 13,
   "id": "1c695ecf-7e52-4801-a913-4aa88fa75742",
   "metadata": {},
   "outputs": [],
   "source": [
    "n = 6"
   ]
  },
  {
   "cell_type": "code",
   "execution_count": null,
   "id": "9df58751-dd14-4a4a-a173-ec02ad374a46",
   "metadata": {},
   "outputs": [],
   "source": [
    "#second option"
   ]
  },
  {
   "cell_type": "code",
   "execution_count": 1,
   "id": "db41c75a-3001-47c1-ac17-b8b919c3eea5",
   "metadata": {},
   "outputs": [],
   "source": [
    "#Full Pyramid Patterns in Python using Loop\n",
    "\n"
   ]
  },
  {
   "cell_type": "code",
   "execution_count": 3,
   "id": "e6e0111d-7574-4d13-a3f4-e664c2888bf4",
   "metadata": {},
   "outputs": [
    {
     "name": "stdin",
     "output_type": "stream",
     "text": [
      "Enter multiple values:  1 23 4 5 6 7\n"
     ]
    }
   ],
   "source": [
    "x = list(map(int, input(\"Enter multiple values: \").split()))"
   ]
  },
  {
   "cell_type": "code",
   "execution_count": 4,
   "id": "e92ab2c9-ffc7-418e-b516-452b5744f3f6",
   "metadata": {},
   "outputs": [
    {
     "data": {
      "text/plain": [
       "[1, 23, 4, 5, 6, 7]"
      ]
     },
     "execution_count": 4,
     "metadata": {},
     "output_type": "execute_result"
    }
   ],
   "source": [
    "x"
   ]
  },
  {
   "cell_type": "code",
   "execution_count": null,
   "id": "cb5fac86-975d-45e7-904f-dc95e15b5fc7",
   "metadata": {},
   "outputs": [],
   "source": [
    "#Python program to get Current Time"
   ]
  },
  {
   "cell_type": "code",
   "execution_count": 1,
   "id": "42dcf7f6-ef35-4288-83c2-5f36ee09c31c",
   "metadata": {},
   "outputs": [],
   "source": [
    "from datetime import datetime"
   ]
  },
  {
   "cell_type": "code",
   "execution_count": 2,
   "id": "9cafa9cc-245a-4e1e-b4f2-64a2539a3c1b",
   "metadata": {},
   "outputs": [],
   "source": [
    "current_time = datetime.now()"
   ]
  },
  {
   "cell_type": "code",
   "execution_count": 3,
   "id": "ccc48d14-9b6f-4e38-88c6-7a99f87033ba",
   "metadata": {},
   "outputs": [
    {
     "data": {
      "text/plain": [
       "datetime.datetime(2024, 5, 4, 21, 16, 14, 243503)"
      ]
     },
     "execution_count": 3,
     "metadata": {},
     "output_type": "execute_result"
    }
   ],
   "source": [
    "current_time"
   ]
  },
  {
   "cell_type": "code",
   "execution_count": 4,
   "id": "aa204f04-14ea-49b0-a93a-950093ed63a9",
   "metadata": {},
   "outputs": [],
   "source": [
    "curr_time = current_time.strftime(\"%H:%M:%S\")"
   ]
  },
  {
   "cell_type": "code",
   "execution_count": 5,
   "id": "6f4daee9-b6f6-454d-8dd1-4152eaee2f93",
   "metadata": {},
   "outputs": [
    {
     "data": {
      "text/plain": [
       "'21:16:14'"
      ]
     },
     "execution_count": 5,
     "metadata": {},
     "output_type": "execute_result"
    }
   ],
   "source": [
    "curr_time"
   ]
  },
  {
   "cell_type": "code",
   "execution_count": 6,
   "id": "ca5df0f9-10e8-429d-9717-1a4dbec93ea0",
   "metadata": {},
   "outputs": [],
   "source": [
    "date = current_time.strftime(\"%d\")"
   ]
  },
  {
   "cell_type": "code",
   "execution_count": 7,
   "id": "4671bad7-d478-4b4b-aedd-6eb387007fb4",
   "metadata": {},
   "outputs": [
    {
     "data": {
      "text/plain": [
       "'04'"
      ]
     },
     "execution_count": 7,
     "metadata": {},
     "output_type": "execute_result"
    }
   ],
   "source": [
    "date"
   ]
  },
  {
   "cell_type": "code",
   "execution_count": 8,
   "id": "b9b0bd5f-315d-489c-bc0c-c5b944a7e2c6",
   "metadata": {},
   "outputs": [],
   "source": [
    "previous_date = int(date)-1"
   ]
  },
  {
   "cell_type": "code",
   "execution_count": 9,
   "id": "568824c1-c331-434c-81ce-07a3abee3fc2",
   "metadata": {},
   "outputs": [
    {
     "data": {
      "text/plain": [
       "3"
      ]
     },
     "execution_count": 9,
     "metadata": {},
     "output_type": "execute_result"
    }
   ],
   "source": [
    "previous_date"
   ]
  },
  {
   "cell_type": "code",
   "execution_count": 10,
   "id": "a7957aef-9eee-4da9-aa98-3c2a5691199b",
   "metadata": {},
   "outputs": [
    {
     "data": {
      "text/plain": [
       "str"
      ]
     },
     "execution_count": 10,
     "metadata": {},
     "output_type": "execute_result"
    }
   ],
   "source": [
    "type(date)"
   ]
  },
  {
   "cell_type": "code",
   "execution_count": null,
   "id": "6eda38ea-7c59-4e56-88ab-b367d1283c4a",
   "metadata": {},
   "outputs": [],
   "source": []
  }
 ],
 "metadata": {
  "kernelspec": {
   "display_name": "Python 3 (ipykernel)",
   "language": "python",
   "name": "python3"
  },
  "language_info": {
   "codemirror_mode": {
    "name": "ipython",
    "version": 3
   },
   "file_extension": ".py",
   "mimetype": "text/x-python",
   "name": "python",
   "nbconvert_exporter": "python",
   "pygments_lexer": "ipython3",
   "version": "3.10.5"
  }
 },
 "nbformat": 4,
 "nbformat_minor": 5
}
